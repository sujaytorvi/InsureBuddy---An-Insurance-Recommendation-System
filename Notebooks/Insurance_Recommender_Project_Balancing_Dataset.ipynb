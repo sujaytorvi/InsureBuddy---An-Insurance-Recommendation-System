{
  "nbformat": 4,
  "nbformat_minor": 0,
  "metadata": {
    "colab": {
      "name": "Insurance Recommender Project - Balancing Dataset.ipynb",
      "provenance": [],
      "collapsed_sections": []
    },
    "kernelspec": {
      "display_name": "Python 3",
      "name": "python3"
    }
  },
  "cells": [
    {
      "cell_type": "markdown",
      "metadata": {
        "id": "wp5OVfkOcM-r"
      },
      "source": [
        "<center><img src = data:image/png;base64,iVBORw0KGgoAAAANSUhEUgAAANwAAADlCAMAAAAP8WnWAAAAk1BMVEX///+oHhyiAAChAAClAACoHBqmEQ6eAACnGBb79fWlDQn9+fmmExD+/Pz68vL47u7pzs7w3t705eWzRUTetbW4VVTozMzu2dnEd3aqIyG+ZmXWpKPCcnHt19e6WlnRl5bivr6vNTS8YF/ara3IgYDgubmwOTjkw8POkZDIf361TUysKSe/amnKh4a2UE/PlJOuNzVTS+tYAAAdNklEQVR4nO1dCZeiPLOGSgExgqzighuioKLd8/9/3U2CCyAutHbPvN/t55wZbRekktpTqSjKL37xi1/84he/+MUvfvGLX/ziF//vMA2C4kk28v/unbwftgGkJ58F8D9HXIIUDvLZ/yBxS+abKKfuRNwgC7t/9Zbehi6AO8KNeFoQ56aEEIzEC473V2/tdSwgV+YIHf40gr6i9BD9zw8kCX8BDWe+Tay/fYttkK2WmwvbTbjAdRHnypG4Fab8aV+nfA6JigaB+D/EoxPOdaD2Tn8yyLr2WMfOkbgUxJwlSFwlQM6dmQ7rv3i3z8Pl/xKiZVmKy+NLIWjIiaVi6iRxOSzEpxCmyhB3/KkviZvH+m7xl277CViKb4Sc4SAQJBlHXXFgupanfZ+ipRxgrygzEMplaXLbl0u1EpOBeBVjJPO/ef8N6CTF4yIn/h/Gbz7FzWdq5NsjcbmUNsUW+lES5xgYeHPEvWIDOPwdwC7XoxgqHgX7fN1k+uOkXGEKxkA8LgjsN1TjSnGv4zLxxEQKDAgUdzkmoKwMwawbIZPgd7keBUtoU65guCUMbP6Zxem6PSCbn6emjph9iIc/uFIUD/j0RIB8/LdHp+TADYGE7XhWz5Mz434u92K+V4Ywexs+nR1GY8NYxlIcJYYM3J8lpAkZQMYfUHCYMuFq3qJ6HmxOMnfPhtlr4VD7EHHbR7p20j8LquICG37vfT+HmS7mZiR1A9eBA2WKQAjLnv3+cLTg8w9cFXnK4vTiUsfe7a/8ENY5jBgfeq7VR/zPDbIt1zHBfN3S61gbLDkYs5M1Dwl+nt/7W1QGxmjq7ZF1FY+wZRiRmYlfu9Ii567KmaDUNM+jk5Hk9Rv9CnLpbaRCeSQEiTHuAHxVhXvO2QsLAC4E9Y3+i3f5NXRRqjeuU7gimO6XkSD0aWE7onM9MSMzPj+fKtHPhw6u0OoxE6PaQzYWL3kWH3PS+lZArzkm3MI7p+cDoy8mdB68dLPtMOfe/NASoQwfdwcZt+QhkpFJSNT6WqlZ/ZJFiH5+IWUihnCI8XOCNyHpBEXoolE8zNkkEoK25CHo+AuWdwU0rrxgTwC0YqoiELa8p0sSvxuJlKgB8aVvHCgu40bt5Et4XvvAzLEEG8Cg+qo7IyQNpd8pnDCfqT9gDyKCQqQCMlRCjU6VjtLbjFevCPwBNlanCGUrCFNi2EqfCeu5Qgx+IFq3TT3vClUdH4w9f3g9ykwAR90lfDS8EwmTEIpfo2AYn9efeDcGIPxkGzRhA5akrdq/RkbQHHHJanqvBzgRbqbuTzmf/kCstyC4lYwytxcMn5WxbLJf+jn2V1uOYaf8lr1BfaTVhU7CirCjdEcm7cqA4/Wbvw9+C3MQrmSKQpE4j79RICBMQJf/G3b1Tc9HFZstCJe0GUPB/B6QTuNH3oZMBKYT5NxobfJ4dV+DecnynF8OMd4t99scNVVDciFuvM3ELQ9Bn9y4SmCgcH+Ug3TMvxNLFA6Jz7CuH926eZt+poC6cUV+TLXORfH1CAP84O7V4XaePYqMSOgd+G4fhfMG116dka6VWaS79gngvqRcFvsYqabR8ZWRiCktyelgB8B0JH4wZrd1fQ6TJQB38IJ+uv+m8HwwFVZJeAoukLJidjWgXAKNvBhb+5MC+EA1LI+1vVkt/ViNNVpRQp1spQFSHMW3LZmrEyATmSDjUfC35I1cJNuOwiR3LGq5m0m69twoNeLQU1ZctwPb2B7o49JHRshMSsV01jSspXhzU9Uo2dz0Bax1widsjObYC0f5+0i6IAAVMUnwzsWnKZDegoAvp4xRepkMBzQELoU14pylyQ2mC1qsGRmZ3eO5KTEh7imR8S1T98H6sRGrcNPtt7e6xkVjyH/d60cif3UxFSFXCJ7XqclcZCBydXFgmCjhGHQybjJ3BT5haENubUTe973oRWLVgvYiIR/NH+lukGnmXvKWQ3RjkxVObwEbinC6QpyFuEwyV2GayAZ5W65cSHTLEZmThItGbj7tODyLjkbyRZFgXN1IJ3KyTaYdeVajMFc6SEtxygdKHq0Q14OZeMhA38u/7SEZ7SFv9uk80ufiiTL0e93rKyOIgfhhLgxB48Ctc+7c7jZYSp0rUaqVzHVoSHausuVIHVjunMtdeCiY3Qv+8AvtG72DuUHNwBXG/mC8ORm9jgmM6A1t0iMmjriT5FMQ99VFXdiLvGIMJtLrqskc1/HEzzU1I7A7vYY6a04yRUiEV9Dtgz60mz7wAhYpUKPRm1x/JkWiYGwy6UZtDCdgFLUjuxX4I5yQvEIctxsAqcYOKZhnRWWPyUzk5q/RFcGwl/P4GMi7lvSi5cdBjlSWNl7yQEgiPJaByihZStHaGAago1GzZJk75qyr7FjVztnZdEdhsVgvsQjpevxKmWaif8NxXYCOUW9O3hQjpIQ7V5cVijo6H1CwXxcppI5IiotXw7CrTPQLf3XdrjezFSemte/3gP4RjzKb15khzqaKl2oma2SSA2AuVpCi9/DlkCzDIGfkhgVydF0tUpWOWOJRPO0i7WvjkkPuGXxmepyzoV9VSRHKcMdGwbUpN/Sw5N6rRrXGPNrBGDe8+lX05BKU1cd949sZoWjSWHCfDWJSDqiSs7EIh5e0VsbVZUIw3ZHq8k1qihXHaSzWWx1jm0X+RPFN3Qczb8g9KCcVtYknr+eMQiIXt11oDKfWRINoqTP5mb64y4AHns12eGhkyo5TsK+a4ZCIdXKubrmwJZJne1vknOrEyPxbBrurDAyivmzOvSLf5UFT4jAAjSyUDhU2W3zmT+ZlPBpoJs4akYWY4S1UQ+ohnwyCIhPECd2Hg2nChVj85h5Y2nj/Wc7dCS8gtwLc55HqdCoWfRvuOCIainsacBqF2Lk5V5KASGijMrBNMs7CT6zFpV1OgD0vWHnEg5qUasfEEw/Q8wbe6wH3QlNLWRkvB3cuYZiq3GW9emcOmsakQUo4lVJ9rSezldsZ3vAg7FgshhuLOz+G/JoanL6+4oJ3TZ1DZtzhSXvj2z78UxBc4e24H7G7Vr1bU4+pBlv5HCsZ8Zt6Opils8W9H7QSVZMS7K3FtGzAxKuLdcVvegDmS5lFN2V9wWDTdYMdGIIad3mYVizs+yY+koDpU+P8iXRkCapACsLGaPBVImPujE36WiYTERkZN0/DBqjIPSeoSup6THvEJJ7Rf6zeuPpFV9pqKLJkayXQriQi87mfEnNx38wCjL6UaeehcZQDa1R+CVDGf9ummqlJVRlyo/AgRiZs9FADTJjwGrnK2HgbIjkzMcjs6mMzVmRxYoZ3nKd7WKvi2pTL+NXYLIoB7uY8PkFN8kdkPFp3TCl96O9mhuCDtTD0FoL8o6/DlX4KxK8rU+6psq9FP8FKBjjdw/UahGdoRAijr3OeDPiciZXBcPpgBWvIVA0erGd0pTmdi+Qvv7hcQuhyrXWlOVy5ioeQwpcWJTsEsSgCcq8m7nMu65iWKCMcbgieWk/l8qmqx8Kim5DjM+ROzB5w6sY5532qa+SanwNu+GdeV/1a7JNwfeI3ilFCZIpyC5op/+bGnDyRD3ZAfYI6gWUuLuoqParHm5gs4XrweDCRfs0SHL/FdRaZXCtLlytKS/Cmqpo7OdJzc9fwuev7USV1jYFoBWMelvccYT5RmoTD4nBFHZVLCEq3ra50zeMTb0awviYjUgXFmgwlhBiFP/3UL3Q1raDuoX2aHOMaNgsmMlfrA9Q9lcTgIhHsqDppt/qzuuQGw/wqftqidhr9btdrM3BxQZz6kIfDgnybnNyeEPRl/UOB0uNxESOkHv7exwxLV6qP2Bqoyd329AsL4X9oQZz2ZLVhh7ClnJbOhEfEi6v3+XziqvfZropjCift1HHqjhcXZL0bII9y2uvg08ypVHsuFNujjpOAewy6pmtYZxKXoOv/4aHEtZG/hw/cKnYY7VO8iiomcinEi1GDcctg0VJPxKmkOa6/wgxgP9hxB5Zy3bKtvemQg7I2nB62I84hpkkAGbuqMnCAFuHYgWisOYdzEz08E9fEZI1YRxGYVIQBvq7Wps42uB9Dd3mbyEdcwudeARBteahzZUpVfShnLENdu/aL7qGwc0exY89N+9TnLBILa+sC1r2bJUyyBBpzBDdgkXHI72OUNQl9xFWJxgpxEzk98FvolTleiFOvmKwJnQmh+slyjM26OejlxFSeutAJicEgj+JGhcZ9WbrW+Vim0nOZcys4e17wfFoiToMnhiXnP9X3FGu4EE6yelX23I0mnVZWzp6LMEe7UT8tSgMPXAqITKw5UYtLe0QtQ38iAUmRCtdxAnRCTH5TjdUqovitheYOxwQpDK/9yslU+uOeDxq7UTlyGxuoEKc2OMN1GFK8Lappuk5WIdRzSyI04NqPAmmj2np8+gDimueViapHgnyY1lTIeStl2S3pSgn2ODNX/EDGR8UUhRET/2o8lka4Br/XVDt2D2L6arp3rKO1LrYRWAdiUmPZgis/sUqbquGT3x4CU4vVCGVdc7otioMF7LjD2HbtoLeo/m2LjQw7XSv+cnfQphbRhtrEcYX5pKRM8BML/2RCoEqEZX4oC/ijbFrxZRMihKkHOFeC2Vb8VKtc/Viv06bSJ3nJ6gqeERpf/noFS7QGMFI049Ui79iMlQ2C1wcwWvI4d7evaONuytNcbRt8mu25qmla9Y3MmESoKutX98ZMxUo3NZczwEXQshrErmuTgrjnQ+ms64wBqX6VTlkSgKtoqD2GDHoOaCP4YysDsonabGXwzQbaVPZExqGAHY1Ap9x3Ns36z0bLzzeUCJtkpngGkrGluL4ozH3+q8O6pjwK3e7RF61UWNNQThrE3GUYGvH3lF0uHBEjT0WETPVli+xM1CRwwhg8jKFTUSaoyknbS33ovb1+qA6xgNYilnOurcCRuOtFjhoyoi9tYsLoTWvgT6CHRos1CK9RmRQa5aEHFoK/NpbfPl1ldG7Xn10jprdoUx8XSS+M5F9ucbBqViYFcY8Et3PtKv9LcG8J3FPELek3l6S/hn6jhTsR90CYope9qm/F9IYVeErmuvmr7vD3YsvuEvcPbAV/AfodieNBz49Zr++Ac5crNfMNXuHfQ3THDnDf8p/W8w+xuity7PFK3b+Mhvi7LHL/jQ42tzC7Z+VU8p/WJ/dnjv7EDuJvxF2Zu1G6+J/BPW351GrBv4x73pf5hrzO34V520P5np1wP4nbvuV1ecJ/Djf58j8vcQIfNyzd40qbH8PXHdwpaaRNf8mtfK+//UIFf2NCltKXdjy8d3/gC35SV7vOfj1bQnQL7xXXNqm8Oqakbg4ovpg+eG8A/9LNJKRO26s3994krfOSiMwr9oCNXuUq6717Vt3X+CgqcWZ9i9lX7ua9M9d5bWOJqGM8qpJ3NHZM3mz/X93w5MZyOURrXb3ShP2b80q7l3lpAzxw1d/S1/HdeaXt6+kOb6+r2o292K0QllzutzBo0q5gs/ka+Hh14BnsL6zdwfQNgZPbukTnGmKh7g0RaqfUeuITnyjkb4a7mU2iwsJZr2u5UFq79n0G65iXkmb9L/eh2Bho6njs/bN7viLmBnbSGrzcKrZb7siyxfj2J5tgzYvfF3s1AVArdk59kqeLRpqRwXuC1E8olcbaV1367iM0j7svUMO53ZuDJovJQoDXpC4/mvFnikjvwIZyD7zFgqktqMuIRuWW2SkwOURR8dg9Nuj8Ki61KOQlhTlhJZFzDTai0A+eZIYuanpRlJ2cthSmVArt0nylk4V3WRqXe1K/igUpLw0FhmhrZCLRx1H42LdPztuG53jcppkUG9QTfFwTcxvl4u2HW3dvo4fVLfa9cD4G0biJKz5Mhw84dGyeWPrcUdMuihz52Jtf9nsOlVzD13YrCuzMhqVmb7Hp64BMf8TwOT11vj4TZx0r1fngt6rhL6FWbflw6+4trFCtdmj1TnNlucEqfeRojKh+lAhO3DEm/AOSj6T39KWEnFNPNHyRwUXQW+bK7owAlNrgPbLn6bn5THIirouF2pRVyl/pGDC9Lv6ioy+E9lLhlj2clGt2qgO93eutiol+GtQEj+2RkpOTsheLbe1bGU+baojMUeu5i0QqxizVHx+Q0lmOnMuJnzwzWGcDIMq15cxl3IoX3wyf3lBbxqK5PorSllmiQ/Hri/MLPTRTcagKMqZRxNn88xGBNjn57Zuim9yktE+6qL+DZRs7tblK7J2oa7UzvzuTtJXrtxN56AP3Eg8HxlTNhMdu5kw/KsmUSlcggotTmRRKj8VPD3pndnuBToPnfehBXqwWldXJsoh2DmShdPeoovFYYFxCRwVRhSvgxSXjcVxto8/GP2u8X83wbG3XgdDjeJRCk+JsC8WX63wfEDwz4nOgbBjxEW/oNnLeAYfpEw6iN7tXjliw5vCJQCrLTz9bjkx7xe6QHspdM86TQctK7OYyG2fnstmIktmDUfeG5G6dRgEGmwfkhbtTWrBqHjtEyk9YbHy0G1pvNCLzCRDRG8AKo6g6faXNiybcOwDJ2cPd4qEzNMR7W4KCFC5eKVZmR9VF5X5UeBg2edo1tDw+nO6QAHJ/tOII0hKjmYCrxnPk3PkI7pfrVchjxG88b6GTDbFEGpe4yo/NQWwzHhZuhUNaBWRbYFRE4iaUv5ZA9b5AX87DErN0p8kwhtv16M3gP+SvKhrByz77CKxynbrv9yHaGk6KJiTDNo5hJ0cKfjR1E7+aYPJrq208mgICsd8fTybLFPlk67er0e/RJ84G0P39ZDLu+zn3GZHWRohe2TExZxvUPOEptMheWLHO8nNvjXKewmlaBtY0auq6btbvpy3kZUzafJma9j6yiwcUlx/QJkZcIV6YcVn55rB5kfvbUclydPaEsIOcrIjoponx815TB8pFZ06l4Xz3eVXxTlQ2gfZyHjlzQd2K18IZwUOL7GUI5Yp/u9o5KfsrU1dJ4Pg65v0R9za+El8GUB4nryatk7u1vd+DClMuQLZlXYxAw7x11iqsEPeJtXMg7uzO+SbQkeS74HiU3WkTTIRCp7fMWXC/7eI7ulcZS/dWGPNtKIrgelC0RErP7f07B6JT2LdLYi8vG4QcPjiuVW0k2Li99htxTG5E3OslXHf4pY3T3hgoqbfbuI8BOap/b8K/m9gjzCv66PCj1B3vZW97fUJRD4aVHJ6TXvW4eYCIMG2TbHzCGCwcoLTWE2n2gyrzWCfGnYmFEnJHGmnt0I3WSytzwhBRRzLpJETT4v2mIrdW+kQ88x7QUaHchsX5dIEpule9WPPn7ilgOu/JxmwAxWEPF3ToD6lMej6QJBCNi3oyo6rC+MVewJbdk02ONViGXsad9EpXJI/9CHUaVhYA1kKN97ZEb+5M2Q7eiAc+C/l0C9XToTz8Aepq/V08o1CN3hJMxBfPewmRsvjEFppe7cjwA9RRrFnoiNAitej4QCF+pQgsIhpcchMpVatve/SbtQplVUW4D5Spph8bnBZnJHy5UoOrklJSiRuEel8EO7+bunsVeq2+70By2bSKHj0U7n21tN8XuAYtHWPkoWZOgrBqL7u7b3SisV6TFRTHKh3glM/trr6+HSgp7Wvg0keRGESvLRxOHuUmvwoNrlvWxcUpngtuyP2Xi34utkR0Eo8DN9thPZ8ZwbeoFdq0WLY4nojlpWji24ouL9K31+vbVKbmcxnKVmBmo6ZI9WOFzR60N+1M6H7gWfo6cFVI0t2/mzW529CcN8jOh5lxhnli5eMxvJyZ7GxL44YjXtb41snTb1cE+KepU6ZvadvAVUnpOJIeNm1Y7I3fN3nctNaVhbs5vRLCeVnPfsOmUNco662uT5t5fUHbpplvkIZ0Ub+2h9yvPcanH6xlKdt9fJY6u3gjnXFusJzwetg27+BNhg2LS0kOTIc4EXLowBvOPy3honMlh8oTjYF8XC1h2RPCXpo9TW9qGz3lP+RMxKIFiDRs/71Td4ZwNeXBp3KFhFwqbk5+jDdsvQZSIo3B9TGKou4AMBPF/zEwhJnj4Xun7ogVN3bSlZti5A34WPpHX2xtpCdlah/wa7ECbVyns31OETueGSKmj5G+b75/6qw+d1jLY7YGVijjLp5rqsRfYohbTh+ftD9Rg2XzdIB9NOSDWtDdi3LBGs80am8FO2amKebHc093kUDRMNeKaq6SM6wvrT2gDIeNa9Ad7vKJ6GYNpzyKXLKF/M2dAcRKUcqnZ5FzETgdGp6eThHsXeXWwqHKVcBDAjUuverwlpe4Py3e/KGlnZK9+du7HuzlIVTidChxXFXhZy5NcSTvrcSaGy2RC8mtNTtNLDfCbn4r2sy44jpW920QHp+v8goswXmWqeHczfoAo0xUT9OROBLwcDsR5SYr3xTnEDH9eBAppaYuDvYA018l5fxILylPvz0z7AQLxggAvaX+4iE8j+FA0dgwi4HsQv6DgajQJN7dQwMszwmi1X7mp3Gex6m/3K+iwKm3yw9I5RhOh8CUWwHBgAvCFUjvpDK/D9yzO0p+EAtWGcuDLDeKg026rhW8Y734ETZikBFBDw8ExIB+4pdLUJ9Er9T2dG+aqdhMI46KDe+eAfUc/OoZp8IP27myq7iUtgyoBptv7Vm0gVOuLQFq2jKZGchCxi+Mqp2VGS3CSv+2mO2Pj4WeXMMMvvsw+BmAOMHImnPDOpBlcOK359h6n4c33BNSbt5pE33CKTxFcmMmD0tcwzGbPiF2+M1CJ5YjCPq+6J8u3IS+KZMOGzy7KDdskDVwsgpPzUGnOiu/sjO1xDgHVBuUB5UMWXFeyfT2gePvxGCbEx6ZFqvSULTR3rLTkSmO4S8av5aTqlh+mHTlr05qqDd1lQAhnCI9lvRwOyDGacjkGu8ASfNlvwEZFlsMuIMhZ2rJjsF/CJQ4Ss8JB3XRz6DS5auSihnMRPXQ0DTHiqfpRWgcFqU9a9Awcg7QkOf7LuxRSsL8eNyv4h+9I5FQ9DqiIB7gI6nSl9Jy28CsVDC3JjqwFEBViaV0fMS+JUsopJceMw3lCZ4/BnckuLHwUATyoiRA0mapjGHOnWFQK97wAspdileMG+heJuTWLc5p7Wyg6JC+5JR2FAuKjcm9vtjO8qP9RTpCjezZSXmbshJyQURjAj5vk65ice+dVrefxLTUxF8VfJ2L3L/CHZ3iMgkUxeMr0Lnf7+OxBNoNsnefsv0YDjlNRUeyp5w3/sf8yEJrqObJ1nBZyi6aoG8ZdJUunPcKzPRC6UbE1DpbbNMF+93ItNO5Np5YB1wQU63agZlJKn/H9Ly/sLD68v/BRfrc09MFn7sNvmPb9ZdhLY5PuPAPMjC1mo3b69XKozWcN1yMdV0RR5hyuXIumUjFZ8dJnPIoQoN/okEkv78QThtYnPn2EK0HtqXkeq19eE6PhbwWkxu7Osgf3JLe/MTTtkY7Z/9I39IFjEZ6wZPWjKAwBISH4bSu5IKjBhSjIXWIWJKy4HLq+BrOvRu6O/0dG+ZfR4KqfuzXPkM9Xx32/VjF0fVhLKPjwvOm2AzANQrXIDOdnfhvWrb02tf3EL4TczzR5pbuLqVXZz0fl0aVlBWaUGqU5HLyzALUiwfef3Q+5I8gghNtQmeceMmDhv3uuSlUYO8kZlPxpAgJJSblLamrtvu93g1/LW5CeBQFFpcSW27EFlefT+T761PpbVcOAB+cvqQuIMs/l6O9l/h3u7K6ROqO3Vln94Aes3ELHvA1bGShopZleG46kEqndAm6GjnhlhiD+eakIgc/7HRdwfsjDtgu5z4ioo/mjhtOQGvs9ZuIdF18XsoZMmkchkSk+cpncnoRymj4r8KJajtVApUA4Yi15hNAcra34ZyUOOUnnD1Fui+lKlxDJ2/pevNmhJv9fjN1SXNpVsJ1CJ6Pz5heLHgtPRj5/4QhaIaXG83LFYyOLqdg9YjxL87PY3jNIhNBucnDotVZpv88rF2/zflgv/jFL37xi1/84he/+MUvfvGLX/yv4f8ATDrIaGQ1kmoAAAAASUVORK5CYII ></center>\n",
        "\n",
        "# **<center><font color='black'>K.J Somaiya College of Engineering</font></center>**\n",
        "\n",
        "## <center><font color='red'>Engineering Final Year Project</font></center>\n",
        "\n",
        "## <center>**<font color='purple'>InsureBuddy - An Insurance Recommender System</font></center>**\n"
      ]
    },
    {
      "cell_type": "markdown",
      "metadata": {
        "id": "t__KohxCBZ-r"
      },
      "source": [
        "### **Author:**\r\n",
        "### **Sujay Torvi**\r\n",
        "### Co-Authors:\r\n",
        "### 1. Krupen Shah\r\n",
        "### 2. Harsh Somaiya\r\n",
        "### 3. Tirth Desai\r\n",
        "\r\n",
        "### Copyright© 2020 Under MIT License "
      ]
    },
    {
      "cell_type": "markdown",
      "metadata": {
        "id": "6tbgd5bF7Jkn"
      },
      "source": [
        "## **<font color='purple'>`Problem Statement: To process, analyse and mine the data for useful insights in insurance product recommendation and model them using various algorithms, and deploying them into an application which would provide the user with useful insurance product recommendations`</font>**"
      ]
    },
    {
      "cell_type": "markdown",
      "metadata": {
        "id": "PwDdOAfqBXO5"
      },
      "source": [
        "## **III. Oversampling**"
      ]
    },
    {
      "cell_type": "code",
      "metadata": {
        "id": "HUqINXFTjj7R"
      },
      "source": [
        "import numpy as np\r\n",
        "import pandas as pd\r\n",
        "import matplotlib.pyplot as plt\r\n",
        "import warnings \r\n",
        "warnings.filterwarnings('ignore')"
      ],
      "execution_count": 1,
      "outputs": []
    },
    {
      "cell_type": "code",
      "metadata": {
        "colab": {
          "resources": {
            "http://localhost:8080/nbextensions/google.colab/files.js": {
              "data": "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",
              "ok": true,
              "headers": [
                [
                  "content-type",
                  "application/javascript"
                ]
              ],
              "status": 200,
              "status_text": ""
            }
          },
          "base_uri": "https://localhost:8080/",
          "height": 73
        },
        "id": "VYQjR8AWj-GM",
        "outputId": "6c6b321b-573d-406b-9fb2-b86b07a08c53"
      },
      "source": [
        "from google.colab import files\r\n",
        "u = files.upload()"
      ],
      "execution_count": 12,
      "outputs": [
        {
          "output_type": "display_data",
          "data": {
            "text/html": [
              "\n",
              "     <input type=\"file\" id=\"files-5fe1d1b3-e074-4b23-b4c6-58e33fd6802b\" name=\"files[]\" multiple disabled\n",
              "        style=\"border:none\" />\n",
              "     <output id=\"result-5fe1d1b3-e074-4b23-b4c6-58e33fd6802b\">\n",
              "      Upload widget is only available when the cell has been executed in the\n",
              "      current browser session. Please rerun this cell to enable.\n",
              "      </output>\n",
              "      <script src=\"/nbextensions/google.colab/files.js\"></script> "
            ],
            "text/plain": [
              "<IPython.core.display.HTML object>"
            ]
          },
          "metadata": {
            "tags": []
          }
        },
        {
          "output_type": "stream",
          "text": [
            "Saving Final_Train.xlsx to Final_Train.xlsx\n"
          ],
          "name": "stdout"
        }
      ]
    },
    {
      "cell_type": "code",
      "metadata": {
        "id": "1hlXZ6JokmO3"
      },
      "source": [
        "train = pd.read_excel('Final_Train.xlsx')"
      ],
      "execution_count": 13,
      "outputs": []
    },
    {
      "cell_type": "code",
      "metadata": {
        "colab": {
          "base_uri": "https://localhost:8080/",
          "height": 235
        },
        "id": "jgBQm-MSk99o",
        "outputId": "901b06dd-8bc6-4dc9-8c70-520d23a635a3"
      },
      "source": [
        "train.head()"
      ],
      "execution_count": 14,
      "outputs": [
        {
          "output_type": "execute_result",
          "data": {
            "text/html": [
              "<div>\n",
              "<style scoped>\n",
              "    .dataframe tbody tr th:only-of-type {\n",
              "        vertical-align: middle;\n",
              "    }\n",
              "\n",
              "    .dataframe tbody tr th {\n",
              "        vertical-align: top;\n",
              "    }\n",
              "\n",
              "    .dataframe thead th {\n",
              "        text-align: right;\n",
              "    }\n",
              "</style>\n",
              "<table border=\"1\" class=\"dataframe\">\n",
              "  <thead>\n",
              "    <tr style=\"text-align: right;\">\n",
              "      <th></th>\n",
              "      <th>Unnamed: 0</th>\n",
              "      <th>ID</th>\n",
              "      <th>sex</th>\n",
              "      <th>marital_status</th>\n",
              "      <th>age_group</th>\n",
              "      <th>occupation_category_code</th>\n",
              "      <th>Annual_Income</th>\n",
              "      <th>Policy 1</th>\n",
              "      <th>Policy 2</th>\n",
              "      <th>Policy 3</th>\n",
              "      <th>Policy 4</th>\n",
              "      <th>Policy 5</th>\n",
              "      <th>Policy 6</th>\n",
              "      <th>Policy 7</th>\n",
              "      <th>Policy 8</th>\n",
              "      <th>Policy 9</th>\n",
              "      <th>Policy 10</th>\n",
              "      <th>Policy 11</th>\n",
              "      <th>Policy 12</th>\n",
              "      <th>Policy 13</th>\n",
              "      <th>Policy 14</th>\n",
              "      <th>Policy 15</th>\n",
              "      <th>Policy 16</th>\n",
              "      <th>Policy 17</th>\n",
              "      <th>Policy 18</th>\n",
              "      <th>Policy 19</th>\n",
              "      <th>Policy 20</th>\n",
              "      <th>Policy 21</th>\n",
              "    </tr>\n",
              "  </thead>\n",
              "  <tbody>\n",
              "    <tr>\n",
              "      <th>0</th>\n",
              "      <td>0</td>\n",
              "      <td>4WKQSBB</td>\n",
              "      <td>F</td>\n",
              "      <td>M</td>\n",
              "      <td>25-40</td>\n",
              "      <td>Corporate Employee</td>\n",
              "      <td>10-20 lac</td>\n",
              "      <td>0</td>\n",
              "      <td>0</td>\n",
              "      <td>0</td>\n",
              "      <td>0</td>\n",
              "      <td>0</td>\n",
              "      <td>0</td>\n",
              "      <td>0</td>\n",
              "      <td>1</td>\n",
              "      <td>0</td>\n",
              "      <td>0</td>\n",
              "      <td>0</td>\n",
              "      <td>0</td>\n",
              "      <td>0</td>\n",
              "      <td>0</td>\n",
              "      <td>1</td>\n",
              "      <td>0</td>\n",
              "      <td>0</td>\n",
              "      <td>0</td>\n",
              "      <td>0</td>\n",
              "      <td>0</td>\n",
              "      <td>0</td>\n",
              "    </tr>\n",
              "    <tr>\n",
              "      <th>1</th>\n",
              "      <td>1</td>\n",
              "      <td>CP5S02H</td>\n",
              "      <td>F</td>\n",
              "      <td>M</td>\n",
              "      <td>25-40</td>\n",
              "      <td>Corporate Employee</td>\n",
              "      <td>10-20 lac</td>\n",
              "      <td>0</td>\n",
              "      <td>0</td>\n",
              "      <td>0</td>\n",
              "      <td>0</td>\n",
              "      <td>0</td>\n",
              "      <td>0</td>\n",
              "      <td>0</td>\n",
              "      <td>1</td>\n",
              "      <td>0</td>\n",
              "      <td>0</td>\n",
              "      <td>0</td>\n",
              "      <td>0</td>\n",
              "      <td>0</td>\n",
              "      <td>0</td>\n",
              "      <td>1</td>\n",
              "      <td>0</td>\n",
              "      <td>0</td>\n",
              "      <td>0</td>\n",
              "      <td>0</td>\n",
              "      <td>0</td>\n",
              "      <td>0</td>\n",
              "    </tr>\n",
              "    <tr>\n",
              "      <th>2</th>\n",
              "      <td>2</td>\n",
              "      <td>2YKDILJ</td>\n",
              "      <td>M</td>\n",
              "      <td>S</td>\n",
              "      <td>25-40</td>\n",
              "      <td>Self Employed</td>\n",
              "      <td>10-20 lac</td>\n",
              "      <td>0</td>\n",
              "      <td>0</td>\n",
              "      <td>0</td>\n",
              "      <td>0</td>\n",
              "      <td>0</td>\n",
              "      <td>0</td>\n",
              "      <td>1</td>\n",
              "      <td>1</td>\n",
              "      <td>0</td>\n",
              "      <td>0</td>\n",
              "      <td>0</td>\n",
              "      <td>0</td>\n",
              "      <td>0</td>\n",
              "      <td>0</td>\n",
              "      <td>0</td>\n",
              "      <td>0</td>\n",
              "      <td>0</td>\n",
              "      <td>0</td>\n",
              "      <td>0</td>\n",
              "      <td>0</td>\n",
              "      <td>1</td>\n",
              "    </tr>\n",
              "    <tr>\n",
              "      <th>3</th>\n",
              "      <td>3</td>\n",
              "      <td>2S9E81J</td>\n",
              "      <td>M</td>\n",
              "      <td>M</td>\n",
              "      <td>25-40</td>\n",
              "      <td>Medical Professional</td>\n",
              "      <td>10-20 lac</td>\n",
              "      <td>0</td>\n",
              "      <td>0</td>\n",
              "      <td>0</td>\n",
              "      <td>0</td>\n",
              "      <td>0</td>\n",
              "      <td>0</td>\n",
              "      <td>0</td>\n",
              "      <td>1</td>\n",
              "      <td>0</td>\n",
              "      <td>0</td>\n",
              "      <td>0</td>\n",
              "      <td>0</td>\n",
              "      <td>0</td>\n",
              "      <td>0</td>\n",
              "      <td>1</td>\n",
              "      <td>0</td>\n",
              "      <td>0</td>\n",
              "      <td>0</td>\n",
              "      <td>0</td>\n",
              "      <td>0</td>\n",
              "      <td>0</td>\n",
              "    </tr>\n",
              "    <tr>\n",
              "      <th>4</th>\n",
              "      <td>4</td>\n",
              "      <td>BHDYVFT</td>\n",
              "      <td>M</td>\n",
              "      <td>M</td>\n",
              "      <td>25-40</td>\n",
              "      <td>Corporate Employee</td>\n",
              "      <td>10-20 lac</td>\n",
              "      <td>0</td>\n",
              "      <td>0</td>\n",
              "      <td>0</td>\n",
              "      <td>0</td>\n",
              "      <td>0</td>\n",
              "      <td>0</td>\n",
              "      <td>0</td>\n",
              "      <td>0</td>\n",
              "      <td>0</td>\n",
              "      <td>0</td>\n",
              "      <td>0</td>\n",
              "      <td>0</td>\n",
              "      <td>0</td>\n",
              "      <td>0</td>\n",
              "      <td>0</td>\n",
              "      <td>0</td>\n",
              "      <td>0</td>\n",
              "      <td>1</td>\n",
              "      <td>1</td>\n",
              "      <td>0</td>\n",
              "      <td>0</td>\n",
              "    </tr>\n",
              "  </tbody>\n",
              "</table>\n",
              "</div>"
            ],
            "text/plain": [
              "   Unnamed: 0       ID sex  ... Policy 19 Policy 20 Policy 21\n",
              "0           0  4WKQSBB   F  ...         0         0         0\n",
              "1           1  CP5S02H   F  ...         0         0         0\n",
              "2           2  2YKDILJ   M  ...         0         0         1\n",
              "3           3  2S9E81J   M  ...         0         0         0\n",
              "4           4  BHDYVFT   M  ...         1         0         0\n",
              "\n",
              "[5 rows x 28 columns]"
            ]
          },
          "metadata": {
            "tags": []
          },
          "execution_count": 14
        }
      ]
    },
    {
      "cell_type": "code",
      "metadata": {
        "id": "Ors7TJOS76rT"
      },
      "source": [
        "train = train[['sex', 'marital_status', 'age_group', 'occupation_category_code','Annual_Income','Policy 8','Policy 15','Policy 16','Policy 9','Policy 2','Policy 18','Policy 19','Policy 21']]"
      ],
      "execution_count": 15,
      "outputs": []
    },
    {
      "cell_type": "code",
      "metadata": {
        "id": "QOhnR0QU8pvM"
      },
      "source": [
        "train.columns = ['sex', 'marital_status', 'age_group', 'occupation_category_code','Annual_Income','Policy 1','Policy 2','Policy 3','Policy 4','Policy 5','Policy 6','Policy 7','Policy 8']"
      ],
      "execution_count": 16,
      "outputs": []
    },
    {
      "cell_type": "code",
      "metadata": {
        "colab": {
          "base_uri": "https://localhost:8080/",
          "height": 215
        },
        "id": "wdDfsLCb8wc1",
        "outputId": "40b9a370-1b2b-4cdf-ffd3-a79c163ddc0b"
      },
      "source": [
        "train.head()"
      ],
      "execution_count": 17,
      "outputs": [
        {
          "output_type": "execute_result",
          "data": {
            "text/html": [
              "<div>\n",
              "<style scoped>\n",
              "    .dataframe tbody tr th:only-of-type {\n",
              "        vertical-align: middle;\n",
              "    }\n",
              "\n",
              "    .dataframe tbody tr th {\n",
              "        vertical-align: top;\n",
              "    }\n",
              "\n",
              "    .dataframe thead th {\n",
              "        text-align: right;\n",
              "    }\n",
              "</style>\n",
              "<table border=\"1\" class=\"dataframe\">\n",
              "  <thead>\n",
              "    <tr style=\"text-align: right;\">\n",
              "      <th></th>\n",
              "      <th>sex</th>\n",
              "      <th>marital_status</th>\n",
              "      <th>age_group</th>\n",
              "      <th>occupation_category_code</th>\n",
              "      <th>Annual_Income</th>\n",
              "      <th>Policy 1</th>\n",
              "      <th>Policy 2</th>\n",
              "      <th>Policy 3</th>\n",
              "      <th>Policy 4</th>\n",
              "      <th>Policy 5</th>\n",
              "      <th>Policy 6</th>\n",
              "      <th>Policy 7</th>\n",
              "      <th>Policy 8</th>\n",
              "    </tr>\n",
              "  </thead>\n",
              "  <tbody>\n",
              "    <tr>\n",
              "      <th>0</th>\n",
              "      <td>F</td>\n",
              "      <td>M</td>\n",
              "      <td>25-40</td>\n",
              "      <td>Corporate Employee</td>\n",
              "      <td>10-20 lac</td>\n",
              "      <td>1</td>\n",
              "      <td>1</td>\n",
              "      <td>0</td>\n",
              "      <td>0</td>\n",
              "      <td>0</td>\n",
              "      <td>0</td>\n",
              "      <td>0</td>\n",
              "      <td>0</td>\n",
              "    </tr>\n",
              "    <tr>\n",
              "      <th>1</th>\n",
              "      <td>F</td>\n",
              "      <td>M</td>\n",
              "      <td>25-40</td>\n",
              "      <td>Corporate Employee</td>\n",
              "      <td>10-20 lac</td>\n",
              "      <td>1</td>\n",
              "      <td>1</td>\n",
              "      <td>0</td>\n",
              "      <td>0</td>\n",
              "      <td>0</td>\n",
              "      <td>0</td>\n",
              "      <td>0</td>\n",
              "      <td>0</td>\n",
              "    </tr>\n",
              "    <tr>\n",
              "      <th>2</th>\n",
              "      <td>M</td>\n",
              "      <td>S</td>\n",
              "      <td>25-40</td>\n",
              "      <td>Self Employed</td>\n",
              "      <td>10-20 lac</td>\n",
              "      <td>1</td>\n",
              "      <td>0</td>\n",
              "      <td>0</td>\n",
              "      <td>0</td>\n",
              "      <td>0</td>\n",
              "      <td>0</td>\n",
              "      <td>0</td>\n",
              "      <td>1</td>\n",
              "    </tr>\n",
              "    <tr>\n",
              "      <th>3</th>\n",
              "      <td>M</td>\n",
              "      <td>M</td>\n",
              "      <td>25-40</td>\n",
              "      <td>Medical Professional</td>\n",
              "      <td>10-20 lac</td>\n",
              "      <td>1</td>\n",
              "      <td>1</td>\n",
              "      <td>0</td>\n",
              "      <td>0</td>\n",
              "      <td>0</td>\n",
              "      <td>0</td>\n",
              "      <td>0</td>\n",
              "      <td>0</td>\n",
              "    </tr>\n",
              "    <tr>\n",
              "      <th>4</th>\n",
              "      <td>M</td>\n",
              "      <td>M</td>\n",
              "      <td>25-40</td>\n",
              "      <td>Corporate Employee</td>\n",
              "      <td>10-20 lac</td>\n",
              "      <td>0</td>\n",
              "      <td>0</td>\n",
              "      <td>0</td>\n",
              "      <td>0</td>\n",
              "      <td>0</td>\n",
              "      <td>1</td>\n",
              "      <td>1</td>\n",
              "      <td>0</td>\n",
              "    </tr>\n",
              "  </tbody>\n",
              "</table>\n",
              "</div>"
            ],
            "text/plain": [
              "  sex marital_status age_group  ... Policy 6 Policy 7  Policy 8\n",
              "0   F              M     25-40  ...        0        0         0\n",
              "1   F              M     25-40  ...        0        0         0\n",
              "2   M              S     25-40  ...        0        0         1\n",
              "3   M              M     25-40  ...        0        0         0\n",
              "4   M              M     25-40  ...        1        1         0\n",
              "\n",
              "[5 rows x 13 columns]"
            ]
          },
          "metadata": {
            "tags": []
          },
          "execution_count": 17
        }
      ]
    },
    {
      "cell_type": "code",
      "metadata": {
        "id": "sqV8ifqe806-"
      },
      "source": [
        "from sklearn import preprocessing\r\n",
        "le = preprocessing.LabelEncoder()"
      ],
      "execution_count": 18,
      "outputs": []
    },
    {
      "cell_type": "code",
      "metadata": {
        "id": "-q6IGveX-vt1"
      },
      "source": [
        "train = pd.DataFrame(train.apply(preprocessing.LabelEncoder().fit_transform))"
      ],
      "execution_count": 19,
      "outputs": []
    },
    {
      "cell_type": "code",
      "metadata": {
        "colab": {
          "base_uri": "https://localhost:8080/",
          "height": 215
        },
        "id": "iflMebRdBgw8",
        "outputId": "57876efb-32e6-4664-ee69-abf59e219b5c"
      },
      "source": [
        "train.head()"
      ],
      "execution_count": 20,
      "outputs": [
        {
          "output_type": "execute_result",
          "data": {
            "text/html": [
              "<div>\n",
              "<style scoped>\n",
              "    .dataframe tbody tr th:only-of-type {\n",
              "        vertical-align: middle;\n",
              "    }\n",
              "\n",
              "    .dataframe tbody tr th {\n",
              "        vertical-align: top;\n",
              "    }\n",
              "\n",
              "    .dataframe thead th {\n",
              "        text-align: right;\n",
              "    }\n",
              "</style>\n",
              "<table border=\"1\" class=\"dataframe\">\n",
              "  <thead>\n",
              "    <tr style=\"text-align: right;\">\n",
              "      <th></th>\n",
              "      <th>sex</th>\n",
              "      <th>marital_status</th>\n",
              "      <th>age_group</th>\n",
              "      <th>occupation_category_code</th>\n",
              "      <th>Annual_Income</th>\n",
              "      <th>Policy 1</th>\n",
              "      <th>Policy 2</th>\n",
              "      <th>Policy 3</th>\n",
              "      <th>Policy 4</th>\n",
              "      <th>Policy 5</th>\n",
              "      <th>Policy 6</th>\n",
              "      <th>Policy 7</th>\n",
              "      <th>Policy 8</th>\n",
              "    </tr>\n",
              "  </thead>\n",
              "  <tbody>\n",
              "    <tr>\n",
              "      <th>0</th>\n",
              "      <td>0</td>\n",
              "      <td>0</td>\n",
              "      <td>0</td>\n",
              "      <td>0</td>\n",
              "      <td>1</td>\n",
              "      <td>1</td>\n",
              "      <td>1</td>\n",
              "      <td>0</td>\n",
              "      <td>0</td>\n",
              "      <td>0</td>\n",
              "      <td>0</td>\n",
              "      <td>0</td>\n",
              "      <td>0</td>\n",
              "    </tr>\n",
              "    <tr>\n",
              "      <th>1</th>\n",
              "      <td>0</td>\n",
              "      <td>0</td>\n",
              "      <td>0</td>\n",
              "      <td>0</td>\n",
              "      <td>1</td>\n",
              "      <td>1</td>\n",
              "      <td>1</td>\n",
              "      <td>0</td>\n",
              "      <td>0</td>\n",
              "      <td>0</td>\n",
              "      <td>0</td>\n",
              "      <td>0</td>\n",
              "      <td>0</td>\n",
              "    </tr>\n",
              "    <tr>\n",
              "      <th>2</th>\n",
              "      <td>1</td>\n",
              "      <td>1</td>\n",
              "      <td>0</td>\n",
              "      <td>4</td>\n",
              "      <td>1</td>\n",
              "      <td>1</td>\n",
              "      <td>0</td>\n",
              "      <td>0</td>\n",
              "      <td>0</td>\n",
              "      <td>0</td>\n",
              "      <td>0</td>\n",
              "      <td>0</td>\n",
              "      <td>1</td>\n",
              "    </tr>\n",
              "    <tr>\n",
              "      <th>3</th>\n",
              "      <td>1</td>\n",
              "      <td>0</td>\n",
              "      <td>0</td>\n",
              "      <td>2</td>\n",
              "      <td>1</td>\n",
              "      <td>1</td>\n",
              "      <td>1</td>\n",
              "      <td>0</td>\n",
              "      <td>0</td>\n",
              "      <td>0</td>\n",
              "      <td>0</td>\n",
              "      <td>0</td>\n",
              "      <td>0</td>\n",
              "    </tr>\n",
              "    <tr>\n",
              "      <th>4</th>\n",
              "      <td>1</td>\n",
              "      <td>0</td>\n",
              "      <td>0</td>\n",
              "      <td>0</td>\n",
              "      <td>1</td>\n",
              "      <td>0</td>\n",
              "      <td>0</td>\n",
              "      <td>0</td>\n",
              "      <td>0</td>\n",
              "      <td>0</td>\n",
              "      <td>1</td>\n",
              "      <td>1</td>\n",
              "      <td>0</td>\n",
              "    </tr>\n",
              "  </tbody>\n",
              "</table>\n",
              "</div>"
            ],
            "text/plain": [
              "   sex  marital_status  age_group  ...  Policy 6  Policy 7  Policy 8\n",
              "0    0               0          0  ...         0         0         0\n",
              "1    0               0          0  ...         0         0         0\n",
              "2    1               1          0  ...         0         0         1\n",
              "3    1               0          0  ...         0         0         0\n",
              "4    1               0          0  ...         1         1         0\n",
              "\n",
              "[5 rows x 13 columns]"
            ]
          },
          "metadata": {
            "tags": []
          },
          "execution_count": 20
        }
      ]
    },
    {
      "cell_type": "code",
      "metadata": {
        "id": "Gu6ppHL9ItTo"
      },
      "source": [
        "from imblearn.over_sampling import RandomOverSampler\r\n",
        "from imblearn.under_sampling import RandomUnderSampler\r\n",
        "from imblearn.over_sampling import SMOTE\r\n",
        "from imblearn.over_sampling import ADASYN"
      ],
      "execution_count": 21,
      "outputs": []
    },
    {
      "cell_type": "code",
      "metadata": {
        "id": "PoZSjm3cSO9W"
      },
      "source": [
        "from lightgbm import LGBMClassifier"
      ],
      "execution_count": 22,
      "outputs": []
    },
    {
      "cell_type": "code",
      "metadata": {
        "colab": {
          "base_uri": "https://localhost:8080/"
        },
        "id": "czLcs9dsXVA2",
        "outputId": "bed7b4e7-4527-4ce4-dbec-3866ac5aaeec"
      },
      "source": [
        "!pip install scikit-multilearn"
      ],
      "execution_count": 23,
      "outputs": [
        {
          "output_type": "stream",
          "text": [
            "Requirement already satisfied: scikit-multilearn in /usr/local/lib/python3.6/dist-packages (0.2.0)\n"
          ],
          "name": "stdout"
        }
      ]
    },
    {
      "cell_type": "code",
      "metadata": {
        "id": "NgN16mLOKqCS"
      },
      "source": [
        "from skmultilearn.problem_transform import LabelPowerset"
      ],
      "execution_count": 24,
      "outputs": []
    },
    {
      "cell_type": "code",
      "metadata": {
        "id": "pouSa3J4J_kM"
      },
      "source": [
        "# Import a dataset with X and multi-label y\r\n",
        "lp = LabelPowerset()\r\n",
        "ros = RandomOverSampler(random_state=42,sampling_strategy = 'minority')"
      ],
      "execution_count": 26,
      "outputs": []
    },
    {
      "cell_type": "code",
      "metadata": {
        "colab": {
          "base_uri": "https://localhost:8080/",
          "height": 198
        },
        "id": "2njdGgq3LEo6",
        "outputId": "445c74bd-3264-40d5-b16e-47746bd82b4e"
      },
      "source": [
        "X = train[train.columns[:5]]\r\n",
        "X.head()"
      ],
      "execution_count": 27,
      "outputs": [
        {
          "output_type": "execute_result",
          "data": {
            "text/html": [
              "<div>\n",
              "<style scoped>\n",
              "    .dataframe tbody tr th:only-of-type {\n",
              "        vertical-align: middle;\n",
              "    }\n",
              "\n",
              "    .dataframe tbody tr th {\n",
              "        vertical-align: top;\n",
              "    }\n",
              "\n",
              "    .dataframe thead th {\n",
              "        text-align: right;\n",
              "    }\n",
              "</style>\n",
              "<table border=\"1\" class=\"dataframe\">\n",
              "  <thead>\n",
              "    <tr style=\"text-align: right;\">\n",
              "      <th></th>\n",
              "      <th>sex</th>\n",
              "      <th>marital_status</th>\n",
              "      <th>age_group</th>\n",
              "      <th>occupation_category_code</th>\n",
              "      <th>Annual_Income</th>\n",
              "    </tr>\n",
              "  </thead>\n",
              "  <tbody>\n",
              "    <tr>\n",
              "      <th>0</th>\n",
              "      <td>0</td>\n",
              "      <td>0</td>\n",
              "      <td>0</td>\n",
              "      <td>0</td>\n",
              "      <td>1</td>\n",
              "    </tr>\n",
              "    <tr>\n",
              "      <th>1</th>\n",
              "      <td>0</td>\n",
              "      <td>0</td>\n",
              "      <td>0</td>\n",
              "      <td>0</td>\n",
              "      <td>1</td>\n",
              "    </tr>\n",
              "    <tr>\n",
              "      <th>2</th>\n",
              "      <td>1</td>\n",
              "      <td>1</td>\n",
              "      <td>0</td>\n",
              "      <td>4</td>\n",
              "      <td>1</td>\n",
              "    </tr>\n",
              "    <tr>\n",
              "      <th>3</th>\n",
              "      <td>1</td>\n",
              "      <td>0</td>\n",
              "      <td>0</td>\n",
              "      <td>2</td>\n",
              "      <td>1</td>\n",
              "    </tr>\n",
              "    <tr>\n",
              "      <th>4</th>\n",
              "      <td>1</td>\n",
              "      <td>0</td>\n",
              "      <td>0</td>\n",
              "      <td>0</td>\n",
              "      <td>1</td>\n",
              "    </tr>\n",
              "  </tbody>\n",
              "</table>\n",
              "</div>"
            ],
            "text/plain": [
              "   sex  marital_status  age_group  occupation_category_code  Annual_Income\n",
              "0    0               0          0                         0              1\n",
              "1    0               0          0                         0              1\n",
              "2    1               1          0                         4              1\n",
              "3    1               0          0                         2              1\n",
              "4    1               0          0                         0              1"
            ]
          },
          "metadata": {
            "tags": []
          },
          "execution_count": 27
        }
      ]
    },
    {
      "cell_type": "code",
      "metadata": {
        "colab": {
          "base_uri": "https://localhost:8080/",
          "height": 198
        },
        "id": "TIEwjqgYLo68",
        "outputId": "030ae907-82bc-4992-d5c7-85b5435bd8e1"
      },
      "source": [
        "Y = train[train.columns[5:]]\r\n",
        "Y.head()"
      ],
      "execution_count": 28,
      "outputs": [
        {
          "output_type": "execute_result",
          "data": {
            "text/html": [
              "<div>\n",
              "<style scoped>\n",
              "    .dataframe tbody tr th:only-of-type {\n",
              "        vertical-align: middle;\n",
              "    }\n",
              "\n",
              "    .dataframe tbody tr th {\n",
              "        vertical-align: top;\n",
              "    }\n",
              "\n",
              "    .dataframe thead th {\n",
              "        text-align: right;\n",
              "    }\n",
              "</style>\n",
              "<table border=\"1\" class=\"dataframe\">\n",
              "  <thead>\n",
              "    <tr style=\"text-align: right;\">\n",
              "      <th></th>\n",
              "      <th>Policy 1</th>\n",
              "      <th>Policy 2</th>\n",
              "      <th>Policy 3</th>\n",
              "      <th>Policy 4</th>\n",
              "      <th>Policy 5</th>\n",
              "      <th>Policy 6</th>\n",
              "      <th>Policy 7</th>\n",
              "      <th>Policy 8</th>\n",
              "    </tr>\n",
              "  </thead>\n",
              "  <tbody>\n",
              "    <tr>\n",
              "      <th>0</th>\n",
              "      <td>1</td>\n",
              "      <td>1</td>\n",
              "      <td>0</td>\n",
              "      <td>0</td>\n",
              "      <td>0</td>\n",
              "      <td>0</td>\n",
              "      <td>0</td>\n",
              "      <td>0</td>\n",
              "    </tr>\n",
              "    <tr>\n",
              "      <th>1</th>\n",
              "      <td>1</td>\n",
              "      <td>1</td>\n",
              "      <td>0</td>\n",
              "      <td>0</td>\n",
              "      <td>0</td>\n",
              "      <td>0</td>\n",
              "      <td>0</td>\n",
              "      <td>0</td>\n",
              "    </tr>\n",
              "    <tr>\n",
              "      <th>2</th>\n",
              "      <td>1</td>\n",
              "      <td>0</td>\n",
              "      <td>0</td>\n",
              "      <td>0</td>\n",
              "      <td>0</td>\n",
              "      <td>0</td>\n",
              "      <td>0</td>\n",
              "      <td>1</td>\n",
              "    </tr>\n",
              "    <tr>\n",
              "      <th>3</th>\n",
              "      <td>1</td>\n",
              "      <td>1</td>\n",
              "      <td>0</td>\n",
              "      <td>0</td>\n",
              "      <td>0</td>\n",
              "      <td>0</td>\n",
              "      <td>0</td>\n",
              "      <td>0</td>\n",
              "    </tr>\n",
              "    <tr>\n",
              "      <th>4</th>\n",
              "      <td>0</td>\n",
              "      <td>0</td>\n",
              "      <td>0</td>\n",
              "      <td>0</td>\n",
              "      <td>0</td>\n",
              "      <td>1</td>\n",
              "      <td>1</td>\n",
              "      <td>0</td>\n",
              "    </tr>\n",
              "  </tbody>\n",
              "</table>\n",
              "</div>"
            ],
            "text/plain": [
              "   Policy 1  Policy 2  Policy 3  ...  Policy 6  Policy 7  Policy 8\n",
              "0         1         1         0  ...         0         0         0\n",
              "1         1         1         0  ...         0         0         0\n",
              "2         1         0         0  ...         0         0         1\n",
              "3         1         1         0  ...         0         0         0\n",
              "4         0         0         0  ...         1         1         0\n",
              "\n",
              "[5 rows x 8 columns]"
            ]
          },
          "metadata": {
            "tags": []
          },
          "execution_count": 28
        }
      ]
    },
    {
      "cell_type": "code",
      "metadata": {
        "id": "hrIIt1EnSO2v"
      },
      "source": [
        "from sklearn.model_selection import train_test_split\r\n",
        "X_train,X_test,y_train,y_test = train_test_split(X,Y,random_state = 1008, test_size = 0.3)"
      ],
      "execution_count": 29,
      "outputs": []
    },
    {
      "cell_type": "code",
      "metadata": {
        "id": "TqwXzVJMSikR"
      },
      "source": [
        "test_data = X_test.join(y_test)"
      ],
      "execution_count": 30,
      "outputs": []
    },
    {
      "cell_type": "code",
      "metadata": {
        "id": "gIDOCzEOKUFu"
      },
      "source": [
        "# Applies the above stated multi-label (ML) to multi-class (MC) transformation.\r\n",
        "yt = lp.transform(y_train)"
      ],
      "execution_count": 31,
      "outputs": []
    },
    {
      "cell_type": "code",
      "metadata": {
        "id": "eCBX2Ky3QU_j"
      },
      "source": [
        "X_resampled, y_resampled = ros.fit_sample(X_train, yt)"
      ],
      "execution_count": 32,
      "outputs": []
    },
    {
      "cell_type": "code",
      "metadata": {
        "id": "bGIR3trKV0C0"
      },
      "source": [
        "# Inverts the ML-MC transformation to recreate the ML set\r\n",
        "y_resampled = lp.inverse_transform(y_resampled)"
      ],
      "execution_count": 33,
      "outputs": []
    },
    {
      "cell_type": "code",
      "metadata": {
        "id": "fG8SqvjGKUaw"
      },
      "source": [
        "features = pd.DataFrame(X_resampled)"
      ],
      "execution_count": 34,
      "outputs": []
    },
    {
      "cell_type": "code",
      "metadata": {
        "colab": {
          "base_uri": "https://localhost:8080/",
          "height": 198
        },
        "id": "i75JGP6jMU8-",
        "outputId": "b7b7f275-09f8-4edf-f031-1fe1b8cbdc9e"
      },
      "source": [
        "features.head()"
      ],
      "execution_count": 35,
      "outputs": [
        {
          "output_type": "execute_result",
          "data": {
            "text/html": [
              "<div>\n",
              "<style scoped>\n",
              "    .dataframe tbody tr th:only-of-type {\n",
              "        vertical-align: middle;\n",
              "    }\n",
              "\n",
              "    .dataframe tbody tr th {\n",
              "        vertical-align: top;\n",
              "    }\n",
              "\n",
              "    .dataframe thead th {\n",
              "        text-align: right;\n",
              "    }\n",
              "</style>\n",
              "<table border=\"1\" class=\"dataframe\">\n",
              "  <thead>\n",
              "    <tr style=\"text-align: right;\">\n",
              "      <th></th>\n",
              "      <th>0</th>\n",
              "      <th>1</th>\n",
              "      <th>2</th>\n",
              "      <th>3</th>\n",
              "      <th>4</th>\n",
              "    </tr>\n",
              "  </thead>\n",
              "  <tbody>\n",
              "    <tr>\n",
              "      <th>0</th>\n",
              "      <td>0</td>\n",
              "      <td>0</td>\n",
              "      <td>0</td>\n",
              "      <td>0</td>\n",
              "      <td>1</td>\n",
              "    </tr>\n",
              "    <tr>\n",
              "      <th>1</th>\n",
              "      <td>0</td>\n",
              "      <td>0</td>\n",
              "      <td>1</td>\n",
              "      <td>0</td>\n",
              "      <td>1</td>\n",
              "    </tr>\n",
              "    <tr>\n",
              "      <th>2</th>\n",
              "      <td>0</td>\n",
              "      <td>0</td>\n",
              "      <td>0</td>\n",
              "      <td>4</td>\n",
              "      <td>1</td>\n",
              "    </tr>\n",
              "    <tr>\n",
              "      <th>3</th>\n",
              "      <td>1</td>\n",
              "      <td>0</td>\n",
              "      <td>1</td>\n",
              "      <td>4</td>\n",
              "      <td>1</td>\n",
              "    </tr>\n",
              "    <tr>\n",
              "      <th>4</th>\n",
              "      <td>0</td>\n",
              "      <td>1</td>\n",
              "      <td>0</td>\n",
              "      <td>4</td>\n",
              "      <td>1</td>\n",
              "    </tr>\n",
              "  </tbody>\n",
              "</table>\n",
              "</div>"
            ],
            "text/plain": [
              "   0  1  2  3  4\n",
              "0  0  0  0  0  1\n",
              "1  0  0  1  0  1\n",
              "2  0  0  0  4  1\n",
              "3  1  0  1  4  1\n",
              "4  0  1  0  4  1"
            ]
          },
          "metadata": {
            "tags": []
          },
          "execution_count": 35
        }
      ]
    },
    {
      "cell_type": "code",
      "metadata": {
        "id": "qLOGttDGMm0O"
      },
      "source": [
        "label = pd.DataFrame(y_resampled.todense())"
      ],
      "execution_count": 36,
      "outputs": []
    },
    {
      "cell_type": "code",
      "metadata": {
        "id": "T9Sm8DMXPMGc"
      },
      "source": [
        "label.columns = ['Policy 1','Policy 2','Policy 3','Policy 4', 'Policy 5', 'Policy 6', 'Policy 7', 'Policy 8']\r\n",
        "features.columns = ['sex','marital_status','age_group','occupation_category_code','Annual_Income']"
      ],
      "execution_count": 37,
      "outputs": []
    },
    {
      "cell_type": "code",
      "metadata": {
        "colab": {
          "base_uri": "https://localhost:8080/"
        },
        "id": "Af7SgNerNBax",
        "outputId": "7e862ce9-55bf-4850-8349-79ed60d2503c"
      },
      "source": [
        "for i in range(1,9):\r\n",
        " print(len(label[label['Policy '+str(i)] == 1]))"
      ],
      "execution_count": 38,
      "outputs": [
        {
          "output_type": "stream",
          "text": [
            "17666\n",
            "15093\n",
            "4737\n",
            "13480\n",
            "1286\n",
            "977\n",
            "974\n",
            "12729\n"
          ],
          "name": "stdout"
        }
      ]
    },
    {
      "cell_type": "code",
      "metadata": {
        "colab": {
          "base_uri": "https://localhost:8080/"
        },
        "id": "T9dQC4UCPmpl",
        "outputId": "78d11f09-6c25-40c2-e20b-c863cfdc72b0"
      },
      "source": [
        "len(label)"
      ],
      "execution_count": 39,
      "outputs": [
        {
          "output_type": "execute_result",
          "data": {
            "text/plain": [
              "32295"
            ]
          },
          "metadata": {
            "tags": []
          },
          "execution_count": 39
        }
      ]
    },
    {
      "cell_type": "code",
      "metadata": {
        "id": "wPx6JGPeQzx5"
      },
      "source": [
        "test_data.reset_index(inplace = True)"
      ],
      "execution_count": 40,
      "outputs": []
    },
    {
      "cell_type": "code",
      "metadata": {
        "id": "thlPS2DkTAYm"
      },
      "source": [
        "test_data = test_data[test_data.columns[1:]]"
      ],
      "execution_count": 41,
      "outputs": []
    },
    {
      "cell_type": "code",
      "metadata": {
        "colab": {
          "base_uri": "https://localhost:8080/",
          "height": 215
        },
        "id": "yKpdydK1SwMq",
        "outputId": "970f3640-76ee-4977-eb24-0ab647e2710e"
      },
      "source": [
        "test_data.head()"
      ],
      "execution_count": 42,
      "outputs": [
        {
          "output_type": "execute_result",
          "data": {
            "text/html": [
              "<div>\n",
              "<style scoped>\n",
              "    .dataframe tbody tr th:only-of-type {\n",
              "        vertical-align: middle;\n",
              "    }\n",
              "\n",
              "    .dataframe tbody tr th {\n",
              "        vertical-align: top;\n",
              "    }\n",
              "\n",
              "    .dataframe thead th {\n",
              "        text-align: right;\n",
              "    }\n",
              "</style>\n",
              "<table border=\"1\" class=\"dataframe\">\n",
              "  <thead>\n",
              "    <tr style=\"text-align: right;\">\n",
              "      <th></th>\n",
              "      <th>sex</th>\n",
              "      <th>marital_status</th>\n",
              "      <th>age_group</th>\n",
              "      <th>occupation_category_code</th>\n",
              "      <th>Annual_Income</th>\n",
              "      <th>Policy 1</th>\n",
              "      <th>Policy 2</th>\n",
              "      <th>Policy 3</th>\n",
              "      <th>Policy 4</th>\n",
              "      <th>Policy 5</th>\n",
              "      <th>Policy 6</th>\n",
              "      <th>Policy 7</th>\n",
              "      <th>Policy 8</th>\n",
              "    </tr>\n",
              "  </thead>\n",
              "  <tbody>\n",
              "    <tr>\n",
              "      <th>0</th>\n",
              "      <td>0</td>\n",
              "      <td>1</td>\n",
              "      <td>0</td>\n",
              "      <td>0</td>\n",
              "      <td>1</td>\n",
              "      <td>1</td>\n",
              "      <td>1</td>\n",
              "      <td>0</td>\n",
              "      <td>0</td>\n",
              "      <td>0</td>\n",
              "      <td>0</td>\n",
              "      <td>0</td>\n",
              "      <td>0</td>\n",
              "    </tr>\n",
              "    <tr>\n",
              "      <th>1</th>\n",
              "      <td>1</td>\n",
              "      <td>0</td>\n",
              "      <td>0</td>\n",
              "      <td>0</td>\n",
              "      <td>1</td>\n",
              "      <td>1</td>\n",
              "      <td>0</td>\n",
              "      <td>0</td>\n",
              "      <td>0</td>\n",
              "      <td>1</td>\n",
              "      <td>0</td>\n",
              "      <td>0</td>\n",
              "      <td>0</td>\n",
              "    </tr>\n",
              "    <tr>\n",
              "      <th>2</th>\n",
              "      <td>0</td>\n",
              "      <td>0</td>\n",
              "      <td>1</td>\n",
              "      <td>2</td>\n",
              "      <td>2</td>\n",
              "      <td>1</td>\n",
              "      <td>1</td>\n",
              "      <td>0</td>\n",
              "      <td>0</td>\n",
              "      <td>0</td>\n",
              "      <td>0</td>\n",
              "      <td>0</td>\n",
              "      <td>0</td>\n",
              "    </tr>\n",
              "    <tr>\n",
              "      <th>3</th>\n",
              "      <td>0</td>\n",
              "      <td>1</td>\n",
              "      <td>3</td>\n",
              "      <td>0</td>\n",
              "      <td>0</td>\n",
              "      <td>1</td>\n",
              "      <td>1</td>\n",
              "      <td>0</td>\n",
              "      <td>0</td>\n",
              "      <td>0</td>\n",
              "      <td>0</td>\n",
              "      <td>0</td>\n",
              "      <td>0</td>\n",
              "    </tr>\n",
              "    <tr>\n",
              "      <th>4</th>\n",
              "      <td>0</td>\n",
              "      <td>0</td>\n",
              "      <td>1</td>\n",
              "      <td>0</td>\n",
              "      <td>1</td>\n",
              "      <td>0</td>\n",
              "      <td>0</td>\n",
              "      <td>0</td>\n",
              "      <td>1</td>\n",
              "      <td>0</td>\n",
              "      <td>0</td>\n",
              "      <td>0</td>\n",
              "      <td>0</td>\n",
              "    </tr>\n",
              "  </tbody>\n",
              "</table>\n",
              "</div>"
            ],
            "text/plain": [
              "   sex  marital_status  age_group  ...  Policy 6  Policy 7  Policy 8\n",
              "0    0               1          0  ...         0         0         0\n",
              "1    1               0          0  ...         0         0         0\n",
              "2    0               0          1  ...         0         0         0\n",
              "3    0               1          3  ...         0         0         0\n",
              "4    0               0          1  ...         0         0         0\n",
              "\n",
              "[5 rows x 13 columns]"
            ]
          },
          "metadata": {
            "tags": []
          },
          "execution_count": 42
        }
      ]
    },
    {
      "cell_type": "code",
      "metadata": {
        "id": "y7hlgmTmS2Kr"
      },
      "source": [
        "train_data = features.join(label)"
      ],
      "execution_count": 43,
      "outputs": []
    },
    {
      "cell_type": "code",
      "metadata": {
        "colab": {
          "base_uri": "https://localhost:8080/",
          "height": 215
        },
        "id": "1o94JFcQbfSz",
        "outputId": "7842150b-f152-4fe9-9f57-76a62f468d77"
      },
      "source": [
        "train_data.head()"
      ],
      "execution_count": 44,
      "outputs": [
        {
          "output_type": "execute_result",
          "data": {
            "text/html": [
              "<div>\n",
              "<style scoped>\n",
              "    .dataframe tbody tr th:only-of-type {\n",
              "        vertical-align: middle;\n",
              "    }\n",
              "\n",
              "    .dataframe tbody tr th {\n",
              "        vertical-align: top;\n",
              "    }\n",
              "\n",
              "    .dataframe thead th {\n",
              "        text-align: right;\n",
              "    }\n",
              "</style>\n",
              "<table border=\"1\" class=\"dataframe\">\n",
              "  <thead>\n",
              "    <tr style=\"text-align: right;\">\n",
              "      <th></th>\n",
              "      <th>sex</th>\n",
              "      <th>marital_status</th>\n",
              "      <th>age_group</th>\n",
              "      <th>occupation_category_code</th>\n",
              "      <th>Annual_Income</th>\n",
              "      <th>Policy 1</th>\n",
              "      <th>Policy 2</th>\n",
              "      <th>Policy 3</th>\n",
              "      <th>Policy 4</th>\n",
              "      <th>Policy 5</th>\n",
              "      <th>Policy 6</th>\n",
              "      <th>Policy 7</th>\n",
              "      <th>Policy 8</th>\n",
              "    </tr>\n",
              "  </thead>\n",
              "  <tbody>\n",
              "    <tr>\n",
              "      <th>0</th>\n",
              "      <td>0</td>\n",
              "      <td>0</td>\n",
              "      <td>0</td>\n",
              "      <td>0</td>\n",
              "      <td>1</td>\n",
              "      <td>1</td>\n",
              "      <td>1</td>\n",
              "      <td>0</td>\n",
              "      <td>0</td>\n",
              "      <td>0</td>\n",
              "      <td>0</td>\n",
              "      <td>0</td>\n",
              "      <td>0</td>\n",
              "    </tr>\n",
              "    <tr>\n",
              "      <th>1</th>\n",
              "      <td>0</td>\n",
              "      <td>0</td>\n",
              "      <td>1</td>\n",
              "      <td>0</td>\n",
              "      <td>1</td>\n",
              "      <td>1</td>\n",
              "      <td>0</td>\n",
              "      <td>0</td>\n",
              "      <td>0</td>\n",
              "      <td>0</td>\n",
              "      <td>0</td>\n",
              "      <td>0</td>\n",
              "      <td>1</td>\n",
              "    </tr>\n",
              "    <tr>\n",
              "      <th>2</th>\n",
              "      <td>0</td>\n",
              "      <td>0</td>\n",
              "      <td>0</td>\n",
              "      <td>4</td>\n",
              "      <td>1</td>\n",
              "      <td>1</td>\n",
              "      <td>1</td>\n",
              "      <td>0</td>\n",
              "      <td>0</td>\n",
              "      <td>0</td>\n",
              "      <td>0</td>\n",
              "      <td>0</td>\n",
              "      <td>0</td>\n",
              "    </tr>\n",
              "    <tr>\n",
              "      <th>3</th>\n",
              "      <td>1</td>\n",
              "      <td>0</td>\n",
              "      <td>1</td>\n",
              "      <td>4</td>\n",
              "      <td>1</td>\n",
              "      <td>1</td>\n",
              "      <td>1</td>\n",
              "      <td>0</td>\n",
              "      <td>0</td>\n",
              "      <td>0</td>\n",
              "      <td>0</td>\n",
              "      <td>0</td>\n",
              "      <td>0</td>\n",
              "    </tr>\n",
              "    <tr>\n",
              "      <th>4</th>\n",
              "      <td>0</td>\n",
              "      <td>1</td>\n",
              "      <td>0</td>\n",
              "      <td>4</td>\n",
              "      <td>1</td>\n",
              "      <td>1</td>\n",
              "      <td>0</td>\n",
              "      <td>1</td>\n",
              "      <td>0</td>\n",
              "      <td>0</td>\n",
              "      <td>0</td>\n",
              "      <td>0</td>\n",
              "      <td>0</td>\n",
              "    </tr>\n",
              "  </tbody>\n",
              "</table>\n",
              "</div>"
            ],
            "text/plain": [
              "   sex  marital_status  age_group  ...  Policy 6  Policy 7  Policy 8\n",
              "0    0               0          0  ...         0         0         0\n",
              "1    0               0          1  ...         0         0         1\n",
              "2    0               0          0  ...         0         0         0\n",
              "3    1               0          1  ...         0         0         0\n",
              "4    0               1          0  ...         0         0         0\n",
              "\n",
              "[5 rows x 13 columns]"
            ]
          },
          "metadata": {
            "tags": []
          },
          "execution_count": 44
        }
      ]
    },
    {
      "cell_type": "code",
      "metadata": {
        "id": "cPbtg4O0cItS"
      },
      "source": [
        "train_data.to_excel('Training_Data_Rebalanced.xlsx')"
      ],
      "execution_count": null,
      "outputs": []
    },
    {
      "cell_type": "code",
      "metadata": {
        "id": "AmV0g6daryFi"
      },
      "source": [
        "train = train[['sex', 'marital_status', 'age_group', 'occupation_category_code','Annual_Income','Policy 1','Policy 2','Policy 3','Policy 4','Policy 5','Policy 6','Policy 7','Policy 8']]"
      ],
      "execution_count": null,
      "outputs": []
    },
    {
      "cell_type": "code",
      "metadata": {
        "id": "Go9ZwR82r-t6"
      },
      "source": [
        "label = train[train.columns[5:]]"
      ],
      "execution_count": null,
      "outputs": []
    },
    {
      "cell_type": "code",
      "metadata": {
        "colab": {
          "base_uri": "https://localhost:8080/"
        },
        "id": "N4WCPE9ysSar",
        "outputId": "93389b1d-4f54-4770-f027-eb471eb7d17a"
      },
      "source": [
        "for i in range(1,9):\r\n",
        " print('Policy No. {} is = {}'.format(i,len(label[label['Policy '+str(i)] == 1])))"
      ],
      "execution_count": null,
      "outputs": [
        {
          "output_type": "stream",
          "text": [
            "Policy No. 1 is = 25240\n",
            "Policy No. 2 is = 21545\n",
            "Policy No. 3 is = 6805\n",
            "Policy No. 4 is = 2168\n",
            "Policy No. 5 is = 18842\n",
            "Policy No. 6 is = 18481\n",
            "Policy No. 7 is = 18474\n",
            "Policy No. 8 is = 1097\n"
          ],
          "name": "stdout"
        }
      ]
    },
    {
      "cell_type": "code",
      "metadata": {
        "id": "7XZWnXM3sU8U"
      },
      "source": [
        "train = train[['sex', 'marital_status', 'age_group', 'occupation_category_code',\\\r\n",
        "       'Annual_Income', 'Policy 1', 'Policy 2',\\\r\n",
        "       'Policy 5', 'Policy 6', 'Policy 7']]"
      ],
      "execution_count": null,
      "outputs": []
    },
    {
      "cell_type": "code",
      "metadata": {
        "id": "Xh2-02eEs8-i"
      },
      "source": [
        "train.to_excel('Training_Data_rebalanced.xlsx')"
      ],
      "execution_count": null,
      "outputs": []
    },
    {
      "cell_type": "markdown",
      "metadata": {
        "id": "dstuM-SKPafV"
      },
      "source": [
        "### Checking Dataset"
      ]
    },
    {
      "cell_type": "code",
      "metadata": {
        "id": "AytGrqUTt38I"
      },
      "source": [
        "train = pd.read_excel('Training_Data_rebalanced.xlsx')"
      ],
      "execution_count": null,
      "outputs": []
    },
    {
      "cell_type": "code",
      "metadata": {
        "id": "_zpH85dqTX_f"
      },
      "source": [
        "train = train[train.columns[1:]]"
      ],
      "execution_count": null,
      "outputs": []
    },
    {
      "cell_type": "code",
      "metadata": {
        "colab": {
          "base_uri": "https://localhost:8080/",
          "height": 198
        },
        "id": "3DYKqD4MTc5Q",
        "outputId": "74b1987c-5123-4946-f3c0-2791249cd2a7"
      },
      "source": [
        "train.head()"
      ],
      "execution_count": null,
      "outputs": [
        {
          "output_type": "execute_result",
          "data": {
            "text/html": [
              "<div>\n",
              "<style scoped>\n",
              "    .dataframe tbody tr th:only-of-type {\n",
              "        vertical-align: middle;\n",
              "    }\n",
              "\n",
              "    .dataframe tbody tr th {\n",
              "        vertical-align: top;\n",
              "    }\n",
              "\n",
              "    .dataframe thead th {\n",
              "        text-align: right;\n",
              "    }\n",
              "</style>\n",
              "<table border=\"1\" class=\"dataframe\">\n",
              "  <thead>\n",
              "    <tr style=\"text-align: right;\">\n",
              "      <th></th>\n",
              "      <th>sex</th>\n",
              "      <th>marital_status</th>\n",
              "      <th>age_group</th>\n",
              "      <th>occupation_category_code</th>\n",
              "      <th>Annual_Income</th>\n",
              "      <th>Policy 1</th>\n",
              "      <th>Policy 2</th>\n",
              "      <th>Policy 3</th>\n",
              "      <th>Policy 4</th>\n",
              "      <th>Policy 5</th>\n",
              "    </tr>\n",
              "  </thead>\n",
              "  <tbody>\n",
              "    <tr>\n",
              "      <th>0</th>\n",
              "      <td>0</td>\n",
              "      <td>0</td>\n",
              "      <td>0</td>\n",
              "      <td>0</td>\n",
              "      <td>1</td>\n",
              "      <td>1</td>\n",
              "      <td>1</td>\n",
              "      <td>0</td>\n",
              "      <td>0</td>\n",
              "      <td>0</td>\n",
              "    </tr>\n",
              "    <tr>\n",
              "      <th>1</th>\n",
              "      <td>0</td>\n",
              "      <td>0</td>\n",
              "      <td>0</td>\n",
              "      <td>0</td>\n",
              "      <td>1</td>\n",
              "      <td>1</td>\n",
              "      <td>1</td>\n",
              "      <td>0</td>\n",
              "      <td>0</td>\n",
              "      <td>0</td>\n",
              "    </tr>\n",
              "    <tr>\n",
              "      <th>2</th>\n",
              "      <td>1</td>\n",
              "      <td>1</td>\n",
              "      <td>0</td>\n",
              "      <td>4</td>\n",
              "      <td>1</td>\n",
              "      <td>1</td>\n",
              "      <td>0</td>\n",
              "      <td>0</td>\n",
              "      <td>0</td>\n",
              "      <td>0</td>\n",
              "    </tr>\n",
              "    <tr>\n",
              "      <th>3</th>\n",
              "      <td>1</td>\n",
              "      <td>0</td>\n",
              "      <td>0</td>\n",
              "      <td>2</td>\n",
              "      <td>1</td>\n",
              "      <td>1</td>\n",
              "      <td>1</td>\n",
              "      <td>0</td>\n",
              "      <td>0</td>\n",
              "      <td>0</td>\n",
              "    </tr>\n",
              "    <tr>\n",
              "      <th>4</th>\n",
              "      <td>1</td>\n",
              "      <td>0</td>\n",
              "      <td>0</td>\n",
              "      <td>0</td>\n",
              "      <td>1</td>\n",
              "      <td>0</td>\n",
              "      <td>0</td>\n",
              "      <td>0</td>\n",
              "      <td>1</td>\n",
              "      <td>1</td>\n",
              "    </tr>\n",
              "  </tbody>\n",
              "</table>\n",
              "</div>"
            ],
            "text/plain": [
              "   sex  marital_status  age_group  ...  Policy 3  Policy 4  Policy 5\n",
              "0    0               0          0  ...         0         0         0\n",
              "1    0               0          0  ...         0         0         0\n",
              "2    1               1          0  ...         0         0         0\n",
              "3    1               0          0  ...         0         0         0\n",
              "4    1               0          0  ...         0         1         1\n",
              "\n",
              "[5 rows x 10 columns]"
            ]
          },
          "metadata": {
            "tags": []
          },
          "execution_count": 11
        }
      ]
    },
    {
      "cell_type": "code",
      "metadata": {
        "id": "09O5pIcVZJLL"
      },
      "source": [
        ""
      ],
      "execution_count": null,
      "outputs": []
    }
  ]
}