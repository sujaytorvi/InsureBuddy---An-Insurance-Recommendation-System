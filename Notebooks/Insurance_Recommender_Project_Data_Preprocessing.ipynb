{
  "nbformat": 4,
  "nbformat_minor": 0,
  "metadata": {
    "colab": {
      "name": "Insurance Recommender Project - Data Preprocessing.ipynb",
      "provenance": [],
      "collapsed_sections": [
        "Kw_dw7RWQo9T",
        "rVrbgShfvfzg",
        "siSuD5cy0Jnt",
        "QoiFVi1p2y9Z"
      ]
    },
    "kernelspec": {
      "display_name": "Python 3",
      "name": "python3"
    }
  },
  "cells": [
    {
      "cell_type": "markdown",
      "metadata": {
        "id": "wp5OVfkOcM-r"
      },
      "source": [
        "<center><img src = data:image/png;base64,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 ></center>\n",
        "\n",
        "# **<center><font color='black'>K.J Somaiya College of Engineering</font></center>**\n",
        "\n",
        "## <center><font color='red'>Engineering Final Year Project</font></center>\n",
        "\n",
        "## <center>**<font color='purple'>InsureBuddy - An Insurance Recommender System</font></center>**\n"
      ]
    },
    {
      "cell_type": "markdown",
      "metadata": {
        "id": "puFrU3KICojB"
      },
      "source": [
        "### **Author:**\n",
        "### **Sujay Torvi**\n",
        "### Co-Authors:\n",
        "### 1. Krupen Shah\n",
        "### 2. Harsh Somaiya\n",
        "### 3. Tirth Desai\n",
        "\n",
        "### Copyright© 2020 Under MIT License "
      ]
    },
    {
      "cell_type": "markdown",
      "metadata": {
        "id": "6tbgd5bF7Jkn"
      },
      "source": [
        "## **<font color='purple'>`Problem Statement: To process, analyse and mine the data for useful insights in insurance product recommendation and model them using various algorithms, and deploying them into an application which would provide the user with useful insurance product recommendations`</font>**"
      ]
    },
    {
      "cell_type": "markdown",
      "metadata": {
        "id": "Vq5h7YVAcP41"
      },
      "source": [
        "## **I. Dataset Preprocessing**"
      ]
    },
    {
      "cell_type": "markdown",
      "metadata": {
        "id": "ykdbw_zecWfo"
      },
      "source": [
        "## **Source of Dataset:**\n",
        "### **Zimnnat Insurance Recommendation Dataset**\n",
        "\n",
        "URL: https://zindi.africa/competitions/zimnat-insurance-recommendation-challenge\n",
        "\n",
        "<br>\n",
        "\n",
        "**<font color='red'>Important:</font>**\n",
        "\n",
        "**<font color='purple'>Since no metadata is given for this dataset we are free to remove and impute our own attributes</font>**"
      ]
    },
    {
      "cell_type": "markdown",
      "metadata": {
        "id": "PCs2cau_dP-4"
      },
      "source": [
        "### Load the dataset"
      ]
    },
    {
      "cell_type": "code",
      "metadata": {
        "id": "cB-glfaYcPC-"
      },
      "source": [
        "#import all libraries\n",
        "import numpy as np\n",
        "import pandas as pd\n",
        "import matplotlib.pyplot as plt\n",
        "from itertools import cycle, islice"
      ],
      "execution_count": null,
      "outputs": []
    },
    {
      "cell_type": "code",
      "metadata": {
        "colab": {
          "resources": {
            "http://localhost:8080/nbextensions/google.colab/files.js": {
              "data": "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",
              "ok": true,
              "headers": [
                [
                  "content-type",
                  "application/javascript"
                ]
              ],
              "status": 200,
              "status_text": ""
            }
          },
          "base_uri": "https://localhost:8080/",
          "height": 72
        },
        "id": "gI-MT6slcOLt",
        "outputId": "ea9c94ea-c026-439e-9293-1f1337d68633"
      },
      "source": [
        "from google.colab import files\n",
        "u = files.upload()"
      ],
      "execution_count": null,
      "outputs": [
        {
          "output_type": "display_data",
          "data": {
            "text/html": [
              "\n",
              "     <input type=\"file\" id=\"files-1345b972-4a89-4b9b-9f30-90f1d2a0d758\" name=\"files[]\" multiple disabled\n",
              "        style=\"border:none\" />\n",
              "     <output id=\"result-1345b972-4a89-4b9b-9f30-90f1d2a0d758\">\n",
              "      Upload widget is only available when the cell has been executed in the\n",
              "      current browser session. Please rerun this cell to enable.\n",
              "      </output>\n",
              "      <script src=\"/nbextensions/google.colab/files.js\"></script> "
            ],
            "text/plain": [
              "<IPython.core.display.HTML object>"
            ]
          },
          "metadata": {
            "tags": []
          }
        },
        {
          "output_type": "stream",
          "text": [
            "Saving Train.csv to Train.csv\n"
          ],
          "name": "stdout"
        }
      ]
    },
    {
      "cell_type": "code",
      "metadata": {
        "id": "tCHgOLsnem6-"
      },
      "source": [
        "data = pd.read_csv('Train.csv')"
      ],
      "execution_count": null,
      "outputs": []
    },
    {
      "cell_type": "code",
      "metadata": {
        "colab": {
          "base_uri": "https://localhost:8080/",
          "height": 224
        },
        "id": "-nE15R8sfEl7",
        "outputId": "df0f13b5-2c68-4446-c464-a46c0a09dba7"
      },
      "source": [
        "data.head()"
      ],
      "execution_count": null,
      "outputs": [
        {
          "output_type": "execute_result",
          "data": {
            "text/html": [
              "<div>\n",
              "<style scoped>\n",
              "    .dataframe tbody tr th:only-of-type {\n",
              "        vertical-align: middle;\n",
              "    }\n",
              "\n",
              "    .dataframe tbody tr th {\n",
              "        vertical-align: top;\n",
              "    }\n",
              "\n",
              "    .dataframe thead th {\n",
              "        text-align: right;\n",
              "    }\n",
              "</style>\n",
              "<table border=\"1\" class=\"dataframe\">\n",
              "  <thead>\n",
              "    <tr style=\"text-align: right;\">\n",
              "      <th></th>\n",
              "      <th>ID</th>\n",
              "      <th>join_date</th>\n",
              "      <th>sex</th>\n",
              "      <th>marital_status</th>\n",
              "      <th>birth_year</th>\n",
              "      <th>branch_code</th>\n",
              "      <th>occupation_code</th>\n",
              "      <th>occupation_category_code</th>\n",
              "      <th>P5DA</th>\n",
              "      <th>RIBP</th>\n",
              "      <th>8NN1</th>\n",
              "      <th>7POT</th>\n",
              "      <th>66FJ</th>\n",
              "      <th>GYSR</th>\n",
              "      <th>SOP4</th>\n",
              "      <th>RVSZ</th>\n",
              "      <th>PYUQ</th>\n",
              "      <th>LJR9</th>\n",
              "      <th>N2MW</th>\n",
              "      <th>AHXO</th>\n",
              "      <th>BSTQ</th>\n",
              "      <th>FM3X</th>\n",
              "      <th>K6QO</th>\n",
              "      <th>QBOL</th>\n",
              "      <th>JWFN</th>\n",
              "      <th>JZ9D</th>\n",
              "      <th>J9JW</th>\n",
              "      <th>GHYX</th>\n",
              "      <th>ECY3</th>\n",
              "    </tr>\n",
              "  </thead>\n",
              "  <tbody>\n",
              "    <tr>\n",
              "      <th>0</th>\n",
              "      <td>4WKQSBB</td>\n",
              "      <td>1/2/2019</td>\n",
              "      <td>F</td>\n",
              "      <td>M</td>\n",
              "      <td>1987</td>\n",
              "      <td>1X1H</td>\n",
              "      <td>2A7I</td>\n",
              "      <td>T4MS</td>\n",
              "      <td>0</td>\n",
              "      <td>0</td>\n",
              "      <td>0</td>\n",
              "      <td>0</td>\n",
              "      <td>0</td>\n",
              "      <td>0</td>\n",
              "      <td>0</td>\n",
              "      <td>1</td>\n",
              "      <td>0</td>\n",
              "      <td>0</td>\n",
              "      <td>0</td>\n",
              "      <td>0</td>\n",
              "      <td>0</td>\n",
              "      <td>0</td>\n",
              "      <td>1</td>\n",
              "      <td>0</td>\n",
              "      <td>0</td>\n",
              "      <td>0</td>\n",
              "      <td>0</td>\n",
              "      <td>0</td>\n",
              "      <td>0</td>\n",
              "    </tr>\n",
              "    <tr>\n",
              "      <th>1</th>\n",
              "      <td>CP5S02H</td>\n",
              "      <td>1/6/2019</td>\n",
              "      <td>F</td>\n",
              "      <td>M</td>\n",
              "      <td>1981</td>\n",
              "      <td>UAOD</td>\n",
              "      <td>2A7I</td>\n",
              "      <td>T4MS</td>\n",
              "      <td>0</td>\n",
              "      <td>0</td>\n",
              "      <td>0</td>\n",
              "      <td>0</td>\n",
              "      <td>0</td>\n",
              "      <td>0</td>\n",
              "      <td>0</td>\n",
              "      <td>1</td>\n",
              "      <td>0</td>\n",
              "      <td>0</td>\n",
              "      <td>0</td>\n",
              "      <td>0</td>\n",
              "      <td>0</td>\n",
              "      <td>0</td>\n",
              "      <td>1</td>\n",
              "      <td>0</td>\n",
              "      <td>0</td>\n",
              "      <td>0</td>\n",
              "      <td>0</td>\n",
              "      <td>0</td>\n",
              "      <td>0</td>\n",
              "    </tr>\n",
              "    <tr>\n",
              "      <th>2</th>\n",
              "      <td>2YKDILJ</td>\n",
              "      <td>1/6/2013</td>\n",
              "      <td>M</td>\n",
              "      <td>U</td>\n",
              "      <td>1991</td>\n",
              "      <td>748L</td>\n",
              "      <td>QZYX</td>\n",
              "      <td>90QI</td>\n",
              "      <td>0</td>\n",
              "      <td>0</td>\n",
              "      <td>0</td>\n",
              "      <td>0</td>\n",
              "      <td>0</td>\n",
              "      <td>0</td>\n",
              "      <td>1</td>\n",
              "      <td>1</td>\n",
              "      <td>0</td>\n",
              "      <td>0</td>\n",
              "      <td>0</td>\n",
              "      <td>0</td>\n",
              "      <td>0</td>\n",
              "      <td>0</td>\n",
              "      <td>0</td>\n",
              "      <td>0</td>\n",
              "      <td>0</td>\n",
              "      <td>0</td>\n",
              "      <td>0</td>\n",
              "      <td>0</td>\n",
              "      <td>1</td>\n",
              "    </tr>\n",
              "    <tr>\n",
              "      <th>3</th>\n",
              "      <td>2S9E81J</td>\n",
              "      <td>1/8/2019</td>\n",
              "      <td>M</td>\n",
              "      <td>M</td>\n",
              "      <td>1990</td>\n",
              "      <td>1X1H</td>\n",
              "      <td>BP09</td>\n",
              "      <td>56SI</td>\n",
              "      <td>0</td>\n",
              "      <td>0</td>\n",
              "      <td>0</td>\n",
              "      <td>0</td>\n",
              "      <td>0</td>\n",
              "      <td>0</td>\n",
              "      <td>0</td>\n",
              "      <td>1</td>\n",
              "      <td>0</td>\n",
              "      <td>0</td>\n",
              "      <td>0</td>\n",
              "      <td>0</td>\n",
              "      <td>0</td>\n",
              "      <td>0</td>\n",
              "      <td>1</td>\n",
              "      <td>0</td>\n",
              "      <td>0</td>\n",
              "      <td>0</td>\n",
              "      <td>0</td>\n",
              "      <td>0</td>\n",
              "      <td>0</td>\n",
              "    </tr>\n",
              "    <tr>\n",
              "      <th>4</th>\n",
              "      <td>BHDYVFT</td>\n",
              "      <td>1/8/2019</td>\n",
              "      <td>M</td>\n",
              "      <td>M</td>\n",
              "      <td>1990</td>\n",
              "      <td>748L</td>\n",
              "      <td>NO3L</td>\n",
              "      <td>T4MS</td>\n",
              "      <td>0</td>\n",
              "      <td>0</td>\n",
              "      <td>0</td>\n",
              "      <td>0</td>\n",
              "      <td>0</td>\n",
              "      <td>0</td>\n",
              "      <td>0</td>\n",
              "      <td>0</td>\n",
              "      <td>0</td>\n",
              "      <td>0</td>\n",
              "      <td>0</td>\n",
              "      <td>0</td>\n",
              "      <td>0</td>\n",
              "      <td>0</td>\n",
              "      <td>0</td>\n",
              "      <td>0</td>\n",
              "      <td>0</td>\n",
              "      <td>1</td>\n",
              "      <td>1</td>\n",
              "      <td>0</td>\n",
              "      <td>0</td>\n",
              "    </tr>\n",
              "  </tbody>\n",
              "</table>\n",
              "</div>"
            ],
            "text/plain": [
              "        ID join_date sex marital_status  ...  JZ9D J9JW GHYX ECY3\n",
              "0  4WKQSBB  1/2/2019   F              M  ...     0    0    0    0\n",
              "1  CP5S02H  1/6/2019   F              M  ...     0    0    0    0\n",
              "2  2YKDILJ  1/6/2013   M              U  ...     0    0    0    1\n",
              "3  2S9E81J  1/8/2019   M              M  ...     0    0    0    0\n",
              "4  BHDYVFT  1/8/2019   M              M  ...     1    1    0    0\n",
              "\n",
              "[5 rows x 29 columns]"
            ]
          },
          "metadata": {
            "tags": []
          },
          "execution_count": 4
        }
      ]
    },
    {
      "cell_type": "code",
      "metadata": {
        "colab": {
          "base_uri": "https://localhost:8080/"
        },
        "id": "Fb9BfZQFfFzw",
        "outputId": "cc8ce3fe-3091-4ce3-91e6-69930847cd61"
      },
      "source": [
        "print(\"Training Set dimesions: \",data.shape)"
      ],
      "execution_count": null,
      "outputs": [
        {
          "output_type": "stream",
          "text": [
            "Training Set dimesions:  (29132, 29)\n"
          ],
          "name": "stdout"
        }
      ]
    },
    {
      "cell_type": "markdown",
      "metadata": {
        "id": "9tdK4XAEgXMo"
      },
      "source": [
        "### We have 29132 instances in our train set"
      ]
    },
    {
      "cell_type": "code",
      "metadata": {
        "colab": {
          "base_uri": "https://localhost:8080/"
        },
        "id": "E_oZgA8lgMKu",
        "outputId": "726c3633-af72-4abc-a280-31ce6fc9eb52"
      },
      "source": [
        "#Checking the number of Categories for Categorical Columns\n",
        "\n",
        "for cols in data.columns:\n",
        "    if data[cols].dtype == \"O\" and (cols not in [\"ID\",\"join_date\"]):\n",
        "        print(\"Variable:\",cols,\" Number of Categories:\",len(data[cols].value_counts()))"
      ],
      "execution_count": null,
      "outputs": [
        {
          "output_type": "stream",
          "text": [
            "Variable: sex  Number of Categories: 2\n",
            "Variable: marital_status  Number of Categories: 8\n",
            "Variable: branch_code  Number of Categories: 15\n",
            "Variable: occupation_code  Number of Categories: 233\n",
            "Variable: occupation_category_code  Number of Categories: 6\n"
          ],
          "name": "stdout"
        }
      ]
    },
    {
      "cell_type": "markdown",
      "metadata": {
        "id": "w-0-h7-nh8Ug"
      },
      "source": [
        "### Viewing all the categories of the features given in our dataset"
      ]
    },
    {
      "cell_type": "code",
      "metadata": {
        "colab": {
          "base_uri": "https://localhost:8080/"
        },
        "id": "FcLtMc9CgcpD",
        "outputId": "dae5c88a-672c-476e-8fad-e4590829e0ab"
      },
      "source": [
        "data.sex.unique()"
      ],
      "execution_count": null,
      "outputs": [
        {
          "output_type": "execute_result",
          "data": {
            "text/plain": [
              "array(['F', 'M'], dtype=object)"
            ]
          },
          "metadata": {
            "tags": []
          },
          "execution_count": 7
        }
      ]
    },
    {
      "cell_type": "code",
      "metadata": {
        "colab": {
          "base_uri": "https://localhost:8080/"
        },
        "id": "Zi8HNOJLiEku",
        "outputId": "d11685ec-1571-4609-c8b7-2a65d1943419"
      },
      "source": [
        "data.branch_code.unique()"
      ],
      "execution_count": null,
      "outputs": [
        {
          "output_type": "execute_result",
          "data": {
            "text/plain": [
              "array(['1X1H', 'UAOD', '748L', 'E5SW', 'XX25', 'ZFER', '30H5', '9F9T',\n",
              "       'O67J', '94KC', '49BM', 'BOAS', 'X23B', 'EU3L', 'O4JC'],\n",
              "      dtype=object)"
            ]
          },
          "metadata": {
            "tags": []
          },
          "execution_count": 8
        }
      ]
    },
    {
      "cell_type": "code",
      "metadata": {
        "colab": {
          "base_uri": "https://localhost:8080/"
        },
        "id": "D58D_NrGiKCZ",
        "outputId": "a09c0796-ab23-4467-fb0b-c67715a3d57d"
      },
      "source": [
        "data.occupation_code.unique()"
      ],
      "execution_count": null,
      "outputs": [
        {
          "output_type": "execute_result",
          "data": {
            "text/plain": [
              "array(['2A7I', 'QZYX', 'BP09', 'NO3L', '0OJM', 'UJ5T', '0KID', 'SST3',\n",
              "       'RUFT', 'B3QW', 'P4MD', 'BPSA', 'B8W8', 'OPVX', 'PKW3', '0B60',\n",
              "       '5FPK', 'N2ZZ', '6E4H', 'F57O', 'J9SY', 'WMTK', 'YMGT', '6PE7',\n",
              "       '31JW', 'SS6D', '9IM8', 'U37O', '4W0D', 'R44Q', 'JI64', 'PMAI',\n",
              "       '73AC', 'ZKQ3', 'Y1WG', 'IQFS', 'I31I', 'U9RX', '7UDQ', 'VREH',\n",
              "       'XHJD', 'Q6J6', '2YAO', 'TUN1', 'WSID', 'OYQF', 'Q57T', 'C8F6',\n",
              "       'LQ0W', '3NHZ', 'APO0', 'IE90', 'S9KU', 'K5LB', 'F35Z', '2JHV',\n",
              "       'Q0LY', '2R78', '1NFK', 'JHU5', 'SF1X', 'JSAX', 'L4PL', 'T6AB',\n",
              "       '00MO', 'E39I', 'V4XX', 'GWEP', 'C1E3', '31GG', 'FSXG', 'WE7U',\n",
              "       '2HLT', '6XXU', '6YZA', 'WIWP', 'H1K7', 'DPRV', 'GVZ1', '8HRZ',\n",
              "       'WV7U', '5JRZ', '7KM4', '9HD1', 'RY9B', 'IJ01', '2BE6', 'XC1N',\n",
              "       'RE69', 'BWBW', '44SU', '7G9M', '734F', 'HAXM', '7UHW', 'NSJX',\n",
              "       'KPG9', 'OQMY', 'NQW1', 'WVQF', 'K5GV', 'INEJ', 'VZN9', 'RSN9',\n",
              "       'UC7E', '0PO7', '6KYM', '1MSV', '3X46', '1H8Y', 'FJBW', 'JS7M',\n",
              "       'A793', 'DZRV', 'ZCQR', 'DE5D', 'SSTX', 'PSUY', 'AQIB', '834U',\n",
              "       'WSRG', 'XVMH', 'JQH3', 'AIIN', 'K0DL', 'LGTN', 'CV2C', 'W3Y9',\n",
              "       'RXV3', 'QS0L', '738L', 'MU16', '0S50', 'FSWO', 'LAYD', 'L1P3',\n",
              "       'UBBX', 'N7K2', 'PWCW', 'QQUP', '2XZ1', '9IP9', '8Y24', 'CAAV',\n",
              "       'LLLH', 'JN20', 'IUT9', '74BF', 'IZ77', 'W1X2', 'WE0G', 'X1JO',\n",
              "       'I2OD', 'QJID', 'DHSN', 'QX54', 'IX8T', '2US6', 'VVTC', 'ZWPL',\n",
              "       'ZA1S', 'BX9E', 'NFJH', 'MEFQ', '1MB4', '1DT6', 'Q231', 'RM3L',\n",
              "       '9B5B', 'JUIP', 'Q2L0', '9FA1', 'RF6M', '2G86', '0SH6', '7UWC',\n",
              "       '820B', 'BFD1', 'YX47', 'A4ZC', 'IMHI', 'CYDC', 'FLNZ', 'Y7G1',\n",
              "       'E5PF', 'GZA8', 'S96O', 'DD8W', 'EE5R', 'AIDS', '3YQ1', '0VYC',\n",
              "       'HTQS', 'PJR4', 'NDL9', 'Z7PM', '2346', 'HJF4', '4M0E', 'PPNK',\n",
              "       '2686', '1YKL', 'KNVN', '5LNN', '374O', 'QQVA', 'NX5Y', 'URYD',\n",
              "       'M0WG', '5OVC', 'GQ0N', 'CEL6', '2MBB', 'KBWO', 'ONY7', 'VYSA',\n",
              "       'KUPK', 'OME4', 'R7GL', '1AN5', 'HSVE', 'BER4', 'OEH6', 'P2K2',\n",
              "       '6SKY', 'RH2K', 'ZHC2', 'W3ZV', 'FLXH', '6LKA', 'UYDZ', 'YJXM',\n",
              "       '59QM'], dtype=object)"
            ]
          },
          "metadata": {
            "tags": []
          },
          "execution_count": 9
        }
      ]
    },
    {
      "cell_type": "markdown",
      "metadata": {
        "id": "MVUORprikJtN"
      },
      "source": [
        "### Since the above attribute has lot of categories, it is not useful for us, so we will purge it"
      ]
    },
    {
      "cell_type": "code",
      "metadata": {
        "id": "yV1a_6xrkIlF"
      },
      "source": [
        "data.drop(['occupation_code'],axis = 1,inplace=True) #removed"
      ],
      "execution_count": null,
      "outputs": []
    },
    {
      "cell_type": "code",
      "metadata": {
        "colab": {
          "base_uri": "https://localhost:8080/",
          "height": 131
        },
        "id": "Ld8QSO3hkXAC",
        "outputId": "542bc965-832b-4916-d57e-512f9ab19829"
      },
      "source": [
        "data.head(2)"
      ],
      "execution_count": null,
      "outputs": [
        {
          "output_type": "execute_result",
          "data": {
            "text/html": [
              "<div>\n",
              "<style scoped>\n",
              "    .dataframe tbody tr th:only-of-type {\n",
              "        vertical-align: middle;\n",
              "    }\n",
              "\n",
              "    .dataframe tbody tr th {\n",
              "        vertical-align: top;\n",
              "    }\n",
              "\n",
              "    .dataframe thead th {\n",
              "        text-align: right;\n",
              "    }\n",
              "</style>\n",
              "<table border=\"1\" class=\"dataframe\">\n",
              "  <thead>\n",
              "    <tr style=\"text-align: right;\">\n",
              "      <th></th>\n",
              "      <th>ID</th>\n",
              "      <th>join_date</th>\n",
              "      <th>sex</th>\n",
              "      <th>marital_status</th>\n",
              "      <th>birth_year</th>\n",
              "      <th>branch_code</th>\n",
              "      <th>occupation_category_code</th>\n",
              "      <th>P5DA</th>\n",
              "      <th>RIBP</th>\n",
              "      <th>8NN1</th>\n",
              "      <th>7POT</th>\n",
              "      <th>66FJ</th>\n",
              "      <th>GYSR</th>\n",
              "      <th>SOP4</th>\n",
              "      <th>RVSZ</th>\n",
              "      <th>PYUQ</th>\n",
              "      <th>LJR9</th>\n",
              "      <th>N2MW</th>\n",
              "      <th>AHXO</th>\n",
              "      <th>BSTQ</th>\n",
              "      <th>FM3X</th>\n",
              "      <th>K6QO</th>\n",
              "      <th>QBOL</th>\n",
              "      <th>JWFN</th>\n",
              "      <th>JZ9D</th>\n",
              "      <th>J9JW</th>\n",
              "      <th>GHYX</th>\n",
              "      <th>ECY3</th>\n",
              "    </tr>\n",
              "  </thead>\n",
              "  <tbody>\n",
              "    <tr>\n",
              "      <th>0</th>\n",
              "      <td>4WKQSBB</td>\n",
              "      <td>1/2/2019</td>\n",
              "      <td>F</td>\n",
              "      <td>M</td>\n",
              "      <td>1987</td>\n",
              "      <td>1X1H</td>\n",
              "      <td>T4MS</td>\n",
              "      <td>0</td>\n",
              "      <td>0</td>\n",
              "      <td>0</td>\n",
              "      <td>0</td>\n",
              "      <td>0</td>\n",
              "      <td>0</td>\n",
              "      <td>0</td>\n",
              "      <td>1</td>\n",
              "      <td>0</td>\n",
              "      <td>0</td>\n",
              "      <td>0</td>\n",
              "      <td>0</td>\n",
              "      <td>0</td>\n",
              "      <td>0</td>\n",
              "      <td>1</td>\n",
              "      <td>0</td>\n",
              "      <td>0</td>\n",
              "      <td>0</td>\n",
              "      <td>0</td>\n",
              "      <td>0</td>\n",
              "      <td>0</td>\n",
              "    </tr>\n",
              "    <tr>\n",
              "      <th>1</th>\n",
              "      <td>CP5S02H</td>\n",
              "      <td>1/6/2019</td>\n",
              "      <td>F</td>\n",
              "      <td>M</td>\n",
              "      <td>1981</td>\n",
              "      <td>UAOD</td>\n",
              "      <td>T4MS</td>\n",
              "      <td>0</td>\n",
              "      <td>0</td>\n",
              "      <td>0</td>\n",
              "      <td>0</td>\n",
              "      <td>0</td>\n",
              "      <td>0</td>\n",
              "      <td>0</td>\n",
              "      <td>1</td>\n",
              "      <td>0</td>\n",
              "      <td>0</td>\n",
              "      <td>0</td>\n",
              "      <td>0</td>\n",
              "      <td>0</td>\n",
              "      <td>0</td>\n",
              "      <td>1</td>\n",
              "      <td>0</td>\n",
              "      <td>0</td>\n",
              "      <td>0</td>\n",
              "      <td>0</td>\n",
              "      <td>0</td>\n",
              "      <td>0</td>\n",
              "    </tr>\n",
              "  </tbody>\n",
              "</table>\n",
              "</div>"
            ],
            "text/plain": [
              "        ID join_date sex marital_status  ...  JZ9D J9JW GHYX  ECY3\n",
              "0  4WKQSBB  1/2/2019   F              M  ...     0    0    0     0\n",
              "1  CP5S02H  1/6/2019   F              M  ...     0    0    0     0\n",
              "\n",
              "[2 rows x 28 columns]"
            ]
          },
          "metadata": {
            "tags": []
          },
          "execution_count": 11
        }
      ]
    },
    {
      "cell_type": "code",
      "metadata": {
        "colab": {
          "base_uri": "https://localhost:8080/"
        },
        "id": "508reK4Zkv_1",
        "outputId": "9ffb7ee2-3d81-4da7-f87a-faf56063d550"
      },
      "source": [
        "data.birth_year.unique()"
      ],
      "execution_count": null,
      "outputs": [
        {
          "output_type": "execute_result",
          "data": {
            "text/plain": [
              "array([1987, 1981, 1991, 1990, 1984, 1977, 1995, 1985, 1994, 1958, 1986,\n",
              "       1959, 1966, 1965, 1967, 1968, 1963, 1974, 1983, 1989, 1976, 1979,\n",
              "       1957, 1993, 1973, 1996, 2000, 1988, 1982, 1972, 1978, 1962, 1975,\n",
              "       1960, 1980, 1970, 1969, 1997, 1956, 1971, 1992, 1964, 1961, 1955,\n",
              "       1998, 1999, 2001, 1938, 2005, 1953, 1954, 1948, 2002, 1952, 1947,\n",
              "       1950, 1932, 1946, 1951, 2011, 1936])"
            ]
          },
          "metadata": {
            "tags": []
          },
          "execution_count": 12
        }
      ]
    },
    {
      "cell_type": "markdown",
      "metadata": {
        "id": "FMq1bfAxldl9"
      },
      "source": [
        "### We can bin the age category into few bins such as:\n",
        "### 1. Post 2000 (2000-2020)\n",
        "### 2. 1980's - 2000's\n",
        "### 3. 1960's - 1980's\n",
        "### 4. Before 1960'sz"
      ]
    },
    {
      "cell_type": "code",
      "metadata": {
        "id": "aPF5S0bslTVc"
      },
      "source": [
        "def bin_age(x):\n",
        "  if(x > 1995):\n",
        "    return 'Below 25'\n",
        "  elif(x > 1980 and x <=1995):\n",
        "    return '25-40'\n",
        "  elif(x>= 1960 and x <=1980):\n",
        "    return '41-60'\n",
        "  elif(x < 1960):\n",
        "    return 'Above 60'"
      ],
      "execution_count": null,
      "outputs": []
    },
    {
      "cell_type": "code",
      "metadata": {
        "id": "Xn5qQSEtnW-3"
      },
      "source": [
        "data.birth_year = data.birth_year.apply(bin_age)"
      ],
      "execution_count": null,
      "outputs": []
    },
    {
      "cell_type": "code",
      "metadata": {
        "colab": {
          "base_uri": "https://localhost:8080/"
        },
        "id": "VFyaAYdspmjl",
        "outputId": "934fd102-5315-483d-c093-a53a87d7d5c7"
      },
      "source": [
        "data.occupation_category_code.unique()"
      ],
      "execution_count": null,
      "outputs": [
        {
          "output_type": "execute_result",
          "data": {
            "text/plain": [
              "array(['T4MS', '90QI', '56SI', 'JD7X', 'L44T', 'AHH5'], dtype=object)"
            ]
          },
          "metadata": {
            "tags": []
          },
          "execution_count": 15
        }
      ]
    },
    {
      "cell_type": "code",
      "metadata": {
        "colab": {
          "base_uri": "https://localhost:8080/"
        },
        "id": "pL0oyxgsrA3n",
        "outputId": "ad84c11a-d303-414a-8fb3-a85915b632ad"
      },
      "source": [
        "data.branch_code.unique()"
      ],
      "execution_count": null,
      "outputs": [
        {
          "output_type": "execute_result",
          "data": {
            "text/plain": [
              "array(['1X1H', 'UAOD', '748L', 'E5SW', 'XX25', 'ZFER', '30H5', '9F9T',\n",
              "       'O67J', '94KC', '49BM', 'BOAS', 'X23B', 'EU3L', 'O4JC'],\n",
              "      dtype=object)"
            ]
          },
          "metadata": {
            "tags": []
          },
          "execution_count": 16
        }
      ]
    },
    {
      "cell_type": "markdown",
      "metadata": {
        "id": "Tf1U28_ADi6J"
      },
      "source": [
        "### We can purge joined_date also since it does not seem to make any effect on the prediction"
      ]
    },
    {
      "cell_type": "code",
      "metadata": {
        "id": "keEjdnhHrIxt"
      },
      "source": [
        "data.drop(['join_date'],axis = 1,inplace=True) #removed"
      ],
      "execution_count": null,
      "outputs": []
    },
    {
      "cell_type": "code",
      "metadata": {
        "colab": {
          "base_uri": "https://localhost:8080/",
          "height": 131
        },
        "id": "FADoEHaVD4Ek",
        "outputId": "012c3d99-423f-4cdd-edce-2379ef073311"
      },
      "source": [
        "data.head(2)"
      ],
      "execution_count": null,
      "outputs": [
        {
          "output_type": "execute_result",
          "data": {
            "text/html": [
              "<div>\n",
              "<style scoped>\n",
              "    .dataframe tbody tr th:only-of-type {\n",
              "        vertical-align: middle;\n",
              "    }\n",
              "\n",
              "    .dataframe tbody tr th {\n",
              "        vertical-align: top;\n",
              "    }\n",
              "\n",
              "    .dataframe thead th {\n",
              "        text-align: right;\n",
              "    }\n",
              "</style>\n",
              "<table border=\"1\" class=\"dataframe\">\n",
              "  <thead>\n",
              "    <tr style=\"text-align: right;\">\n",
              "      <th></th>\n",
              "      <th>ID</th>\n",
              "      <th>sex</th>\n",
              "      <th>marital_status</th>\n",
              "      <th>birth_year</th>\n",
              "      <th>branch_code</th>\n",
              "      <th>occupation_category_code</th>\n",
              "      <th>P5DA</th>\n",
              "      <th>RIBP</th>\n",
              "      <th>8NN1</th>\n",
              "      <th>7POT</th>\n",
              "      <th>66FJ</th>\n",
              "      <th>GYSR</th>\n",
              "      <th>SOP4</th>\n",
              "      <th>RVSZ</th>\n",
              "      <th>PYUQ</th>\n",
              "      <th>LJR9</th>\n",
              "      <th>N2MW</th>\n",
              "      <th>AHXO</th>\n",
              "      <th>BSTQ</th>\n",
              "      <th>FM3X</th>\n",
              "      <th>K6QO</th>\n",
              "      <th>QBOL</th>\n",
              "      <th>JWFN</th>\n",
              "      <th>JZ9D</th>\n",
              "      <th>J9JW</th>\n",
              "      <th>GHYX</th>\n",
              "      <th>ECY3</th>\n",
              "    </tr>\n",
              "  </thead>\n",
              "  <tbody>\n",
              "    <tr>\n",
              "      <th>0</th>\n",
              "      <td>4WKQSBB</td>\n",
              "      <td>F</td>\n",
              "      <td>M</td>\n",
              "      <td>25-40</td>\n",
              "      <td>1X1H</td>\n",
              "      <td>T4MS</td>\n",
              "      <td>0</td>\n",
              "      <td>0</td>\n",
              "      <td>0</td>\n",
              "      <td>0</td>\n",
              "      <td>0</td>\n",
              "      <td>0</td>\n",
              "      <td>0</td>\n",
              "      <td>1</td>\n",
              "      <td>0</td>\n",
              "      <td>0</td>\n",
              "      <td>0</td>\n",
              "      <td>0</td>\n",
              "      <td>0</td>\n",
              "      <td>0</td>\n",
              "      <td>1</td>\n",
              "      <td>0</td>\n",
              "      <td>0</td>\n",
              "      <td>0</td>\n",
              "      <td>0</td>\n",
              "      <td>0</td>\n",
              "      <td>0</td>\n",
              "    </tr>\n",
              "    <tr>\n",
              "      <th>1</th>\n",
              "      <td>CP5S02H</td>\n",
              "      <td>F</td>\n",
              "      <td>M</td>\n",
              "      <td>25-40</td>\n",
              "      <td>UAOD</td>\n",
              "      <td>T4MS</td>\n",
              "      <td>0</td>\n",
              "      <td>0</td>\n",
              "      <td>0</td>\n",
              "      <td>0</td>\n",
              "      <td>0</td>\n",
              "      <td>0</td>\n",
              "      <td>0</td>\n",
              "      <td>1</td>\n",
              "      <td>0</td>\n",
              "      <td>0</td>\n",
              "      <td>0</td>\n",
              "      <td>0</td>\n",
              "      <td>0</td>\n",
              "      <td>0</td>\n",
              "      <td>1</td>\n",
              "      <td>0</td>\n",
              "      <td>0</td>\n",
              "      <td>0</td>\n",
              "      <td>0</td>\n",
              "      <td>0</td>\n",
              "      <td>0</td>\n",
              "    </tr>\n",
              "  </tbody>\n",
              "</table>\n",
              "</div>"
            ],
            "text/plain": [
              "        ID sex marital_status birth_year  ... JZ9D J9JW  GHYX  ECY3\n",
              "0  4WKQSBB   F              M      25-40  ...    0    0     0     0\n",
              "1  CP5S02H   F              M      25-40  ...    0    0     0     0\n",
              "\n",
              "[2 rows x 27 columns]"
            ]
          },
          "metadata": {
            "tags": []
          },
          "execution_count": 18
        }
      ]
    },
    {
      "cell_type": "markdown",
      "metadata": {
        "id": "ErvkZ3B7RPaV"
      },
      "source": [
        "### Dropping branch_code since it does not make any sense to ask a non-customer while recommending product"
      ]
    },
    {
      "cell_type": "code",
      "metadata": {
        "id": "A7efka0YRO0O"
      },
      "source": [
        "data.drop(['branch_code'],axis = 1,inplace=True) #removed"
      ],
      "execution_count": null,
      "outputs": []
    },
    {
      "cell_type": "code",
      "metadata": {
        "colab": {
          "base_uri": "https://localhost:8080/",
          "height": 131
        },
        "id": "yQTBr7YBSKAc",
        "outputId": "2b5bf317-29cf-4de3-d688-da9045332b33"
      },
      "source": [
        "data.head(2)"
      ],
      "execution_count": null,
      "outputs": [
        {
          "output_type": "execute_result",
          "data": {
            "text/html": [
              "<div>\n",
              "<style scoped>\n",
              "    .dataframe tbody tr th:only-of-type {\n",
              "        vertical-align: middle;\n",
              "    }\n",
              "\n",
              "    .dataframe tbody tr th {\n",
              "        vertical-align: top;\n",
              "    }\n",
              "\n",
              "    .dataframe thead th {\n",
              "        text-align: right;\n",
              "    }\n",
              "</style>\n",
              "<table border=\"1\" class=\"dataframe\">\n",
              "  <thead>\n",
              "    <tr style=\"text-align: right;\">\n",
              "      <th></th>\n",
              "      <th>ID</th>\n",
              "      <th>sex</th>\n",
              "      <th>marital_status</th>\n",
              "      <th>birth_year</th>\n",
              "      <th>occupation_category_code</th>\n",
              "      <th>P5DA</th>\n",
              "      <th>RIBP</th>\n",
              "      <th>8NN1</th>\n",
              "      <th>7POT</th>\n",
              "      <th>66FJ</th>\n",
              "      <th>GYSR</th>\n",
              "      <th>SOP4</th>\n",
              "      <th>RVSZ</th>\n",
              "      <th>PYUQ</th>\n",
              "      <th>LJR9</th>\n",
              "      <th>N2MW</th>\n",
              "      <th>AHXO</th>\n",
              "      <th>BSTQ</th>\n",
              "      <th>FM3X</th>\n",
              "      <th>K6QO</th>\n",
              "      <th>QBOL</th>\n",
              "      <th>JWFN</th>\n",
              "      <th>JZ9D</th>\n",
              "      <th>J9JW</th>\n",
              "      <th>GHYX</th>\n",
              "      <th>ECY3</th>\n",
              "    </tr>\n",
              "  </thead>\n",
              "  <tbody>\n",
              "    <tr>\n",
              "      <th>0</th>\n",
              "      <td>4WKQSBB</td>\n",
              "      <td>F</td>\n",
              "      <td>M</td>\n",
              "      <td>25-40</td>\n",
              "      <td>T4MS</td>\n",
              "      <td>0</td>\n",
              "      <td>0</td>\n",
              "      <td>0</td>\n",
              "      <td>0</td>\n",
              "      <td>0</td>\n",
              "      <td>0</td>\n",
              "      <td>0</td>\n",
              "      <td>1</td>\n",
              "      <td>0</td>\n",
              "      <td>0</td>\n",
              "      <td>0</td>\n",
              "      <td>0</td>\n",
              "      <td>0</td>\n",
              "      <td>0</td>\n",
              "      <td>1</td>\n",
              "      <td>0</td>\n",
              "      <td>0</td>\n",
              "      <td>0</td>\n",
              "      <td>0</td>\n",
              "      <td>0</td>\n",
              "      <td>0</td>\n",
              "    </tr>\n",
              "    <tr>\n",
              "      <th>1</th>\n",
              "      <td>CP5S02H</td>\n",
              "      <td>F</td>\n",
              "      <td>M</td>\n",
              "      <td>25-40</td>\n",
              "      <td>T4MS</td>\n",
              "      <td>0</td>\n",
              "      <td>0</td>\n",
              "      <td>0</td>\n",
              "      <td>0</td>\n",
              "      <td>0</td>\n",
              "      <td>0</td>\n",
              "      <td>0</td>\n",
              "      <td>1</td>\n",
              "      <td>0</td>\n",
              "      <td>0</td>\n",
              "      <td>0</td>\n",
              "      <td>0</td>\n",
              "      <td>0</td>\n",
              "      <td>0</td>\n",
              "      <td>1</td>\n",
              "      <td>0</td>\n",
              "      <td>0</td>\n",
              "      <td>0</td>\n",
              "      <td>0</td>\n",
              "      <td>0</td>\n",
              "      <td>0</td>\n",
              "    </tr>\n",
              "  </tbody>\n",
              "</table>\n",
              "</div>"
            ],
            "text/plain": [
              "        ID sex marital_status birth_year  ... JZ9D  J9JW  GHYX  ECY3\n",
              "0  4WKQSBB   F              M      25-40  ...    0     0     0     0\n",
              "1  CP5S02H   F              M      25-40  ...    0     0     0     0\n",
              "\n",
              "[2 rows x 26 columns]"
            ]
          },
          "metadata": {
            "tags": []
          },
          "execution_count": 20
        }
      ]
    },
    {
      "cell_type": "markdown",
      "metadata": {
        "id": "nMykixPeSYeq"
      },
      "source": [
        "### Renaming all the policies of the dataset for better readability"
      ]
    },
    {
      "cell_type": "code",
      "metadata": {
        "colab": {
          "base_uri": "https://localhost:8080/"
        },
        "id": "X-Ys1NVdSefy",
        "outputId": "cbd23473-c773-4f1a-f24b-2f6bd777676d"
      },
      "source": [
        "col_list = data.columns\n",
        "col_list"
      ],
      "execution_count": null,
      "outputs": [
        {
          "output_type": "execute_result",
          "data": {
            "text/plain": [
              "Index(['ID', 'sex', 'marital_status', 'birth_year', 'occupation_category_code',\n",
              "       'P5DA', 'RIBP', '8NN1', '7POT', '66FJ', 'GYSR', 'SOP4', 'RVSZ', 'PYUQ',\n",
              "       'LJR9', 'N2MW', 'AHXO', 'BSTQ', 'FM3X', 'K6QO', 'QBOL', 'JWFN', 'JZ9D',\n",
              "       'J9JW', 'GHYX', 'ECY3'],\n",
              "      dtype='object')"
            ]
          },
          "metadata": {
            "tags": []
          },
          "execution_count": 21
        }
      ]
    },
    {
      "cell_type": "code",
      "metadata": {
        "id": "6UmxgoUoSjZO"
      },
      "source": [
        "col_list = ['ID', 'sex', 'marital_status', 'age_group', 'occupation_category_code',\\\n",
        "       'Policy 1', 'Policy 2', 'Policy 3', 'Policy 4', 'Policy 5', 'Policy 6', 'Policy 7', 'Policy 8', 'Policy 9',\\\n",
        "       'Policy 10', 'Policy 11', 'Policy 12', 'Policy 13', 'Policy 14', 'Policy 15', 'Policy 16', 'Policy 17', 'Policy 18',\\\n",
        "       'Policy 19', 'Policy 20', 'Policy 21']"
      ],
      "execution_count": null,
      "outputs": []
    },
    {
      "cell_type": "code",
      "metadata": {
        "id": "pAeSv5vSTNDC"
      },
      "source": [
        "data.columns = col_list"
      ],
      "execution_count": null,
      "outputs": []
    },
    {
      "cell_type": "code",
      "metadata": {
        "colab": {
          "base_uri": "https://localhost:8080/",
          "height": 241
        },
        "id": "RHlJGc6bTQMm",
        "outputId": "609e79ac-11c4-47e1-a476-5e67e3cdb7ee"
      },
      "source": [
        "data.head()"
      ],
      "execution_count": null,
      "outputs": [
        {
          "output_type": "execute_result",
          "data": {
            "text/html": [
              "<div>\n",
              "<style scoped>\n",
              "    .dataframe tbody tr th:only-of-type {\n",
              "        vertical-align: middle;\n",
              "    }\n",
              "\n",
              "    .dataframe tbody tr th {\n",
              "        vertical-align: top;\n",
              "    }\n",
              "\n",
              "    .dataframe thead th {\n",
              "        text-align: right;\n",
              "    }\n",
              "</style>\n",
              "<table border=\"1\" class=\"dataframe\">\n",
              "  <thead>\n",
              "    <tr style=\"text-align: right;\">\n",
              "      <th></th>\n",
              "      <th>ID</th>\n",
              "      <th>sex</th>\n",
              "      <th>marital_status</th>\n",
              "      <th>age_group</th>\n",
              "      <th>occupation_category_code</th>\n",
              "      <th>Policy 1</th>\n",
              "      <th>Policy 2</th>\n",
              "      <th>Policy 3</th>\n",
              "      <th>Policy 4</th>\n",
              "      <th>Policy 5</th>\n",
              "      <th>Policy 6</th>\n",
              "      <th>Policy 7</th>\n",
              "      <th>Policy 8</th>\n",
              "      <th>Policy 9</th>\n",
              "      <th>Policy 10</th>\n",
              "      <th>Policy 11</th>\n",
              "      <th>Policy 12</th>\n",
              "      <th>Policy 13</th>\n",
              "      <th>Policy 14</th>\n",
              "      <th>Policy 15</th>\n",
              "      <th>Policy 16</th>\n",
              "      <th>Policy 17</th>\n",
              "      <th>Policy 18</th>\n",
              "      <th>Policy 19</th>\n",
              "      <th>Policy 20</th>\n",
              "      <th>Policy 21</th>\n",
              "    </tr>\n",
              "  </thead>\n",
              "  <tbody>\n",
              "    <tr>\n",
              "      <th>0</th>\n",
              "      <td>4WKQSBB</td>\n",
              "      <td>F</td>\n",
              "      <td>M</td>\n",
              "      <td>25-40</td>\n",
              "      <td>T4MS</td>\n",
              "      <td>0</td>\n",
              "      <td>0</td>\n",
              "      <td>0</td>\n",
              "      <td>0</td>\n",
              "      <td>0</td>\n",
              "      <td>0</td>\n",
              "      <td>0</td>\n",
              "      <td>1</td>\n",
              "      <td>0</td>\n",
              "      <td>0</td>\n",
              "      <td>0</td>\n",
              "      <td>0</td>\n",
              "      <td>0</td>\n",
              "      <td>0</td>\n",
              "      <td>1</td>\n",
              "      <td>0</td>\n",
              "      <td>0</td>\n",
              "      <td>0</td>\n",
              "      <td>0</td>\n",
              "      <td>0</td>\n",
              "      <td>0</td>\n",
              "    </tr>\n",
              "    <tr>\n",
              "      <th>1</th>\n",
              "      <td>CP5S02H</td>\n",
              "      <td>F</td>\n",
              "      <td>M</td>\n",
              "      <td>25-40</td>\n",
              "      <td>T4MS</td>\n",
              "      <td>0</td>\n",
              "      <td>0</td>\n",
              "      <td>0</td>\n",
              "      <td>0</td>\n",
              "      <td>0</td>\n",
              "      <td>0</td>\n",
              "      <td>0</td>\n",
              "      <td>1</td>\n",
              "      <td>0</td>\n",
              "      <td>0</td>\n",
              "      <td>0</td>\n",
              "      <td>0</td>\n",
              "      <td>0</td>\n",
              "      <td>0</td>\n",
              "      <td>1</td>\n",
              "      <td>0</td>\n",
              "      <td>0</td>\n",
              "      <td>0</td>\n",
              "      <td>0</td>\n",
              "      <td>0</td>\n",
              "      <td>0</td>\n",
              "    </tr>\n",
              "    <tr>\n",
              "      <th>2</th>\n",
              "      <td>2YKDILJ</td>\n",
              "      <td>M</td>\n",
              "      <td>U</td>\n",
              "      <td>25-40</td>\n",
              "      <td>90QI</td>\n",
              "      <td>0</td>\n",
              "      <td>0</td>\n",
              "      <td>0</td>\n",
              "      <td>0</td>\n",
              "      <td>0</td>\n",
              "      <td>0</td>\n",
              "      <td>1</td>\n",
              "      <td>1</td>\n",
              "      <td>0</td>\n",
              "      <td>0</td>\n",
              "      <td>0</td>\n",
              "      <td>0</td>\n",
              "      <td>0</td>\n",
              "      <td>0</td>\n",
              "      <td>0</td>\n",
              "      <td>0</td>\n",
              "      <td>0</td>\n",
              "      <td>0</td>\n",
              "      <td>0</td>\n",
              "      <td>0</td>\n",
              "      <td>1</td>\n",
              "    </tr>\n",
              "    <tr>\n",
              "      <th>3</th>\n",
              "      <td>2S9E81J</td>\n",
              "      <td>M</td>\n",
              "      <td>M</td>\n",
              "      <td>25-40</td>\n",
              "      <td>56SI</td>\n",
              "      <td>0</td>\n",
              "      <td>0</td>\n",
              "      <td>0</td>\n",
              "      <td>0</td>\n",
              "      <td>0</td>\n",
              "      <td>0</td>\n",
              "      <td>0</td>\n",
              "      <td>1</td>\n",
              "      <td>0</td>\n",
              "      <td>0</td>\n",
              "      <td>0</td>\n",
              "      <td>0</td>\n",
              "      <td>0</td>\n",
              "      <td>0</td>\n",
              "      <td>1</td>\n",
              "      <td>0</td>\n",
              "      <td>0</td>\n",
              "      <td>0</td>\n",
              "      <td>0</td>\n",
              "      <td>0</td>\n",
              "      <td>0</td>\n",
              "    </tr>\n",
              "    <tr>\n",
              "      <th>4</th>\n",
              "      <td>BHDYVFT</td>\n",
              "      <td>M</td>\n",
              "      <td>M</td>\n",
              "      <td>25-40</td>\n",
              "      <td>T4MS</td>\n",
              "      <td>0</td>\n",
              "      <td>0</td>\n",
              "      <td>0</td>\n",
              "      <td>0</td>\n",
              "      <td>0</td>\n",
              "      <td>0</td>\n",
              "      <td>0</td>\n",
              "      <td>0</td>\n",
              "      <td>0</td>\n",
              "      <td>0</td>\n",
              "      <td>0</td>\n",
              "      <td>0</td>\n",
              "      <td>0</td>\n",
              "      <td>0</td>\n",
              "      <td>0</td>\n",
              "      <td>0</td>\n",
              "      <td>0</td>\n",
              "      <td>1</td>\n",
              "      <td>1</td>\n",
              "      <td>0</td>\n",
              "      <td>0</td>\n",
              "    </tr>\n",
              "  </tbody>\n",
              "</table>\n",
              "</div>"
            ],
            "text/plain": [
              "        ID sex marital_status  ... Policy 19 Policy 20  Policy 21\n",
              "0  4WKQSBB   F              M  ...         0         0          0\n",
              "1  CP5S02H   F              M  ...         0         0          0\n",
              "2  2YKDILJ   M              U  ...         0         0          1\n",
              "3  2S9E81J   M              M  ...         0         0          0\n",
              "4  BHDYVFT   M              M  ...         1         0          0\n",
              "\n",
              "[5 rows x 26 columns]"
            ]
          },
          "metadata": {
            "tags": []
          },
          "execution_count": 24
        }
      ]
    },
    {
      "cell_type": "markdown",
      "metadata": {
        "id": "Kw_dw7RWQo9T"
      },
      "source": [
        "\n",
        "### We shall now do some Exploratory Data Analysis by plotting graphs"
      ]
    },
    {
      "cell_type": "markdown",
      "metadata": {
        "id": "KU01D7lpTvit"
      },
      "source": [
        "### We will start off by visualizing number of users from different categories"
      ]
    },
    {
      "cell_type": "markdown",
      "metadata": {
        "id": "5-380vCipJKW"
      },
      "source": [
        "### We can see the occupation that has largest insurance userbase above\n",
        "\n",
        "### we shall rename the occupations as follows:\n",
        "\n",
        "1. T4MS - Corporate Employee\n",
        "2. 90QI - Self Employed\n",
        "3. 56SI - Medical Professional\n",
        "4. L44T - Enterpreneur\n",
        "5. JD7X - Military Service\n",
        "6. AHH5 - Other\n",
        "\n",
        "#### **Here we shall explain the description of occupations of people:**\n",
        "\n",
        "#### Corporate Employee - A person working at an Organization(Private,PSU,Govt.,other etc)\n",
        "\n",
        "#### Self Employed - A person engaged in his own profession., eg., artist, stock broker, real estate agent, consultant,freelance jobs, etc\n",
        "\n",
        "#### Medical Professional - Doctors working at clinics or Hospitals Come in this category\n",
        "\n",
        "#### Military Service - Persons Engaged in Defense sectors,etc\n",
        "\n",
        "#### Enterpreneur - Running own business (shop, MSME, small company,etc)\n",
        "#### Other - any other occupation not covered above\n",
        "\n"
      ]
    },
    {
      "cell_type": "code",
      "metadata": {
        "id": "czddsJAgpFaa"
      },
      "source": [
        "#performing label encoding on the occupation set\n",
        "\n",
        "def encode_occupation(x):\n",
        "  if(x == 'T4MS'):\n",
        "    return 'Corporate Employee'\n",
        "  elif(x == '90QI'):\n",
        "    return 'Self Employed'\n",
        "  elif(x == '56SI'):\n",
        "    return 'Medical Professional'\n",
        "  elif(x == 'L44T'):\n",
        "    return 'Enterpreneur'\n",
        "  elif(x == 'JD7X'):\n",
        "    return 'Military Service'\n",
        "  elif(x == 'AHH5'):\n",
        "    return 'Other'"
      ],
      "execution_count": null,
      "outputs": []
    },
    {
      "cell_type": "code",
      "metadata": {
        "id": "YYAppJ4IrArr"
      },
      "source": [
        "data.occupation_category_code = data.occupation_category_code.apply(encode_occupation)"
      ],
      "execution_count": null,
      "outputs": []
    },
    {
      "cell_type": "code",
      "metadata": {
        "colab": {
          "base_uri": "https://localhost:8080/"
        },
        "id": "Qm1_ZcDvEaJv",
        "outputId": "ee3d2d89-b077-44bf-e975-d3c48b2fdd6b"
      },
      "source": [
        "data.occupation_category_code.value_counts()"
      ],
      "execution_count": null,
      "outputs": [
        {
          "output_type": "execute_result",
          "data": {
            "text/plain": [
              "Corporate Employee      18619\n",
              "Self Employed            5552\n",
              "Medical Professional     3655\n",
              "Enterpreneur              628\n",
              "Military Service          576\n",
              "Other                     102\n",
              "Name: occupation_category_code, dtype: int64"
            ]
          },
          "metadata": {
            "tags": []
          },
          "execution_count": 27
        }
      ]
    },
    {
      "cell_type": "code",
      "metadata": {
        "colab": {
          "base_uri": "https://localhost:8080/",
          "height": 387
        },
        "id": "FywWR0IU6rad",
        "outputId": "9ce037c5-2211-40db-94ad-df5894f12dce"
      },
      "source": [
        "data.occupation_category_code.value_counts().plot.bar(title = \"Counts of users from different occupations\",color=['blue', 'red', 'green', 'blue', 'yellow','cyan'] , xlabel = \"Categories of occupations\", ylabel = \"Count\")\n",
        "plt.show()"
      ],
      "execution_count": null,
      "outputs": [
        {
          "output_type": "display_data",
          "data": {
            "image/png": "[encoded data removed]",
            "text/plain": [
              "<Figure size 432x288 with 1 Axes>"
            ]
          },
          "metadata": {
            "tags": [],
            "needs_background": "light"
          }
        }
      ]
    },
    {
      "cell_type": "markdown",
      "metadata": {
        "id": "OgnM6ka8EnY3"
      },
      "source": [
        "### We can purge the other occupation category, since it is insignificant"
      ]
    },
    {
      "cell_type": "code",
      "metadata": {
        "id": "Qpascp5XFTsb"
      },
      "source": [
        "data = data[data.occupation_category_code != 'Other']"
      ],
      "execution_count": null,
      "outputs": []
    },
    {
      "cell_type": "code",
      "metadata": {
        "colab": {
          "base_uri": "https://localhost:8080/"
        },
        "id": "ZaQqChAQFlFG",
        "outputId": "7b036607-2073-4bc1-d0d0-de37a2f5845b"
      },
      "source": [
        "data.occupation_category_code.value_counts()"
      ],
      "execution_count": null,
      "outputs": [
        {
          "output_type": "execute_result",
          "data": {
            "text/plain": [
              "Corporate Employee      18619\n",
              "Self Employed            5552\n",
              "Medical Professional     3655\n",
              "Enterpreneur              628\n",
              "Military Service          576\n",
              "Name: occupation_category_code, dtype: int64"
            ]
          },
          "metadata": {
            "tags": []
          },
          "execution_count": 30
        }
      ]
    },
    {
      "cell_type": "code",
      "metadata": {
        "colab": {
          "base_uri": "https://localhost:8080/",
          "height": 241
        },
        "id": "QR4YND2TrC-i",
        "outputId": "ddf25a08-237b-4df4-d6b2-e5a5a90ab776"
      },
      "source": [
        "data.head()"
      ],
      "execution_count": null,
      "outputs": [
        {
          "output_type": "execute_result",
          "data": {
            "text/html": [
              "<div>\n",
              "<style scoped>\n",
              "    .dataframe tbody tr th:only-of-type {\n",
              "        vertical-align: middle;\n",
              "    }\n",
              "\n",
              "    .dataframe tbody tr th {\n",
              "        vertical-align: top;\n",
              "    }\n",
              "\n",
              "    .dataframe thead th {\n",
              "        text-align: right;\n",
              "    }\n",
              "</style>\n",
              "<table border=\"1\" class=\"dataframe\">\n",
              "  <thead>\n",
              "    <tr style=\"text-align: right;\">\n",
              "      <th></th>\n",
              "      <th>ID</th>\n",
              "      <th>sex</th>\n",
              "      <th>marital_status</th>\n",
              "      <th>age_group</th>\n",
              "      <th>occupation_category_code</th>\n",
              "      <th>Policy 1</th>\n",
              "      <th>Policy 2</th>\n",
              "      <th>Policy 3</th>\n",
              "      <th>Policy 4</th>\n",
              "      <th>Policy 5</th>\n",
              "      <th>Policy 6</th>\n",
              "      <th>Policy 7</th>\n",
              "      <th>Policy 8</th>\n",
              "      <th>Policy 9</th>\n",
              "      <th>Policy 10</th>\n",
              "      <th>Policy 11</th>\n",
              "      <th>Policy 12</th>\n",
              "      <th>Policy 13</th>\n",
              "      <th>Policy 14</th>\n",
              "      <th>Policy 15</th>\n",
              "      <th>Policy 16</th>\n",
              "      <th>Policy 17</th>\n",
              "      <th>Policy 18</th>\n",
              "      <th>Policy 19</th>\n",
              "      <th>Policy 20</th>\n",
              "      <th>Policy 21</th>\n",
              "    </tr>\n",
              "  </thead>\n",
              "  <tbody>\n",
              "    <tr>\n",
              "      <th>0</th>\n",
              "      <td>4WKQSBB</td>\n",
              "      <td>F</td>\n",
              "      <td>M</td>\n",
              "      <td>25-40</td>\n",
              "      <td>Corporate Employee</td>\n",
              "      <td>0</td>\n",
              "      <td>0</td>\n",
              "      <td>0</td>\n",
              "      <td>0</td>\n",
              "      <td>0</td>\n",
              "      <td>0</td>\n",
              "      <td>0</td>\n",
              "      <td>1</td>\n",
              "      <td>0</td>\n",
              "      <td>0</td>\n",
              "      <td>0</td>\n",
              "      <td>0</td>\n",
              "      <td>0</td>\n",
              "      <td>0</td>\n",
              "      <td>1</td>\n",
              "      <td>0</td>\n",
              "      <td>0</td>\n",
              "      <td>0</td>\n",
              "      <td>0</td>\n",
              "      <td>0</td>\n",
              "      <td>0</td>\n",
              "    </tr>\n",
              "    <tr>\n",
              "      <th>1</th>\n",
              "      <td>CP5S02H</td>\n",
              "      <td>F</td>\n",
              "      <td>M</td>\n",
              "      <td>25-40</td>\n",
              "      <td>Corporate Employee</td>\n",
              "      <td>0</td>\n",
              "      <td>0</td>\n",
              "      <td>0</td>\n",
              "      <td>0</td>\n",
              "      <td>0</td>\n",
              "      <td>0</td>\n",
              "      <td>0</td>\n",
              "      <td>1</td>\n",
              "      <td>0</td>\n",
              "      <td>0</td>\n",
              "      <td>0</td>\n",
              "      <td>0</td>\n",
              "      <td>0</td>\n",
              "      <td>0</td>\n",
              "      <td>1</td>\n",
              "      <td>0</td>\n",
              "      <td>0</td>\n",
              "      <td>0</td>\n",
              "      <td>0</td>\n",
              "      <td>0</td>\n",
              "      <td>0</td>\n",
              "    </tr>\n",
              "    <tr>\n",
              "      <th>2</th>\n",
              "      <td>2YKDILJ</td>\n",
              "      <td>M</td>\n",
              "      <td>U</td>\n",
              "      <td>25-40</td>\n",
              "      <td>Self Employed</td>\n",
              "      <td>0</td>\n",
              "      <td>0</td>\n",
              "      <td>0</td>\n",
              "      <td>0</td>\n",
              "      <td>0</td>\n",
              "      <td>0</td>\n",
              "      <td>1</td>\n",
              "      <td>1</td>\n",
              "      <td>0</td>\n",
              "      <td>0</td>\n",
              "      <td>0</td>\n",
              "      <td>0</td>\n",
              "      <td>0</td>\n",
              "      <td>0</td>\n",
              "      <td>0</td>\n",
              "      <td>0</td>\n",
              "      <td>0</td>\n",
              "      <td>0</td>\n",
              "      <td>0</td>\n",
              "      <td>0</td>\n",
              "      <td>1</td>\n",
              "    </tr>\n",
              "    <tr>\n",
              "      <th>3</th>\n",
              "      <td>2S9E81J</td>\n",
              "      <td>M</td>\n",
              "      <td>M</td>\n",
              "      <td>25-40</td>\n",
              "      <td>Medical Professional</td>\n",
              "      <td>0</td>\n",
              "      <td>0</td>\n",
              "      <td>0</td>\n",
              "      <td>0</td>\n",
              "      <td>0</td>\n",
              "      <td>0</td>\n",
              "      <td>0</td>\n",
              "      <td>1</td>\n",
              "      <td>0</td>\n",
              "      <td>0</td>\n",
              "      <td>0</td>\n",
              "      <td>0</td>\n",
              "      <td>0</td>\n",
              "      <td>0</td>\n",
              "      <td>1</td>\n",
              "      <td>0</td>\n",
              "      <td>0</td>\n",
              "      <td>0</td>\n",
              "      <td>0</td>\n",
              "      <td>0</td>\n",
              "      <td>0</td>\n",
              "    </tr>\n",
              "    <tr>\n",
              "      <th>4</th>\n",
              "      <td>BHDYVFT</td>\n",
              "      <td>M</td>\n",
              "      <td>M</td>\n",
              "      <td>25-40</td>\n",
              "      <td>Corporate Employee</td>\n",
              "      <td>0</td>\n",
              "      <td>0</td>\n",
              "      <td>0</td>\n",
              "      <td>0</td>\n",
              "      <td>0</td>\n",
              "      <td>0</td>\n",
              "      <td>0</td>\n",
              "      <td>0</td>\n",
              "      <td>0</td>\n",
              "      <td>0</td>\n",
              "      <td>0</td>\n",
              "      <td>0</td>\n",
              "      <td>0</td>\n",
              "      <td>0</td>\n",
              "      <td>0</td>\n",
              "      <td>0</td>\n",
              "      <td>0</td>\n",
              "      <td>1</td>\n",
              "      <td>1</td>\n",
              "      <td>0</td>\n",
              "      <td>0</td>\n",
              "    </tr>\n",
              "  </tbody>\n",
              "</table>\n",
              "</div>"
            ],
            "text/plain": [
              "        ID sex marital_status  ... Policy 19 Policy 20  Policy 21\n",
              "0  4WKQSBB   F              M  ...         0         0          0\n",
              "1  CP5S02H   F              M  ...         0         0          0\n",
              "2  2YKDILJ   M              U  ...         0         0          1\n",
              "3  2S9E81J   M              M  ...         0         0          0\n",
              "4  BHDYVFT   M              M  ...         1         0          0\n",
              "\n",
              "[5 rows x 26 columns]"
            ]
          },
          "metadata": {
            "tags": []
          },
          "execution_count": 31
        }
      ]
    },
    {
      "cell_type": "code",
      "metadata": {
        "colab": {
          "base_uri": "https://localhost:8080/",
          "height": 264
        },
        "id": "06lekjk8tzaX",
        "outputId": "23b02533-7d9a-4ed6-c5d8-867536c21012"
      },
      "source": [
        "data_ = data.sex.value_counts().index\n",
        "counts = data.sex.value_counts().values\n",
        "explode = (0.1,0.1) \n",
        "fig1, ax1 = plt.subplots()\n",
        "ax1.pie(counts, explode=explode, autopct='%1.1f%%',\n",
        "        shadow=True, startangle=90)\n",
        "# Equal aspect ratio ensures that pie is drawn as a circle\n",
        "ax1.axis('equal')  \n",
        "plt.legend(data_)\n",
        "plt.title('Pie chart showing distribution of gender in dataset')\n",
        "plt.show()"
      ],
      "execution_count": null,
      "outputs": [
        {
          "output_type": "display_data",
          "data": {
            "image/png": "[encoded data removed]",
            "text/plain": [
              "<Figure size 432x288 with 1 Axes>"
            ]
          },
          "metadata": {
            "tags": []
          }
        }
      ]
    },
    {
      "cell_type": "markdown",
      "metadata": {
        "id": "tXlpNUehufjv"
      },
      "source": [
        "### Above shows the distribution for male and females in the dataset"
      ]
    },
    {
      "cell_type": "code",
      "metadata": {
        "colab": {
          "base_uri": "https://localhost:8080/",
          "height": 295
        },
        "id": "s65ZMaRRrfMA",
        "outputId": "3104159f-af9a-436c-9d8f-3b48f02a21fb"
      },
      "source": [
        "data.marital_status.value_counts().plot.bar(title = \"Counts of users With different marital statuses\", color = ['red','blue','green','yellow','cyan','black','pink','purple'] , xlabel = \"Marital Status\", ylabel = \"Count\")\n",
        "plt.show()"
      ],
      "execution_count": null,
      "outputs": [
        {
          "output_type": "display_data",
          "data": {
            "image/png": "[encoded data removed]",
            "text/plain": [
              "<Figure size 432x288 with 1 Axes>"
            ]
          },
          "metadata": {
            "tags": [],
            "needs_background": "light"
          }
        }
      ]
    },
    {
      "cell_type": "markdown",
      "metadata": {
        "id": "rVrbgShfvfzg"
      },
      "source": [
        "### Here the above legend code means the following:\n",
        "\n",
        "#### M - Married\n",
        "#### S - Marital status not known or unstated\n",
        "#### U - Unmarried\n",
        "#### W - Widowed\n",
        "#### D - Divorced\n",
        "#### P - Domestic Partner\n",
        "#### R - Registered Domestic Partner\n",
        "#### f - Married but not officially disclosed "
      ]
    },
    {
      "cell_type": "markdown",
      "metadata": {
        "id": "IKIKl18SyjH3"
      },
      "source": [
        "### However we wish that we only need 2 categories so we shall coalesce few of the above categories into either married or single\n",
        "\n",
        "### Categories M, P, R, f come under married\n",
        "### and others come under Single/Unmarried"
      ]
    },
    {
      "cell_type": "code",
      "metadata": {
        "id": "_7Gmemx3rzsh"
      },
      "source": [
        "def marital_status(x):\n",
        "  if(x == 'M' or x == 'P' or x == 'R' or x == 'f'):\n",
        "    return 'M'\n",
        "  else:\n",
        "    return 'S'"
      ],
      "execution_count": null,
      "outputs": []
    },
    {
      "cell_type": "code",
      "metadata": {
        "id": "MQbeqZH5ztel"
      },
      "source": [
        "data.marital_status = data.marital_status.apply(marital_status)"
      ],
      "execution_count": null,
      "outputs": []
    },
    {
      "cell_type": "code",
      "metadata": {
        "colab": {
          "base_uri": "https://localhost:8080/"
        },
        "id": "EjR9pyyszyYF",
        "outputId": "0bf31748-f0a4-450f-d426-e6251895f81d"
      },
      "source": [
        "data.marital_status.unique()"
      ],
      "execution_count": null,
      "outputs": [
        {
          "output_type": "execute_result",
          "data": {
            "text/plain": [
              "array(['M', 'S'], dtype=object)"
            ]
          },
          "metadata": {
            "tags": []
          },
          "execution_count": 36
        }
      ]
    },
    {
      "cell_type": "code",
      "metadata": {
        "colab": {
          "base_uri": "https://localhost:8080/",
          "height": 264
        },
        "id": "QECXLkEfz1gh",
        "outputId": "1958c0cd-5aa9-4127-bdce-4d02f3a15573"
      },
      "source": [
        "data_ = data.marital_status.value_counts().index\n",
        "counts = data.marital_status.value_counts().values\n",
        "explode = (0.2,0) \n",
        "fig1, ax1 = plt.subplots()\n",
        "ax1.pie(counts,explode=explode, autopct='%1.1f%%',\n",
        "        shadow=True, startangle=90)\n",
        "# Equal aspect ratio ensures that pie is drawn as a circle\n",
        "ax1.axis('equal')  \n",
        "plt.legend(data_)\n",
        "plt.title('Pie chart showing distribution of married and single users in the dataset')\n",
        "plt.show()"
      ],
      "execution_count": null,
      "outputs": [
        {
          "output_type": "display_data",
          "data": {
            "image/png": "[encoded data removed]",
            "text/plain": [
              "<Figure size 432x288 with 1 Axes>"
            ]
          },
          "metadata": {
            "tags": []
          }
        }
      ]
    },
    {
      "cell_type": "markdown",
      "metadata": {
        "id": "siSuD5cy0Jnt"
      },
      "source": [
        "### We wish to impute another attribute in our dataset which is income - not available in our dataset earlier\n",
        "\n",
        "### We shall use occupation as a pivotal reference to assign income to every user in the dataset\n",
        "\n",
        "### We would need additional datapoint so that we can recommend better and find out best premium price policy for the user"
      ]
    },
    {
      "cell_type": "markdown",
      "metadata": {
        "id": "QoiFVi1p2y9Z"
      },
      "source": [
        "### 1. A median corporate employee earns anywhere between 3 lakhs and 21 lakhs per annum \n",
        "\n",
        "### 2. A median self employed person earns 5 lakhs to 30 lakhs per annum\n",
        "\n",
        "### 3. A median enterpreneur earns 7 lakhs to 60 lakhs per annum \n",
        "\n",
        "### 4. A median doctor/professional in medical field earns from 6 lakhs to 40 lakhs\n",
        "\n",
        "### 5. A person in the miltary earns about 7 lakhs to 20 lakhs(they have other forms of compensations but we will consider salary as pivot for our calculations)\n",
        "\n",
        "\n",
        "### Since we have used anecdotal evidence to base those figures, we have researched some sources from where we estimated the above figures\n",
        "\n",
        "#### 1. https://www.payscale.com/research/IN/Employer=Any_Company/Salary\n",
        "#### 2. https://www.payscale.com/research/IN/Employer=Self-Employed/Salary\n",
        "#### 3. https://www.payscale.com/research/IN/Job=Small_Business_Owner/Salary\n",
        "#### 4. https://www.glassdoor.co.in/Salary/Indian-Army-Salaries-E250868.htm"
      ]
    },
    {
      "cell_type": "code",
      "metadata": {
        "id": "XpzFFvGe_ILv"
      },
      "source": [
        "data['Annual_Income'] = np.nan"
      ],
      "execution_count": null,
      "outputs": []
    },
    {
      "cell_type": "code",
      "metadata": {
        "colab": {
          "base_uri": "https://localhost:8080/",
          "height": 241
        },
        "id": "FM31BXP-WzwN",
        "outputId": "ae3b2f82-5ab1-4eec-efcc-8ea47b928891"
      },
      "source": [
        "data = data[['ID', 'sex', 'marital_status', 'age_group', 'occupation_category_code','Annual_Income',\\\n",
        "       'Policy 1', 'Policy 2', 'Policy 3', 'Policy 4', 'Policy 5', 'Policy 6',\\\n",
        "       'Policy 7', 'Policy 8', 'Policy 9', 'Policy 10', 'Policy 11',\\\n",
        "       'Policy 12', 'Policy 13', 'Policy 14', 'Policy 15', 'Policy 16',\\\n",
        "       'Policy 17', 'Policy 18', 'Policy 19', 'Policy 20', 'Policy 21']]\n",
        "data.head()"
      ],
      "execution_count": null,
      "outputs": [
        {
          "output_type": "execute_result",
          "data": {
            "text/html": [
              "<div>\n",
              "<style scoped>\n",
              "    .dataframe tbody tr th:only-of-type {\n",
              "        vertical-align: middle;\n",
              "    }\n",
              "\n",
              "    .dataframe tbody tr th {\n",
              "        vertical-align: top;\n",
              "    }\n",
              "\n",
              "    .dataframe thead th {\n",
              "        text-align: right;\n",
              "    }\n",
              "</style>\n",
              "<table border=\"1\" class=\"dataframe\">\n",
              "  <thead>\n",
              "    <tr style=\"text-align: right;\">\n",
              "      <th></th>\n",
              "      <th>ID</th>\n",
              "      <th>sex</th>\n",
              "      <th>marital_status</th>\n",
              "      <th>age_group</th>\n",
              "      <th>occupation_category_code</th>\n",
              "      <th>Annual_Income</th>\n",
              "      <th>Policy 1</th>\n",
              "      <th>Policy 2</th>\n",
              "      <th>Policy 3</th>\n",
              "      <th>Policy 4</th>\n",
              "      <th>Policy 5</th>\n",
              "      <th>Policy 6</th>\n",
              "      <th>Policy 7</th>\n",
              "      <th>Policy 8</th>\n",
              "      <th>Policy 9</th>\n",
              "      <th>Policy 10</th>\n",
              "      <th>Policy 11</th>\n",
              "      <th>Policy 12</th>\n",
              "      <th>Policy 13</th>\n",
              "      <th>Policy 14</th>\n",
              "      <th>Policy 15</th>\n",
              "      <th>Policy 16</th>\n",
              "      <th>Policy 17</th>\n",
              "      <th>Policy 18</th>\n",
              "      <th>Policy 19</th>\n",
              "      <th>Policy 20</th>\n",
              "      <th>Policy 21</th>\n",
              "    </tr>\n",
              "  </thead>\n",
              "  <tbody>\n",
              "    <tr>\n",
              "      <th>0</th>\n",
              "      <td>4WKQSBB</td>\n",
              "      <td>F</td>\n",
              "      <td>M</td>\n",
              "      <td>25-40</td>\n",
              "      <td>Corporate Employee</td>\n",
              "      <td>NaN</td>\n",
              "      <td>0</td>\n",
              "      <td>0</td>\n",
              "      <td>0</td>\n",
              "      <td>0</td>\n",
              "      <td>0</td>\n",
              "      <td>0</td>\n",
              "      <td>0</td>\n",
              "      <td>1</td>\n",
              "      <td>0</td>\n",
              "      <td>0</td>\n",
              "      <td>0</td>\n",
              "      <td>0</td>\n",
              "      <td>0</td>\n",
              "      <td>0</td>\n",
              "      <td>1</td>\n",
              "      <td>0</td>\n",
              "      <td>0</td>\n",
              "      <td>0</td>\n",
              "      <td>0</td>\n",
              "      <td>0</td>\n",
              "      <td>0</td>\n",
              "    </tr>\n",
              "    <tr>\n",
              "      <th>1</th>\n",
              "      <td>CP5S02H</td>\n",
              "      <td>F</td>\n",
              "      <td>M</td>\n",
              "      <td>25-40</td>\n",
              "      <td>Corporate Employee</td>\n",
              "      <td>NaN</td>\n",
              "      <td>0</td>\n",
              "      <td>0</td>\n",
              "      <td>0</td>\n",
              "      <td>0</td>\n",
              "      <td>0</td>\n",
              "      <td>0</td>\n",
              "      <td>0</td>\n",
              "      <td>1</td>\n",
              "      <td>0</td>\n",
              "      <td>0</td>\n",
              "      <td>0</td>\n",
              "      <td>0</td>\n",
              "      <td>0</td>\n",
              "      <td>0</td>\n",
              "      <td>1</td>\n",
              "      <td>0</td>\n",
              "      <td>0</td>\n",
              "      <td>0</td>\n",
              "      <td>0</td>\n",
              "      <td>0</td>\n",
              "      <td>0</td>\n",
              "    </tr>\n",
              "    <tr>\n",
              "      <th>2</th>\n",
              "      <td>2YKDILJ</td>\n",
              "      <td>M</td>\n",
              "      <td>S</td>\n",
              "      <td>25-40</td>\n",
              "      <td>Self Employed</td>\n",
              "      <td>NaN</td>\n",
              "      <td>0</td>\n",
              "      <td>0</td>\n",
              "      <td>0</td>\n",
              "      <td>0</td>\n",
              "      <td>0</td>\n",
              "      <td>0</td>\n",
              "      <td>1</td>\n",
              "      <td>1</td>\n",
              "      <td>0</td>\n",
              "      <td>0</td>\n",
              "      <td>0</td>\n",
              "      <td>0</td>\n",
              "      <td>0</td>\n",
              "      <td>0</td>\n",
              "      <td>0</td>\n",
              "      <td>0</td>\n",
              "      <td>0</td>\n",
              "      <td>0</td>\n",
              "      <td>0</td>\n",
              "      <td>0</td>\n",
              "      <td>1</td>\n",
              "    </tr>\n",
              "    <tr>\n",
              "      <th>3</th>\n",
              "      <td>2S9E81J</td>\n",
              "      <td>M</td>\n",
              "      <td>M</td>\n",
              "      <td>25-40</td>\n",
              "      <td>Medical Professional</td>\n",
              "      <td>NaN</td>\n",
              "      <td>0</td>\n",
              "      <td>0</td>\n",
              "      <td>0</td>\n",
              "      <td>0</td>\n",
              "      <td>0</td>\n",
              "      <td>0</td>\n",
              "      <td>0</td>\n",
              "      <td>1</td>\n",
              "      <td>0</td>\n",
              "      <td>0</td>\n",
              "      <td>0</td>\n",
              "      <td>0</td>\n",
              "      <td>0</td>\n",
              "      <td>0</td>\n",
              "      <td>1</td>\n",
              "      <td>0</td>\n",
              "      <td>0</td>\n",
              "      <td>0</td>\n",
              "      <td>0</td>\n",
              "      <td>0</td>\n",
              "      <td>0</td>\n",
              "    </tr>\n",
              "    <tr>\n",
              "      <th>4</th>\n",
              "      <td>BHDYVFT</td>\n",
              "      <td>M</td>\n",
              "      <td>M</td>\n",
              "      <td>25-40</td>\n",
              "      <td>Corporate Employee</td>\n",
              "      <td>NaN</td>\n",
              "      <td>0</td>\n",
              "      <td>0</td>\n",
              "      <td>0</td>\n",
              "      <td>0</td>\n",
              "      <td>0</td>\n",
              "      <td>0</td>\n",
              "      <td>0</td>\n",
              "      <td>0</td>\n",
              "      <td>0</td>\n",
              "      <td>0</td>\n",
              "      <td>0</td>\n",
              "      <td>0</td>\n",
              "      <td>0</td>\n",
              "      <td>0</td>\n",
              "      <td>0</td>\n",
              "      <td>0</td>\n",
              "      <td>0</td>\n",
              "      <td>1</td>\n",
              "      <td>1</td>\n",
              "      <td>0</td>\n",
              "      <td>0</td>\n",
              "    </tr>\n",
              "  </tbody>\n",
              "</table>\n",
              "</div>"
            ],
            "text/plain": [
              "        ID sex marital_status  ... Policy 19 Policy 20  Policy 21\n",
              "0  4WKQSBB   F              M  ...         0         0          0\n",
              "1  CP5S02H   F              M  ...         0         0          0\n",
              "2  2YKDILJ   M              S  ...         0         0          1\n",
              "3  2S9E81J   M              M  ...         0         0          0\n",
              "4  BHDYVFT   M              M  ...         1         0          0\n",
              "\n",
              "[5 rows x 27 columns]"
            ]
          },
          "metadata": {
            "tags": []
          },
          "execution_count": 39
        }
      ]
    },
    {
      "cell_type": "code",
      "metadata": {
        "id": "srfLQkdoW1pe"
      },
      "source": [
        "def compute_income():\n",
        "  income = []\n",
        "  age_group = data.age_group.values\n",
        "  occupation_category_code = data.occupation_category_code.values\n",
        "  for age,occupation in zip(age_group,occupation_category_code):\n",
        "    if(occupation == 'Corporate Employee'):\n",
        "      if(age == 'Below 25'):\n",
        "        income.append(np.random.randint(300000,800000))\n",
        "      elif(age == '25-40'):\n",
        "        income.append(np.random.randint(800000,1600000))\n",
        "      elif(age == '41-60'):\n",
        "        income.append(np.random.randint(1200000,1800000))\n",
        "      elif(age == 'Above 60'):\n",
        "        income.append(np.random.randint(1600000,2100000))\n",
        "    elif(occupation == 'Self Employed'):\n",
        "      if(age == 'Below 25'):\n",
        "        income.append(np.random.randint(400000,900000))\n",
        "      elif(age == '25-40'):\n",
        "        income.append(np.random.randint(1200000,2100000))\n",
        "      elif(age == '41-60'):\n",
        "        income.append(np.random.randint(1000000,2200000))\n",
        "      elif(age == 'Above 60'):\n",
        "        income.append(np.random.randint(1500000,2500000))\n",
        "    elif(occupation == 'Medical Professional'):\n",
        "      if(age == 'Below 25'):\n",
        "        income.append(np.random.randint(600000,900000))\n",
        "      elif(age == '25-40'):\n",
        "        income.append(np.random.randint(1200000,2100000))\n",
        "      elif(age == '41-60'):\n",
        "        income.append(np.random.randint(1500000,3100000))\n",
        "      elif(age == 'Above 60'):\n",
        "        income.append(np.random.randint(2700000,3500000))\n",
        "    elif(occupation == 'Enterpreneur'):\n",
        "      if(age == 'Below 25'):\n",
        "        income.append(np.random.randint(300000,900000))\n",
        "      if(age == '25-40'):\n",
        "        income.append(np.random.randint(1100000,1800000))\n",
        "      elif(age == '41-60'):\n",
        "        income.append(np.random.randint(1600000,3200000))\n",
        "      elif(age == 'Above 60'):\n",
        "        income.append(np.random.randint(3000000,5000000))\n",
        "    elif(occupation == 'Military Service'):\n",
        "      if(age == 'Below 25'):\n",
        "        income.append(np.random.randint(500000,1000000))\n",
        "      elif(age == '25-40'):\n",
        "        income.append(np.random.randint(800000,1500000))\n",
        "      elif(age == '41-60'):\n",
        "        income.append(np.random.randint(1500000,2500000))\n",
        "      elif(age == 'Above 60'):\n",
        "        income.append(np.random.randint(1800000,3500000))\n",
        "      \n",
        "  return income"
      ],
      "execution_count": null,
      "outputs": []
    },
    {
      "cell_type": "code",
      "metadata": {
        "id": "O_AbvyyzZ-Hc"
      },
      "source": [
        "annual_income = compute_income()"
      ],
      "execution_count": null,
      "outputs": []
    },
    {
      "cell_type": "code",
      "metadata": {
        "id": "SMV2D2A6bhAZ"
      },
      "source": [
        "data.Annual_Income = annual_income"
      ],
      "execution_count": null,
      "outputs": []
    },
    {
      "cell_type": "code",
      "metadata": {
        "colab": {
          "base_uri": "https://localhost:8080/",
          "height": 241
        },
        "id": "BcYyspORdNGc",
        "outputId": "7cffab74-5a11-44e0-960f-d9abb231a478"
      },
      "source": [
        "data.head()"
      ],
      "execution_count": null,
      "outputs": [
        {
          "output_type": "execute_result",
          "data": {
            "text/html": [
              "<div>\n",
              "<style scoped>\n",
              "    .dataframe tbody tr th:only-of-type {\n",
              "        vertical-align: middle;\n",
              "    }\n",
              "\n",
              "    .dataframe tbody tr th {\n",
              "        vertical-align: top;\n",
              "    }\n",
              "\n",
              "    .dataframe thead th {\n",
              "        text-align: right;\n",
              "    }\n",
              "</style>\n",
              "<table border=\"1\" class=\"dataframe\">\n",
              "  <thead>\n",
              "    <tr style=\"text-align: right;\">\n",
              "      <th></th>\n",
              "      <th>ID</th>\n",
              "      <th>sex</th>\n",
              "      <th>marital_status</th>\n",
              "      <th>age_group</th>\n",
              "      <th>occupation_category_code</th>\n",
              "      <th>Annual_Income</th>\n",
              "      <th>Policy 1</th>\n",
              "      <th>Policy 2</th>\n",
              "      <th>Policy 3</th>\n",
              "      <th>Policy 4</th>\n",
              "      <th>Policy 5</th>\n",
              "      <th>Policy 6</th>\n",
              "      <th>Policy 7</th>\n",
              "      <th>Policy 8</th>\n",
              "      <th>Policy 9</th>\n",
              "      <th>Policy 10</th>\n",
              "      <th>Policy 11</th>\n",
              "      <th>Policy 12</th>\n",
              "      <th>Policy 13</th>\n",
              "      <th>Policy 14</th>\n",
              "      <th>Policy 15</th>\n",
              "      <th>Policy 16</th>\n",
              "      <th>Policy 17</th>\n",
              "      <th>Policy 18</th>\n",
              "      <th>Policy 19</th>\n",
              "      <th>Policy 20</th>\n",
              "      <th>Policy 21</th>\n",
              "    </tr>\n",
              "  </thead>\n",
              "  <tbody>\n",
              "    <tr>\n",
              "      <th>0</th>\n",
              "      <td>4WKQSBB</td>\n",
              "      <td>F</td>\n",
              "      <td>M</td>\n",
              "      <td>25-40</td>\n",
              "      <td>Corporate Employee</td>\n",
              "      <td>1371073</td>\n",
              "      <td>0</td>\n",
              "      <td>0</td>\n",
              "      <td>0</td>\n",
              "      <td>0</td>\n",
              "      <td>0</td>\n",
              "      <td>0</td>\n",
              "      <td>0</td>\n",
              "      <td>1</td>\n",
              "      <td>0</td>\n",
              "      <td>0</td>\n",
              "      <td>0</td>\n",
              "      <td>0</td>\n",
              "      <td>0</td>\n",
              "      <td>0</td>\n",
              "      <td>1</td>\n",
              "      <td>0</td>\n",
              "      <td>0</td>\n",
              "      <td>0</td>\n",
              "      <td>0</td>\n",
              "      <td>0</td>\n",
              "      <td>0</td>\n",
              "    </tr>\n",
              "    <tr>\n",
              "      <th>1</th>\n",
              "      <td>CP5S02H</td>\n",
              "      <td>F</td>\n",
              "      <td>M</td>\n",
              "      <td>25-40</td>\n",
              "      <td>Corporate Employee</td>\n",
              "      <td>1393601</td>\n",
              "      <td>0</td>\n",
              "      <td>0</td>\n",
              "      <td>0</td>\n",
              "      <td>0</td>\n",
              "      <td>0</td>\n",
              "      <td>0</td>\n",
              "      <td>0</td>\n",
              "      <td>1</td>\n",
              "      <td>0</td>\n",
              "      <td>0</td>\n",
              "      <td>0</td>\n",
              "      <td>0</td>\n",
              "      <td>0</td>\n",
              "      <td>0</td>\n",
              "      <td>1</td>\n",
              "      <td>0</td>\n",
              "      <td>0</td>\n",
              "      <td>0</td>\n",
              "      <td>0</td>\n",
              "      <td>0</td>\n",
              "      <td>0</td>\n",
              "    </tr>\n",
              "    <tr>\n",
              "      <th>2</th>\n",
              "      <td>2YKDILJ</td>\n",
              "      <td>M</td>\n",
              "      <td>S</td>\n",
              "      <td>25-40</td>\n",
              "      <td>Self Employed</td>\n",
              "      <td>1669625</td>\n",
              "      <td>0</td>\n",
              "      <td>0</td>\n",
              "      <td>0</td>\n",
              "      <td>0</td>\n",
              "      <td>0</td>\n",
              "      <td>0</td>\n",
              "      <td>1</td>\n",
              "      <td>1</td>\n",
              "      <td>0</td>\n",
              "      <td>0</td>\n",
              "      <td>0</td>\n",
              "      <td>0</td>\n",
              "      <td>0</td>\n",
              "      <td>0</td>\n",
              "      <td>0</td>\n",
              "      <td>0</td>\n",
              "      <td>0</td>\n",
              "      <td>0</td>\n",
              "      <td>0</td>\n",
              "      <td>0</td>\n",
              "      <td>1</td>\n",
              "    </tr>\n",
              "    <tr>\n",
              "      <th>3</th>\n",
              "      <td>2S9E81J</td>\n",
              "      <td>M</td>\n",
              "      <td>M</td>\n",
              "      <td>25-40</td>\n",
              "      <td>Medical Professional</td>\n",
              "      <td>1920861</td>\n",
              "      <td>0</td>\n",
              "      <td>0</td>\n",
              "      <td>0</td>\n",
              "      <td>0</td>\n",
              "      <td>0</td>\n",
              "      <td>0</td>\n",
              "      <td>0</td>\n",
              "      <td>1</td>\n",
              "      <td>0</td>\n",
              "      <td>0</td>\n",
              "      <td>0</td>\n",
              "      <td>0</td>\n",
              "      <td>0</td>\n",
              "      <td>0</td>\n",
              "      <td>1</td>\n",
              "      <td>0</td>\n",
              "      <td>0</td>\n",
              "      <td>0</td>\n",
              "      <td>0</td>\n",
              "      <td>0</td>\n",
              "      <td>0</td>\n",
              "    </tr>\n",
              "    <tr>\n",
              "      <th>4</th>\n",
              "      <td>BHDYVFT</td>\n",
              "      <td>M</td>\n",
              "      <td>M</td>\n",
              "      <td>25-40</td>\n",
              "      <td>Corporate Employee</td>\n",
              "      <td>1097741</td>\n",
              "      <td>0</td>\n",
              "      <td>0</td>\n",
              "      <td>0</td>\n",
              "      <td>0</td>\n",
              "      <td>0</td>\n",
              "      <td>0</td>\n",
              "      <td>0</td>\n",
              "      <td>0</td>\n",
              "      <td>0</td>\n",
              "      <td>0</td>\n",
              "      <td>0</td>\n",
              "      <td>0</td>\n",
              "      <td>0</td>\n",
              "      <td>0</td>\n",
              "      <td>0</td>\n",
              "      <td>0</td>\n",
              "      <td>0</td>\n",
              "      <td>1</td>\n",
              "      <td>1</td>\n",
              "      <td>0</td>\n",
              "      <td>0</td>\n",
              "    </tr>\n",
              "  </tbody>\n",
              "</table>\n",
              "</div>"
            ],
            "text/plain": [
              "        ID sex marital_status  ... Policy 19 Policy 20  Policy 21\n",
              "0  4WKQSBB   F              M  ...         0         0          0\n",
              "1  CP5S02H   F              M  ...         0         0          0\n",
              "2  2YKDILJ   M              S  ...         0         0          1\n",
              "3  2S9E81J   M              M  ...         0         0          0\n",
              "4  BHDYVFT   M              M  ...         1         0          0\n",
              "\n",
              "[5 rows x 27 columns]"
            ]
          },
          "metadata": {
            "tags": []
          },
          "execution_count": 43
        }
      ]
    },
    {
      "cell_type": "code",
      "metadata": {
        "id": "DNEM3yJmdSVE"
      },
      "source": [
        "def bin_income(x):\n",
        "  if(x <=500000):\n",
        "    return '0-5 lac'\n",
        "  elif(x > 500000 and x < 1000000):\n",
        "    return '5-10 lac'\n",
        "  elif(x > 1000000 and x < 2000000):\n",
        "    return '10-20 lac'\n",
        "  elif(x > 2000000 and x < 3000000):\n",
        "    return '20-30 lac'\n",
        "  elif(x > 3000000 and x < 4000000):\n",
        "    return '30-40 lac'\n",
        "  elif(x > 4000000 and x < 5000000):\n",
        "    return '40-50 lac'"
      ],
      "execution_count": null,
      "outputs": []
    },
    {
      "cell_type": "code",
      "metadata": {
        "id": "Rl8yUtxlfzTm"
      },
      "source": [
        "data.Annual_Income = data.Annual_Income.apply(bin_income)"
      ],
      "execution_count": null,
      "outputs": []
    },
    {
      "cell_type": "code",
      "metadata": {
        "colab": {
          "base_uri": "https://localhost:8080/",
          "height": 332
        },
        "id": "JdVTNvvbgZEu",
        "outputId": "f5b4f148-c1d3-48bc-b2ee-997fe3aa6629"
      },
      "source": [
        "data.age_group.value_counts().plot.bar(title = \"Counts of users from different Age Groups\", color = ['red','blue','green','yellow'], xlabel = \"Age Groups\", ylabel = \"Count\")\n",
        "plt.show()"
      ],
      "execution_count": null,
      "outputs": [
        {
          "output_type": "display_data",
          "data": {
            "image/png": "[encoded data removed]",
            "text/plain": [
              "<Figure size 432x288 with 1 Axes>"
            ]
          },
          "metadata": {
            "tags": [],
            "needs_background": "light"
          }
        }
      ]
    },
    {
      "cell_type": "code",
      "metadata": {
        "id": "o7MQn3fGjpNu"
      },
      "source": [
        "data.to_excel('Final_Excel.xlsx')"
      ],
      "execution_count": null,
      "outputs": []
    }
  ]
}