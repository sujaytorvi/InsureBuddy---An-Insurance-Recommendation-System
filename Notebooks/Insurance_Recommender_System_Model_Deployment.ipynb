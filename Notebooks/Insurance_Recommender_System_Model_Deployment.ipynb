{
  "nbformat": 4,
  "nbformat_minor": 0,
  "metadata": {
    "colab": {
      "name": "Insurance Recommender System - Model Deployment.ipynb",
      "provenance": [],
      "collapsed_sections": []
    },
    "kernelspec": {
      "display_name": "Python 3",
      "name": "python3"
    }
  },
  "cells": [
    {
      "cell_type": "markdown",
      "metadata": {
        "id": "zakG7DvVvkWX"
      },
      "source": [
        "<center><img src = data:image/png;base64,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 ></center>\n",
        "\n",
        "# **<center><font color='black'>K.J Somaiya College of Engineering</font></center>**\n",
        "\n",
        "## <center><font color='red'>Engineering Final Year Project</font></center>\n",
        "\n",
        "## <center>**<font color='purple'>InsureBuddy - An Insurance Recommender System</font></center>**\n"
      ]
    },
    {
      "cell_type": "markdown",
      "metadata": {
        "id": "Oemapk_mvkWi"
      },
      "source": [
        "### **Author:**\r\n",
        "### **Sujay Torvi**\r\n",
        "### Co-Authors:\r\n",
        "### 1. Krupen Shah\r\n",
        "### 2. Harsh Somaiya\r\n",
        "### 3. Tirth Desai\r\n",
        "\r\n",
        "### Copyright© 2020 Under MIT License "
      ]
    },
    {
      "cell_type": "markdown",
      "metadata": {
        "id": "x5UmNHlBvpQv"
      },
      "source": [
        "## **<font color='purple'>`Problem Statement: To process, analyse and mine the data for useful insights in insurance product recommendation and model them using various algorithms, and deploying them into an application which would provide the user with useful insurance product recommendations`</font>**"
      ]
    },
    {
      "cell_type": "markdown",
      "metadata": {
        "id": "Vq5h7YVAcP41"
      },
      "source": [
        "## **VI. Model Deployment** "
      ]
    },
    {
      "cell_type": "code",
      "metadata": {
        "id": "SvPDdU7avtuY"
      },
      "source": [
        "import numpy as np\r\n",
        "import pandas as pd\r\n",
        "import random"
      ],
      "execution_count": null,
      "outputs": []
    },
    {
      "cell_type": "code",
      "metadata": {
        "colab": {
          "resources": {
            "http://localhost:8080/nbextensions/google.colab/files.js": {
              "data": "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",
              "ok": true,
              "headers": [
                [
                  "content-type",
                  "application/javascript"
                ]
              ],
              "status": 200,
              "status_text": ""
            }
          },
          "base_uri": "https://localhost:8080/",
          "height": 72
        },
        "id": "rl8GKbTev3Fv",
        "outputId": "91f7271c-50a6-471f-e32e-cff3f9613867"
      },
      "source": [
        "from google.colab import files\r\n",
        "u = files.upload()"
      ],
      "execution_count": null,
      "outputs": [
        {
          "output_type": "display_data",
          "data": {
            "text/html": [
              "\n",
              "     <input type=\"file\" id=\"files-895107e3-a4c8-469d-a1c5-2f26c3f3240d\" name=\"files[]\" multiple disabled\n",
              "        style=\"border:none\" />\n",
              "     <output id=\"result-895107e3-a4c8-469d-a1c5-2f26c3f3240d\">\n",
              "      Upload widget is only available when the cell has been executed in the\n",
              "      current browser session. Please rerun this cell to enable.\n",
              "      </output>\n",
              "      <script src=\"/nbextensions/google.colab/files.js\"></script> "
            ],
            "text/plain": [
              "<IPython.core.display.HTML object>"
            ]
          },
          "metadata": {
            "tags": []
          }
        },
        {
          "output_type": "stream",
          "text": [
            "Saving bayesian_nn.zip to bayesian_nn (4).zip\n"
          ],
          "name": "stdout"
        }
      ]
    },
    {
      "cell_type": "code",
      "metadata": {
        "colab": {
          "base_uri": "https://localhost:8080/"
        },
        "id": "_Djwt4N8wUEc",
        "outputId": "1a7d98a8-107b-4eae-8f38-769fb68d3182"
      },
      "source": [
        "!pip install scikit-multilearn"
      ],
      "execution_count": null,
      "outputs": [
        {
          "output_type": "stream",
          "text": [
            "Requirement already satisfied: scikit-multilearn in /usr/local/lib/python3.6/dist-packages (0.2.0)\n"
          ],
          "name": "stdout"
        }
      ]
    },
    {
      "cell_type": "code",
      "metadata": {
        "id": "cjYuCLC5wIW6"
      },
      "source": [
        "import skmultilearn\r\n",
        "import pickle"
      ],
      "execution_count": null,
      "outputs": []
    },
    {
      "cell_type": "markdown",
      "metadata": {
        "id": "VGShRXDVBG1R"
      },
      "source": [
        "### Load Models"
      ]
    },
    {
      "cell_type": "code",
      "metadata": {
        "id": "mkQkJjv2wUnL"
      },
      "source": [
        "clf = pickle.load(open('/content/RFClassifier.sav', 'rb'))"
      ],
      "execution_count": null,
      "outputs": []
    },
    {
      "cell_type": "code",
      "metadata": {
        "id": "K6mLGFiQPfJt"
      },
      "source": [
        "import zipfile\r\n",
        "with zipfile.ZipFile('/content/bayesian_nn.zip', 'r') as zip_ref:\r\n",
        "    zip_ref.extractall('/content/bayesian_nn')"
      ],
      "execution_count": null,
      "outputs": []
    },
    {
      "cell_type": "code",
      "metadata": {
        "id": "R_eM0UiWPfnc"
      },
      "source": [
        "from tensorflow import keras\r\n",
        "model = keras.models.load_model('/content/bayesian_nn')"
      ],
      "execution_count": null,
      "outputs": []
    },
    {
      "cell_type": "markdown",
      "metadata": {
        "id": "8_5xTUSaxJOy"
      },
      "source": [
        "### Input Keys: {input_field:actual_value}\r\n",
        "#### Gender: {0:female,1:male}\r\n",
        "#### Marital Status: {0:Married,1:Unmarried}\r\n",
        "#### Age: {0:25-40,1:41-60,2:Above 60, 3:Below 25}\r\n",
        "#### Occupation: {0: Corporate Employee, 1: Enterpreneur, 2: Medical Professional, 3: Military Service, 4: Self Employed}\r\n",
        "#### Income: {0: 0-5 lac,1: 10-20 lac,2: 20-30 lac,3: 30-40 lac,4: 40-50 lac,5: 5-10 lac}\r\n",
        "\r\n",
        "#### Any Serious Medical Ailment: {0: No, 1: Yes}"
      ]
    },
    {
      "cell_type": "markdown",
      "metadata": {
        "id": "FeZxEdFhBIs6"
      },
      "source": [
        "### Take inputs"
      ]
    },
    {
      "cell_type": "code",
      "metadata": {
        "id": "ErhElaPTw7Fh"
      },
      "source": [
        "def take_inputs():\r\n",
        "  #Ask Questions:\r\n",
        "  gender = input('What is your Gender {Male/Female}\\n')\r\n",
        "  marital_status = input('What is your Marital Status {Married/Unmarried}\\n')\r\n",
        "  age = input('What is your Age {Below 25 Years, 25-40 Years, 41-60 Years, Above 60 Years\\n')\r\n",
        "  occupation = input(' What is your occupation{Corporate Employee, Enterpreneur, Medical Professional, Military Service, Self Employed}\\n')\r\n",
        "  income = input('What is your income {0-5 lac,10-20 lac,20-30 lac,30-40 lac,40-50 lac,5-10 lac}\\n')\r\n",
        "  ailment = input('Did you have any Serious Medical ailment in past 2 years? {Yes/No}\\n')\r\n",
        "  \r\n",
        "  #encode inputs \r\n",
        "\r\n",
        "  if(gender == 'Male'):\r\n",
        "    gender = 0\r\n",
        "  elif(gender == 'Female'):\r\n",
        "    gender = 1\r\n",
        "  \r\n",
        "  if(marital_status == 'Married'):\r\n",
        "    marital_status = 0\r\n",
        "  elif(marital_status == 'Unmarried'):\r\n",
        "    marital_status = 1\r\n",
        "\r\n",
        "  if(age == 'Below 25 Years'):\r\n",
        "    age = 3\r\n",
        "  elif(age == '25-40 Years'):\r\n",
        "    age = 0\r\n",
        "  elif(age == '41-60 Years'):\r\n",
        "    age = 1\r\n",
        "  elif(age == 'Above 60 Years'):\r\n",
        "    age = 2\r\n",
        "  \r\n",
        "  if(occupation == 'Corporate Employee'):\r\n",
        "    occupation = 0\r\n",
        "  elif(occupation == 'Enterpreneur'):\r\n",
        "    occupation = 1\r\n",
        "  elif(occupation == 'Medical Professional'):\r\n",
        "    occupation = 2\r\n",
        "  elif(occupation == 'Military Service'):\r\n",
        "    occupation = 3\r\n",
        "  elif(occupation == 'Self Employed'):\r\n",
        "    occupation = 4\r\n",
        "\r\n",
        "  if(income == '0-5 lac'):\r\n",
        "    income = 0\r\n",
        "  elif(income == '5-10 lac'):\r\n",
        "    income = 5\r\n",
        "  elif(income == '10-20 lac'):\r\n",
        "    income = 1\r\n",
        "  elif(income == '20-30 lac'):\r\n",
        "    income = 2\r\n",
        "  elif(income == '30-40 lac'):\r\n",
        "    income = 3\r\n",
        "  elif(income == '40-50 lac'):\r\n",
        "    income = 4\r\n",
        "\r\n",
        "  if(ailment == 'Yes'):\r\n",
        "    ailment = 1\r\n",
        "  elif(ailment == 'No'):\r\n",
        "    ailment = 0\r\n",
        "\r\n",
        "  encoded_inputs = [gender,marital_status,age,occupation,income]\r\n",
        "  \r\n",
        "\r\n",
        "  return encoded_inputs,ailment"
      ],
      "execution_count": null,
      "outputs": []
    },
    {
      "cell_type": "markdown",
      "metadata": {
        "id": "_CnVxNHIBLyq"
      },
      "source": [
        "## Define Policies"
      ]
    },
    {
      "cell_type": "markdown",
      "metadata": {
        "id": "KqysxAAgA3kD"
      },
      "source": [
        "### We pick some policies and enlist their coverage, premium and tenure"
      ]
    },
    {
      "cell_type": "markdown",
      "metadata": {
        "id": "GnK9M9BoCanf"
      },
      "source": [
        "**Policy Set 1**\r\n",
        "\r\n",
        "|Policy No.|  Policy Amount | Coverage | Premium  \r\n",
        "| --- | --- | --- | --- |\r\n",
        "| 1 | 8,00,000 | 3,20,000 |25,000\r\n",
        "| 2 | 10,00,000 | 5,00,000 |25,000\r\n",
        "| 3 | 2,00,000 | 90,000 | 20,000\r\n",
        "| 4 | 6,00,000 | 2,50,000 |40,000\r\n",
        "| 5 | 4,50,000 | 1,80,000 |18,000\r\n",
        "\r\n"
      ]
    },
    {
      "cell_type": "markdown",
      "metadata": {
        "id": "zjED3Nv1M87S"
      },
      "source": [
        "**Policy Set 2**\r\n",
        "\r\n",
        "|Policy No.|  Policy Amount | Coverage | Premium  \r\n",
        "| --- | --- | --- | --- |\r\n",
        "| 6 | 9,00,000 | 4,00,000 | 30,000\r\n",
        "| 7 | 4,00,000 | 1,75,000 | 20,000\r\n",
        "| 8 | 1,50,000 | 60,000 | 10,000\r\n",
        "| 9 | 7,50,000 | 3,25,000 | 35,000\r\n",
        "| 10 | 3,50,000 | 1,50,000 | 25,000\r\n"
      ]
    },
    {
      "cell_type": "markdown",
      "metadata": {
        "id": "nlL1Nji-Kza5"
      },
      "source": [
        "**Policy Set 3**\r\n",
        "\r\n",
        "|Policy No.|  Policy Amount | Coverage | Premium  \r\n",
        "| --- | --- | --- | --- |\r\n",
        "| 11 | 12,00,000 | 5,40,000 | 30,000\r\n",
        "| 12| 14,00,000 | 6,50,000 | 40,000\r\n",
        "| 13 | 5,50,000 | 2,40,000 | 25,000\r\n",
        "| 14| 11,50,000 | 5,25,000 | 45,000\r\n",
        "| 15 | 6,50,000 | 2,60,000 | 30,000"
      ]
    },
    {
      "cell_type": "markdown",
      "metadata": {
        "id": "xyu9eYucK4JT"
      },
      "source": [
        "**Policy Set 4**\r\n",
        "\r\n",
        "|Policy No.|  Policy Amount | Coverage | Premium  \r\n",
        "| --- | --- | --- | --- |\r\n",
        "| 16 | 15,00,000 | 8,00,000 | 75,000\r\n",
        "| 17 | 20,00,000 | 10,00,000 | 80,000\r\n",
        "| 18 | 1,00,000 | 40,000 | 10,000\r\n",
        "| 19 | 9,50,000 | 4,25,000 | 45,000\r\n",
        "| 20 | 3,75,000 | 1,75,000 | 25,000"
      ]
    },
    {
      "cell_type": "markdown",
      "metadata": {
        "id": "AL-t0Y2SBO02"
      },
      "source": [
        "### Adjust Premium of users based on age and health factors"
      ]
    },
    {
      "cell_type": "code",
      "metadata": {
        "id": "kYjh4TgmwgwT"
      },
      "source": [
        "def calculate_premium():\r\n",
        "  policy_amt1 = np.array([800000,1000000,200000,600000,450000])\r\n",
        "  policy_amt2 = np.array([900000,400000,150000,750000,350000])\r\n",
        "  policy_amt3 = np.array([1200000,1400000,550000,1150000,650000])\r\n",
        "  policy_amt4 = np.array([1500000,2000000,100000,950000,375000])\r\n",
        "  policy_coverage_1 = np.array([320000,500000,90000,250000,180000])\r\n",
        "  policy_coverage_2 = np.array([400000,175000,60000,325000,150000])\r\n",
        "  policy_coverage_3 = np.array([540000,650000,240000,525000,260000])\r\n",
        "  policy_coverage_4 = np.array([800000,1000000,40000,425000,175000])\r\n",
        "  premium_1 = np.array([25000,25000,20000,40000,18000])\r\n",
        "  premium_2 = np.array([30000,40000,10000,35000,25000])\r\n",
        "  premium_3 = np.array([30000, 40000,25000,45000,30000])\r\n",
        "  premium_4 = np.array([75000,80000,10000,45000,25000])\r\n",
        "  tenure_1 = np.zeros_like(premium_1)\r\n",
        "  tenure_2 = np.zeros_like(premium_2)\r\n",
        "  tenure_3 = np.zeros_like(premium_3)\r\n",
        "  tenure_4 = np.zeros_like(premium_4)\r\n",
        "  inputs, health = take_inputs()\r\n",
        "  t1 = 1000\r\n",
        "  t2 = 10000\r\n",
        "  if(health == 1):\r\n",
        "    premium_1 = np.ceil(premium_1*1.3/t1) * t1\r\n",
        "    premium_2 = np.ceil(premium_2*1.3/t1) * t1\r\n",
        "    premium_3 = np.ceil(premium_3*1.3/t1) * t1\r\n",
        "    premium_4 = np.ceil(premium_4*1.3/t1) * t1\r\n",
        "    policy_coverage_1 = np.ceil(policy_coverage_1/t2) * t2\r\n",
        "    policy_coverage_2 = np.ceil(policy_coverage_2/t2) * t2\r\n",
        "    policy_coverage_3 = np.ceil(policy_coverage_3/t2) * t2\r\n",
        "    policy_coverage_4 = np.ceil(policy_coverage_4/t2) * t2\r\n",
        "\r\n",
        "  if(inputs[2] == 3):\r\n",
        "    premium_1 = np.ceil(premium_1*0.75/t1) * t1\r\n",
        "    premium_2 = np.ceil(premium_2*0.75/t1) * t1\r\n",
        "    premium_3 = np.ceil(premium_3*0.75/t1) * t1\r\n",
        "    premium_4 = np.ceil(premium_4*0.75/t1) * t1\r\n",
        "    policy_coverage_1 = np.ceil(policy_coverage_1 * 1.1/t2) * t2\r\n",
        "    policy_coverage_2 = np.ceil(policy_coverage_2 * 1.1/t2) * t2\r\n",
        "    policy_coverage_3 = np.ceil(policy_coverage_3 * 1.1/t2) * t2\r\n",
        "    policy_coverage_4 = np.ceil(policy_coverage_4 * 1.1/t2) * t2\r\n",
        "  elif(inputs[2] == 0):\r\n",
        "    premium_1 = np.ceil(premium_1*1.0/t1) * t1\r\n",
        "    premium_2 = np.ceil(premium_2*1.0/t1) * t1\r\n",
        "    premium_3 = np.ceil(premium_3*1.0/t1) * t1\r\n",
        "    premium_4 = np.ceil(premium_4*1.0/t1) * t1\r\n",
        "    policy_coverage_1 = np.ceil(policy_coverage_1*1.0/t2) * t2\r\n",
        "    policy_coverage_2 = np.ceil(policy_coverage_2*1.0/t2) * t2\r\n",
        "    policy_coverage_3 = np.ceil(policy_coverage_3*1.0/t2) * t2\r\n",
        "    policy_coverage_4 = np.ceil(policy_coverage_4*1.0/t2) * t2\r\n",
        "  elif(inputs[2] == 1):\r\n",
        "    premium_1 = np.ceil(premium_1*1.2/t1) * t1\r\n",
        "    premium_2 = np.ceil(premium_2*1.2/t1) * t1\r\n",
        "    premium_3 = np.ceil(premium_3*1.2/t1) * t1\r\n",
        "    premium_4 = np.ceil(premium_4*1.2/t1) * t1\r\n",
        "    policy_coverage_1 = np.ceil(policy_coverage_1*0.9/t2) * t2\r\n",
        "    policy_coverage_2 = np.ceil(policy_coverage_2*0.9/t2) * t2\r\n",
        "    policy_coverage_3 = np.ceil(policy_coverage_3*0.9/t2) * t2\r\n",
        "    policy_coverage_4 = np.ceil(policy_coverage_4*0.9/t2) * t2\r\n",
        "  elif(inputs[2] == 2):\r\n",
        "    premium_1 = np.ceil(premium_1*1.4/t1) * t1\r\n",
        "    premium_2 = np.ceil(premium_2*1.4/t1) * t1\r\n",
        "    premium_3 = np.ceil(premium_3*1.4/t1) * t1\r\n",
        "    premium_4 = np.ceil(premium_4*1.4/t1) * t1\r\n",
        "    policy_coverage_1 = np.ceil(policy_coverage_1*0.75/t2) * t2\r\n",
        "    policy_coverage_2 = np.ceil(policy_coverage_2*0.75/t2) * t2\r\n",
        "    policy_coverage_3 = np.ceil(policy_coverage_3*0.75/t2) * t2\r\n",
        "    policy_coverage_4 = np.ceil(policy_coverage_4*0.75/t2) * t2\r\n",
        "  if(inputs[0] == 0):\r\n",
        "    premium_1 = np.ceil(premium_1*1.1/t1) * t1\r\n",
        "    premium_2 = np.ceil(premium_2*1.1/t1) * t1\r\n",
        "    premium_3 = np.ceil(premium_3*1.1/t1) * t1\r\n",
        "    premium_4 = np.ceil(premium_4*1.1/t1) * t1\r\n",
        "  elif(inputs[0] == 1):\r\n",
        "    premium_1 = np.ceil(premium_1*0.9/t1) * t1\r\n",
        "    premium_2 = np.ceil(premium_2*0.9/t1) * t1\r\n",
        "    premium_3 = np.ceil(premium_3*0.9/t1) * t1\r\n",
        "    premium_4 = np.ceil(premium_4*0.9/t1) * t1\r\n",
        "  tenure_1 = np.ceil(policy_amt1/premium_1)\r\n",
        "  tenure_2 = np.ceil(policy_amt2/premium_2)\r\n",
        "  tenure_3 = np.ceil(policy_amt3/premium_3)\r\n",
        "  tenure_4 = np.ceil(policy_amt4/premium_4)\r\n",
        "\r\n",
        "  return inputs, health, policy_amt1,policy_amt2,policy_amt3,policy_amt4, policy_coverage_1,policy_coverage_2,policy_coverage_3,policy_coverage_4,premium_1,premium_2,premium_3,premium_4,tenure_1,tenure_2,tenure_3,tenure_4"
      ],
      "execution_count": null,
      "outputs": []
    },
    {
      "cell_type": "markdown",
      "metadata": {
        "id": "UjjBNWMqBZ9y"
      },
      "source": [
        "### Model code for Prediction"
      ]
    },
    {
      "cell_type": "code",
      "metadata": {
        "id": "P4N-JP1O7Jjf"
      },
      "source": [
        "def predict_rf(inputs):\r\n",
        "  clf = pickle.load(open('/content/RFClassifier.sav', 'rb'))\r\n",
        "  pred = clf.predict(inputs)\r\n",
        "  return pred"
      ],
      "execution_count": null,
      "outputs": []
    },
    {
      "cell_type": "code",
      "metadata": {
        "id": "XIyPFLkG7dye"
      },
      "source": [
        "def bayesian_neural_network(inputs):\r\n",
        "  n_epochs = 25\r\n",
        "  X_test = np.array([inputs, inputs])\r\n",
        "  y_test = np.array([inputs, inputs])\r\n",
        "  test_set = tf.data.Dataset.from_tensor_slices((X_test, y_test))\r\n",
        "  test_set = test_set.shuffle(len(X_test), reshuffle_each_iteration=True)\r\n",
        "  testing_data = test_set.take(len(X_test)).batch(1).repeat(n_epochs)\r\n",
        "  samples = 2\r\n",
        "  iterations = 10 \r\n",
        "  test_iterator = tf.compat.v1.data.make_one_shot_iterator(testing_data)\r\n",
        "  X_true, Y_true, Y_pred = np.empty(shape=(samples, len(inputs))), np.empty(shape=(samples, len(inputs))), np.empty(shape=(samples, len(inputs), iterations))\r\n",
        "  for i in range(samples):\r\n",
        "    features, labels = test_iterator.get_next()\r\n",
        "    X_true[i,:] = features\r\n",
        "    Y_true[i,:] = labels.numpy()\r\n",
        "    for k in range(iterations):\r\n",
        "        Y_pred[i,:,k] = model.predict(features)\r\n",
        "    Y_pred_m = np.mean(Y_pred, axis=-1)\r\n",
        "    y_pred = np.round(Y_pred_m)\r\n",
        "    return y_pred[0]"
      ],
      "execution_count": null,
      "outputs": []
    },
    {
      "cell_type": "markdown",
      "metadata": {
        "id": "CQBchI-yBiC_"
      },
      "source": [
        "### Finally Predict and Recommend best policies"
      ]
    },
    {
      "cell_type": "code",
      "metadata": {
        "id": "peQ6lKpgZ4Pj"
      },
      "source": [
        "def recommend_policy():\r\n",
        "  inputs, health, policy_amt1,policy_amt2,policy_amt3,policy_amt4, policy_coverage_1,policy_coverage_2,policy_coverage_3,policy_coverage_4,premium_1,premium_2,premium_3,premium_4,tenure_1,tenure_2,tenure_3,tenure_4= calculate_premium()\r\n",
        "  policy_recommendations = bayesian_neural_network(inputs)\r\n",
        "  print('Recommending Following Policies based on your preferences:')\r\n",
        "  print(policy_recommendations)\r\n",
        "  for i in range(0,5):\r\n",
        "    if(policy_recommendations[i] == 1):\r\n",
        "      if(inputs[2] == 1 or inputs[0] == 1):\r\n",
        "        j = i + 5\r\n",
        "        print('=======================')\r\n",
        "        print('Policy Number {}'.format(i))\r\n",
        "        print('Policy Amount: ₹{:,.2f}'.format(policy_amt1[i]))\r\n",
        "        print('Policy Coverage: ₹{:,.2f} + additional'.format(policy_coverage_1[i]))\r\n",
        "        print('Policy Premium: ₹{:,.2f}'.format(premium_1[i]))\r\n",
        "        print('Tenure: {} Years'.format(tenure_1[i]))\r\n",
        "        print('=======================')\r\n",
        "        print('Policy Number {}'.format(j))\r\n",
        "        print('Policy Amount: ₹{:,.2f}'.format(policy_amt2[i]))\r\n",
        "        print('Policy Coverage: ₹{:,.2f} + additional'.format(policy_coverage_2[i]))\r\n",
        "        print('Policy Premium: ₹{:,.2f}'.format(premium_2[i]))\r\n",
        "        print('Tenure: {} Years'.format(tenure_2[i]))\r\n",
        "      elif(inputs[2] == 3):\r\n",
        "        k = i + 10\r\n",
        "        l = i + 15\r\n",
        "        print('=======================')\r\n",
        "        print('Policy Number {}'.format(k))\r\n",
        "        print('Policy Amount: ₹{:,.2f}'.format(policy_amt3[i]))\r\n",
        "        print('Policy Coverage: ₹{:,.2f} + additional'.format(policy_coverage_3[i]))\r\n",
        "        print('Policy Premium: ₹{:,.2f}'.format(premium_3[i]))\r\n",
        "        print('Tenure: {} Years'.format(tenure_3[i]))\r\n",
        "        print('=======================')\r\n",
        "        print('Policy Number {}'.format(l))\r\n",
        "        print('Policy Amount: ₹{:,.2f}'.format(policy_amt4[i]))\r\n",
        "        print('Policy Coverage: ₹{:,.2f} + additional'.format(policy_coverage_4[i]))\r\n",
        "        print('Policy Premium: ₹{:,.2f}'.format(premium_4[i]))\r\n",
        "        print('Tenure: {} Years'.format(tenure_4[i]))\r\n",
        "      elif(inputs[2] == 2):\r\n",
        "        j = i + 5\r\n",
        "        print('=======================')\r\n",
        "        print('Policy Number {}'.format(i))\r\n",
        "        print('Policy Amount: ₹{:,.2f}'.format(policy_amt2[i]))\r\n",
        "        print('Policy Coverage: ₹{:,.2f} + additional'.format(policy_coverage_2[i]))\r\n",
        "        print('Policy Premium: ₹{:,.2f}'.format(premium_2[i]))\r\n",
        "        print('Tenure: {} Years'.format(tenure_2[i]))\r\n",
        "  if(inputs[2] == 2 and inputs[1] == 0):\r\n",
        "    print('=======================')\r\n",
        "    print('Policy Number {}'.format(10))\r\n",
        "    print('Policy Amount: ₹{:,.2f}'.format(policy_amt2[4]))\r\n",
        "    print('Policy Coverage: ₹{:,.2f} + additional'.format(policy_coverage_2[4]))\r\n",
        "    print('Policy Premium: ₹{:,.2f}'.format(premium_2[4]))\r\n",
        "    print('Tenure: {} Years'.format(tenure_2[4]))\r\n",
        "    print('=======================')\r\n",
        "    print('Policy Number {}'.format(20))\r\n",
        "    print('Policy Amount: ₹{:,.2f}'.format(policy_amt4[4]))\r\n",
        "    print('Policy Coverage: ₹{:,.2f} + additional'.format(policy_coverage_4[4]))\r\n",
        "    print('Policy Premium: ₹{:,.2f}'.format(premium_4[4]))\r\n",
        "    print('Tenure: {} Years'.format(tenure_4[4]))\r\n",
        "  if(all(policy_recommendations) == 0):\r\n",
        "    ch = [2,3,4]\r\n",
        "    select = random.choice(ch)\r\n",
        "    print('=======================')\r\n",
        "    print('Policy Number {}'.format(select))\r\n",
        "    print('Policy Amount: ₹{:,.2f}'.format(policy_amt1[select]))\r\n",
        "    print('Policy Coverage: ₹{:,.2f} + additional'.format(policy_coverage_1[select]))\r\n",
        "    print('Policy Premium: ₹{:,.2f}'.format(premium_1[select]))\r\n",
        "    print('Tenure: {} Years'.format(tenure_1[select]))\r\n",
        "    print('=======================')\r\n",
        "    select = random.choice(ch)\r\n",
        "    print('Policy Number {}'.format(select + 5))\r\n",
        "    print('Policy Amount: ₹{:,.2f}'.format(policy_amt2[select]))\r\n",
        "    print('Policy Coverage: ₹{:,.2f} + additional'.format(policy_coverage_2[select]))\r\n",
        "    print('Policy Premium: ₹{:,.2f}'.format(premium_2[select]))\r\n",
        "    print('Tenure: {} Years'.format(tenure_2[select]))\r\n",
        "    print('=======================')\r\n",
        "    select = random.choice(ch)\r\n",
        "    print('Policy Number {}'.format(select + 10))\r\n",
        "    print('Policy Amount: ₹{:,.2f}'.format(policy_amt3[select]))\r\n",
        "    print('Policy Coverage: ₹{:,.2f} + additional'.format(policy_coverage_3[select]))\r\n",
        "    print('Policy Premium: ₹{:,.2f}'.format(premium_3[select]))\r\n",
        "    print('Tenure: {} Years'.format(tenure_3[select]))"
      ],
      "execution_count": null,
      "outputs": []
    },
    {
      "cell_type": "code",
      "metadata": {
        "colab": {
          "base_uri": "https://localhost:8080/"
        },
        "id": "To9TdZt77tSp",
        "outputId": "318dc4d9-13c4-41e6-bd7c-5b215312043b"
      },
      "source": [
        "recommend_policy()"
      ],
      "execution_count": null,
      "outputs": [
        {
          "output_type": "stream",
          "text": [
            "What is your Gender {Male/Female}\n",
            "Male\n",
            "What is your Marital Status {Married/Unmarried}\n",
            "Married\n",
            "What is your Age {Below 25 Years, 25-40 Years, 41-60 Years, Above 60 Years\n",
            "Above 60 Years\n",
            " What is your occupation{Corporate Employee, Enterpreneur, Medical Professional, Military Service, Self Employed}\n",
            "Corporate Employee\n",
            "What is your income {0-5 lac,10-20 lac,20-30 lac,30-40 lac,40-50 lac,5-10 lac}\n",
            "20-30 lac\n",
            "Did you have any Serious Medical ailment in past 2 years? {Yes/No}\n",
            "Yes\n",
            "Recommending Following Policies based on your preferences:\n",
            "[1. 1. 0. 0. 0.]\n",
            "=======================\n",
            "Policy Number 0\n",
            "Policy Amount: ₹900,000.00\n",
            "Policy Coverage: ₹300,000.00 + additional\n",
            "Policy Premium: ₹61,000.00\n",
            "Tenure: 15.0 Years\n",
            "=======================\n",
            "Policy Number 1\n",
            "Policy Amount: ₹400,000.00\n",
            "Policy Coverage: ₹140,000.00 + additional\n",
            "Policy Premium: ₹81,000.00\n",
            "Tenure: 5.0 Years\n",
            "=======================\n",
            "Policy Number 10\n",
            "Policy Amount: ₹350,000.00\n",
            "Policy Coverage: ₹120,000.00 + additional\n",
            "Policy Premium: ₹52,000.00\n",
            "Tenure: 7.0 Years\n",
            "=======================\n",
            "Policy Number 20\n",
            "Policy Amount: ₹375,000.00\n",
            "Policy Coverage: ₹140,000.00 + additional\n",
            "Policy Premium: ₹52,000.00\n",
            "Tenure: 8.0 Years\n",
            "=======================\n",
            "Policy Number 4\n",
            "Policy Amount: ₹450,000.00\n",
            "Policy Coverage: ₹140,000.00 + additional\n",
            "Policy Premium: ₹38,000.00\n",
            "Tenure: 12.0 Years\n",
            "=======================\n",
            "Policy Number 7\n",
            "Policy Amount: ₹150,000.00\n",
            "Policy Coverage: ₹50,000.00 + additional\n",
            "Policy Premium: ₹21,000.00\n",
            "Tenure: 8.0 Years\n",
            "=======================\n",
            "Policy Number 13\n",
            "Policy Amount: ₹1,150,000.00\n",
            "Policy Coverage: ₹400,000.00 + additional\n",
            "Policy Premium: ₹92,000.00\n",
            "Tenure: 13.0 Years\n"
          ],
          "name": "stdout"
        }
      ]
    },
    {
      "cell_type": "code",
      "metadata": {
        "id": "A1K6olBcPSTG"
      },
      "source": [
        ""
      ],
      "execution_count": null,
      "outputs": []
    }
  ]
}